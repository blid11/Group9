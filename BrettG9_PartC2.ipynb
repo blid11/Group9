{
  "cells": [
    {
      "cell_type": "markdown",
      "metadata": {
        "id": "view-in-github",
        "colab_type": "text"
      },
      "source": [
        "<a href=\"https://colab.research.google.com/github/blid11/Group9/blob/Brett/BrettG9_PartC2.ipynb\" target=\"_parent\"><img src=\"https://colab.research.google.com/assets/colab-badge.svg\" alt=\"Open In Colab\"/></a>"
      ]
    },
    {
      "cell_type": "markdown",
      "source": [
        "# Xinwei' work\n"
      ],
      "metadata": {
        "id": "nWGJholPn33v"
      }
    },
    {
      "cell_type": "markdown",
      "source": [
        "I have been created the 4 model - random forest, logistic regression, SVM, and Multilayer perception.\n",
        "number of features depend on the cumulatife explained variance ratio (generally chossing number which >= 90%) "
      ],
      "metadata": {
        "id": "ReXkHkZcorkS"
      }
    },
    {
      "cell_type": "code",
      "source": [
        "# Import libaries needed\n",
        "import pandas as pd\n",
        "from keras.models import Sequential\n",
        "from keras.layers import Dense\n",
        "from keras.wrappers.scikit_learn import KerasClassifier\n",
        "from keras.utils import np_utils\n",
        "from sklearn.model_selection import train_test_split # split data into training and testing sets\n",
        "from sklearn.preprocessing import scale # scale and canter data\n",
        "from sklearn.svm import SVC # make a svm for classification\n",
        "from sklearn.model_selection import GridSearchCV # do cross validation\n",
        "from sklearn.metrics import confusion_matrix # creates a confusion matrix\n",
        "from sklearn.metrics import plot_confusion_matrix # draw confutionm matrix\n",
        "from sklearn.decomposition import PCA # perform PAC to plot the data\n",
        "import matplotlib.pyplot as plt\n",
        "from matplotlib import style \n",
        "import numpy as np\n",
        "import seaborn as sns\n"
      ],
      "metadata": {
        "id": "9h8e6rufoq-s"
      },
      "execution_count": null,
      "outputs": []
    },
    {
      "cell_type": "code",
      "source": [
        "from google.colab import drive \n",
        "drive.mount('/content/gdrive', force_remount=True)\n",
        "\n",
        "%cd gdrive/My Drive/G9A2/G9\n",
        " \n",
        "#%cd gdrive/My Drive/G9A2\n",
        "# I made a folder on my google drive that has the G9 Methylation data and the binfpy library\n",
        "#this code automatically loads it in\n",
        "# you can do the same with your google drive. \n",
        "# restart runtime if you experience errors!"
      ],
      "metadata": {
        "colab": {
          "base_uri": "https://localhost:8080/"
        },
        "id": "uFIumj0w2JpL",
        "outputId": "eda84b56-d36f-43e1-9cd6-c4f5cb3228a6"
      },
      "execution_count": 4,
      "outputs": [
        {
          "output_type": "stream",
          "name": "stdout",
          "text": [
            "Mounted at /content/gdrive\n",
            "/content/gdrive/My Drive/G9A2/G9\n"
          ]
        }
      ]
    },
    {
      "cell_type": "code",
      "source": [
        "!ls"
      ],
      "metadata": {
        "id": "PqpS2PFLKt3g",
        "outputId": "78c4d079-bbc7-4753-ae99-fca6bbf322df",
        "colab": {
          "base_uri": "https://localhost:8080/"
        }
      },
      "execution_count": null,
      "outputs": [
        {
          "output_type": "stream",
          "name": "stdout",
          "text": [
            "G9_liver_dna-meth.csv\tmystery_dna-meth.csv\n",
            "G9_liver_gene-expr.csv\tmystery_gene-expr.csv\n"
          ]
        }
      ]
    },
    {
      "cell_type": "code",
      "source": [
        "# load the data \n",
        "liver_gene = pd.read_csv('G9_liver_gene-expr.csv', index_col=0)\n",
        "liver_methyl = pd.read_csv('G9_liver_dna-meth.csv', index_col=0)\n",
        "\n",
        "mys_gene = pd.read_csv(\"mystery_gene-expr.csv\", index_col=0) \n",
        "mys_methyl = pd.read_csv(\"mystery_dna-meth.csv\",index_col=0)"
      ],
      "metadata": {
        "id": "dQZnb_F96Zro"
      },
      "execution_count": 71,
      "outputs": []
    },
    {
      "cell_type": "code",
      "source": [
        "liver_gene.head(n=2)"
      ],
      "metadata": {
        "colab": {
          "base_uri": "https://localhost:8080/",
          "height": 240
        },
        "id": "xHZug8l37xo2",
        "outputId": "5493fc19-2896-4810-8c2f-06efe1abeaaf"
      },
      "execution_count": null,
      "outputs": [
        {
          "output_type": "execute_result",
          "data": {
            "text/plain": [
              "                         Label  X..100130426  X..100133144  X..100134869  \\\n",
              "TCGA.2V.A95S.01  Primary Tumor           0.0        1.5051        3.7074   \n",
              "TCGA.2Y.A9GS.01  Primary Tumor           0.0       26.4120        2.6663   \n",
              "\n",
              "                 X..10357   X..10431  X..136542  X..155060  X..26823  \\\n",
              "TCGA.2V.A95S.01   90.1124  1017.1038        0.0   141.3911    0.6516   \n",
              "TCGA.2Y.A9GS.01   71.0054   639.2311        0.0   122.7206    1.4786   \n",
              "\n",
              "                 X..280660  ...  ZXDA.7789  ZXDB.158586  ZXDC.79364  \\\n",
              "TCGA.2V.A95S.01        0.0  ...    24.7597     273.6602    794.2662   \n",
              "TCGA.2Y.A9GS.01        0.0  ...    68.5067     632.8241   1153.7703   \n",
              "\n",
              "                 ZYG11A.440590  ZYG11B.79699   ZYX.7791  ZZEF1.23140  \\\n",
              "TCGA.2V.A95S.01        18.2440      499.1041  3172.5037     890.0472   \n",
              "TCGA.2Y.A9GS.01        71.4638     1000.4929  5301.1336     755.5446   \n",
              "\n",
              "                 ZZZ3.26009  psiTPTE22.387590  tAKR.389932  \n",
              "TCGA.2V.A95S.01    510.1808            3.9094       6.5157  \n",
              "TCGA.2Y.A9GS.01    860.5224            6.4071     482.9966  \n",
              "\n",
              "[2 rows x 20532 columns]"
            ],
            "text/html": [
              "\n",
              "  <div id=\"df-d78c66c2-5f5c-4bd3-86a8-826b95b296d8\">\n",
              "    <div class=\"colab-df-container\">\n",
              "      <div>\n",
              "<style scoped>\n",
              "    .dataframe tbody tr th:only-of-type {\n",
              "        vertical-align: middle;\n",
              "    }\n",
              "\n",
              "    .dataframe tbody tr th {\n",
              "        vertical-align: top;\n",
              "    }\n",
              "\n",
              "    .dataframe thead th {\n",
              "        text-align: right;\n",
              "    }\n",
              "</style>\n",
              "<table border=\"1\" class=\"dataframe\">\n",
              "  <thead>\n",
              "    <tr style=\"text-align: right;\">\n",
              "      <th></th>\n",
              "      <th>Label</th>\n",
              "      <th>X..100130426</th>\n",
              "      <th>X..100133144</th>\n",
              "      <th>X..100134869</th>\n",
              "      <th>X..10357</th>\n",
              "      <th>X..10431</th>\n",
              "      <th>X..136542</th>\n",
              "      <th>X..155060</th>\n",
              "      <th>X..26823</th>\n",
              "      <th>X..280660</th>\n",
              "      <th>...</th>\n",
              "      <th>ZXDA.7789</th>\n",
              "      <th>ZXDB.158586</th>\n",
              "      <th>ZXDC.79364</th>\n",
              "      <th>ZYG11A.440590</th>\n",
              "      <th>ZYG11B.79699</th>\n",
              "      <th>ZYX.7791</th>\n",
              "      <th>ZZEF1.23140</th>\n",
              "      <th>ZZZ3.26009</th>\n",
              "      <th>psiTPTE22.387590</th>\n",
              "      <th>tAKR.389932</th>\n",
              "    </tr>\n",
              "  </thead>\n",
              "  <tbody>\n",
              "    <tr>\n",
              "      <th>TCGA.2V.A95S.01</th>\n",
              "      <td>Primary Tumor</td>\n",
              "      <td>0.0</td>\n",
              "      <td>1.5051</td>\n",
              "      <td>3.7074</td>\n",
              "      <td>90.1124</td>\n",
              "      <td>1017.1038</td>\n",
              "      <td>0.0</td>\n",
              "      <td>141.3911</td>\n",
              "      <td>0.6516</td>\n",
              "      <td>0.0</td>\n",
              "      <td>...</td>\n",
              "      <td>24.7597</td>\n",
              "      <td>273.6602</td>\n",
              "      <td>794.2662</td>\n",
              "      <td>18.2440</td>\n",
              "      <td>499.1041</td>\n",
              "      <td>3172.5037</td>\n",
              "      <td>890.0472</td>\n",
              "      <td>510.1808</td>\n",
              "      <td>3.9094</td>\n",
              "      <td>6.5157</td>\n",
              "    </tr>\n",
              "    <tr>\n",
              "      <th>TCGA.2Y.A9GS.01</th>\n",
              "      <td>Primary Tumor</td>\n",
              "      <td>0.0</td>\n",
              "      <td>26.4120</td>\n",
              "      <td>2.6663</td>\n",
              "      <td>71.0054</td>\n",
              "      <td>639.2311</td>\n",
              "      <td>0.0</td>\n",
              "      <td>122.7206</td>\n",
              "      <td>1.4786</td>\n",
              "      <td>0.0</td>\n",
              "      <td>...</td>\n",
              "      <td>68.5067</td>\n",
              "      <td>632.8241</td>\n",
              "      <td>1153.7703</td>\n",
              "      <td>71.4638</td>\n",
              "      <td>1000.4929</td>\n",
              "      <td>5301.1336</td>\n",
              "      <td>755.5446</td>\n",
              "      <td>860.5224</td>\n",
              "      <td>6.4071</td>\n",
              "      <td>482.9966</td>\n",
              "    </tr>\n",
              "  </tbody>\n",
              "</table>\n",
              "<p>2 rows × 20532 columns</p>\n",
              "</div>\n",
              "      <button class=\"colab-df-convert\" onclick=\"convertToInteractive('df-d78c66c2-5f5c-4bd3-86a8-826b95b296d8')\"\n",
              "              title=\"Convert this dataframe to an interactive table.\"\n",
              "              style=\"display:none;\">\n",
              "        \n",
              "  <svg xmlns=\"http://www.w3.org/2000/svg\" height=\"24px\"viewBox=\"0 0 24 24\"\n",
              "       width=\"24px\">\n",
              "    <path d=\"M0 0h24v24H0V0z\" fill=\"none\"/>\n",
              "    <path d=\"M18.56 5.44l.94 2.06.94-2.06 2.06-.94-2.06-.94-.94-2.06-.94 2.06-2.06.94zm-11 1L8.5 8.5l.94-2.06 2.06-.94-2.06-.94L8.5 2.5l-.94 2.06-2.06.94zm10 10l.94 2.06.94-2.06 2.06-.94-2.06-.94-.94-2.06-.94 2.06-2.06.94z\"/><path d=\"M17.41 7.96l-1.37-1.37c-.4-.4-.92-.59-1.43-.59-.52 0-1.04.2-1.43.59L10.3 9.45l-7.72 7.72c-.78.78-.78 2.05 0 2.83L4 21.41c.39.39.9.59 1.41.59.51 0 1.02-.2 1.41-.59l7.78-7.78 2.81-2.81c.8-.78.8-2.07 0-2.86zM5.41 20L4 18.59l7.72-7.72 1.47 1.35L5.41 20z\"/>\n",
              "  </svg>\n",
              "      </button>\n",
              "      \n",
              "  <style>\n",
              "    .colab-df-container {\n",
              "      display:flex;\n",
              "      flex-wrap:wrap;\n",
              "      gap: 12px;\n",
              "    }\n",
              "\n",
              "    .colab-df-convert {\n",
              "      background-color: #E8F0FE;\n",
              "      border: none;\n",
              "      border-radius: 50%;\n",
              "      cursor: pointer;\n",
              "      display: none;\n",
              "      fill: #1967D2;\n",
              "      height: 32px;\n",
              "      padding: 0 0 0 0;\n",
              "      width: 32px;\n",
              "    }\n",
              "\n",
              "    .colab-df-convert:hover {\n",
              "      background-color: #E2EBFA;\n",
              "      box-shadow: 0px 1px 2px rgba(60, 64, 67, 0.3), 0px 1px 3px 1px rgba(60, 64, 67, 0.15);\n",
              "      fill: #174EA6;\n",
              "    }\n",
              "\n",
              "    [theme=dark] .colab-df-convert {\n",
              "      background-color: #3B4455;\n",
              "      fill: #D2E3FC;\n",
              "    }\n",
              "\n",
              "    [theme=dark] .colab-df-convert:hover {\n",
              "      background-color: #434B5C;\n",
              "      box-shadow: 0px 1px 3px 1px rgba(0, 0, 0, 0.15);\n",
              "      filter: drop-shadow(0px 1px 2px rgba(0, 0, 0, 0.3));\n",
              "      fill: #FFFFFF;\n",
              "    }\n",
              "  </style>\n",
              "\n",
              "      <script>\n",
              "        const buttonEl =\n",
              "          document.querySelector('#df-d78c66c2-5f5c-4bd3-86a8-826b95b296d8 button.colab-df-convert');\n",
              "        buttonEl.style.display =\n",
              "          google.colab.kernel.accessAllowed ? 'block' : 'none';\n",
              "\n",
              "        async function convertToInteractive(key) {\n",
              "          const element = document.querySelector('#df-d78c66c2-5f5c-4bd3-86a8-826b95b296d8');\n",
              "          const dataTable =\n",
              "            await google.colab.kernel.invokeFunction('convertToInteractive',\n",
              "                                                     [key], {});\n",
              "          if (!dataTable) return;\n",
              "\n",
              "          const docLinkHtml = 'Like what you see? Visit the ' +\n",
              "            '<a target=\"_blank\" href=https://colab.research.google.com/notebooks/data_table.ipynb>data table notebook</a>'\n",
              "            + ' to learn more about interactive tables.';\n",
              "          element.innerHTML = '';\n",
              "          dataTable['output_type'] = 'display_data';\n",
              "          await google.colab.output.renderOutput(dataTable, element);\n",
              "          const docLink = document.createElement('div');\n",
              "          docLink.innerHTML = docLinkHtml;\n",
              "          element.appendChild(docLink);\n",
              "        }\n",
              "      </script>\n",
              "    </div>\n",
              "  </div>\n",
              "  "
            ]
          },
          "metadata": {},
          "execution_count": 16
        }
      ]
    },
    {
      "cell_type": "code",
      "source": [
        "liver_methyl.head(n=2)"
      ],
      "metadata": {
        "id": "IqWOTbA970GK"
      },
      "execution_count": null,
      "outputs": []
    },
    {
      "cell_type": "markdown",
      "source": [
        "## 1. Data Preparation\n",
        "\n"
      ],
      "metadata": {
        "id": "35mnUknT6mrW"
      }
    },
    {
      "cell_type": "markdown",
      "source": [
        "### 1.1 Data Cleaning\n",
        "- Rows without labels should be removed. \n",
        "- Separate Data and Labels\n",
        "- NA values may need to be replaced for impute functions to work."
      ],
      "metadata": {
        "id": "Qjqp75eH9K9G"
      }
    },
    {
      "cell_type": "markdown",
      "source": [
        "#### Separate Data and Labels"
      ],
      "metadata": {
        "id": "WQgftov6-YGX"
      }
    },
    {
      "cell_type": "code",
      "source": [
        "# Data for liver datasets\n",
        "liver_gene_data = liver_gene[liver_gene.columns[2:]]\n",
        "liver_methyl_data = liver_methyl[liver_methyl.columns[2:]]\n",
        "# For mystery datasets\n",
        "mys_gene_data = mys_gene[mys_gene.columns[2:]]\n",
        "mys_methyl_data = mys_methyl[mys_methyl.columns[2:]]\n",
        "\n",
        "# Labels for liver datasets\n",
        "liver_gene_labels = [1 if value == 'Primary Tumor' else 0 for value in liver_gene['Label'].values]\n",
        "liver_methyl_labels = [1 if value == 'Primary Tumor' else 0 for value in liver_methyl['Label'].values]\n",
        "# Labels for mystery datasets\n",
        "mys_methyl_labels = [1 if value == 'Primary Tumor' else 0 for value in mys_gene['Label'].values]\n",
        "mys_gene_labels = [1 if value == 'Primary Tumor' else 0 for value in mys_methyl['Label'].values]\n"
      ],
      "metadata": {
        "id": "Kj-u-Alr-moQ"
      },
      "execution_count": 72,
      "outputs": []
    },
    {
      "cell_type": "markdown",
      "source": [
        "## 2. Pre-processing Data"
      ],
      "metadata": {
        "id": "8e1SlUSVFuLo"
      }
    },
    {
      "cell_type": "markdown",
      "source": [
        "### Log base 2 of data and log fold change."
      ],
      "metadata": {
        "id": "uKSxAEsMd8MQ"
      }
    },
    {
      "cell_type": "code",
      "source": [
        "for col_name in liver_gene_data.columns:\n",
        "  #IMPUTE data\n",
        "  col_data = liver_gene_data[col_name].fillna(liver_gene_data[col_name].mean(skipna= True))\n",
        "  #take log base 2\n",
        "  col_data = pd.to_numeric(np.log2(col_data.values + 1))\n",
        "  liver_gene_data[col_name] = col_data\n",
        "\n",
        "lg_logs_solid_tum = pd.DataFrame()\n",
        "lg_logs_primary_tum = pd.DataFrame()\n",
        "\n",
        "index = 0 \n",
        "for label in liver_gene_labels:\n",
        "  if label: \n",
        "    lg_logs_solid_tum = pd.concat([lg_logs_solid_tum, liver_gene_data.iloc[[index]]], axis= 0)\n",
        "  else:\n",
        "    lg_logs_primary_tum = pd.concat([lg_logs_primary_tum, liver_gene_data.iloc[[index]]], axis = 0)\n",
        "  index += 1\n",
        "\n",
        "lg_log_fcs = {}\n",
        "\n",
        "for col_name in lg_logs_solid_tum.columns:\n",
        "  fc_solid = lg_logs_solid_tum[col_name].mean()\n",
        "  fc_prim = lg_logs_primary_tum[col_name].mean()\n",
        "  log2fc = abs(fc_solid - fc_prim)\n",
        "  lg_log_fcs[col_name] = log2fc\n",
        "\n",
        "keep_genes = []\n",
        "for gene in lg_log_fcs.keys():\n",
        "  if lg_log_fcs[gene] > 1: \n",
        "    keep_genes.append(gene)\n",
        "\n",
        "liver_gene_data2 = liver_gene_data[keep_genes]\n",
        "print(liver_gene_data2.shape)\n"
      ],
      "metadata": {
        "id": "xI7-OudPYX4k",
        "colab": {
          "base_uri": "https://localhost:8080/"
        },
        "outputId": "02140e32-f7e6-4649-8f60-2a8897bf5c7e"
      },
      "execution_count": 73,
      "outputs": [
        {
          "output_type": "stream",
          "name": "stderr",
          "text": [
            "/usr/local/lib/python3.7/dist-packages/ipykernel_launcher.py:6: SettingWithCopyWarning: \n",
            "A value is trying to be set on a copy of a slice from a DataFrame.\n",
            "Try using .loc[row_indexer,col_indexer] = value instead\n",
            "\n",
            "See the caveats in the documentation: https://pandas.pydata.org/pandas-docs/stable/user_guide/indexing.html#returning-a-view-versus-a-copy\n",
            "  \n"
          ]
        },
        {
          "output_type": "stream",
          "name": "stdout",
          "text": [
            "(421, 3696)\n"
          ]
        }
      ]
    },
    {
      "cell_type": "code",
      "source": [
        "liver_gene_data2.head()"
      ],
      "metadata": {
        "colab": {
          "base_uri": "https://localhost:8080/",
          "height": 299
        },
        "id": "zAeSuW0-xPBH",
        "outputId": "913c6e8d-9d03-4d46-bdcb-ebd486371cef"
      },
      "execution_count": 65,
      "outputs": [
        {
          "output_type": "execute_result",
          "data": {
            "text/plain": [
              "                 X..155060  X..653553     A1BG.1      A2M.2  AAA1.404744  \\\n",
              "TCGA.2V.A95S.01   7.153715   9.630558  14.443673  18.127270     0.723864   \n",
              "TCGA.2Y.A9GS.01   6.950942   9.070705  14.466773  14.927845     0.578118   \n",
              "TCGA.2Y.A9GT.01   6.585654   6.714419  16.245087  14.252355     1.883621   \n",
              "TCGA.2Y.A9GU.01   8.135816   8.393708  13.186655  17.896176     0.000000   \n",
              "TCGA.2Y.A9GV.01   8.147571   7.605401  16.362278  13.096133     3.241871   \n",
              "\n",
              "                  AADAC.13  AADAT.51166  AASS.10157    ABAT.18  ABCA13.154664  \\\n",
              "TCGA.2V.A95S.01  10.414410     4.687044    5.601836  10.584448       0.000000   \n",
              "TCGA.2Y.A9GS.01  13.339532     7.292245    8.815327  13.453890       4.265707   \n",
              "TCGA.2Y.A9GT.01  12.764681     8.906339   11.557786  13.618564       4.706337   \n",
              "TCGA.2Y.A9GU.01  12.727613     5.204297   10.440706  13.239476       2.116564   \n",
              "TCGA.2Y.A9GV.01  12.794975     9.268905    9.447338  14.493701       3.775093   \n",
              "\n",
              "                 ...  ZNF85.7639  ZNF862.643641  ZNF883.169834  ZP3.7784  \\\n",
              "TCGA.2V.A95S.01  ...    4.449581       8.080822       2.295547  6.792106   \n",
              "TCGA.2Y.A9GS.01  ...    6.831162       7.953729       5.455436  5.110760   \n",
              "TCGA.2Y.A9GT.01  ...    4.603668       8.389972       1.481971  3.939847   \n",
              "TCGA.2Y.A9GU.01  ...    3.088701       9.666433       1.415921  4.870069   \n",
              "TCGA.2Y.A9GV.01  ...    4.020449       8.629696       2.132281  5.608818   \n",
              "\n",
              "                 ZPLD1.131368  ZSCAN16.80345  ZSWIM5.57643  ZWINT.11130  \\\n",
              "TCGA.2V.A95S.01      4.266337       7.072028      8.118516     8.858813   \n",
              "TCGA.2Y.A9GS.01      7.662327       6.707145      9.772858     9.298936   \n",
              "TCGA.2Y.A9GT.01      0.000000       6.303626      3.181087     8.165080   \n",
              "TCGA.2Y.A9GU.01      0.875072       6.133576      6.008868     8.818376   \n",
              "TCGA.2Y.A9GV.01      0.000000       6.899364      1.428678     6.655793   \n",
              "\n",
              "                 psiTPTE22.387590  tAKR.389932  \n",
              "TCGA.2V.A95S.01          2.295547     2.909907  \n",
              "TCGA.2Y.A9GS.01          2.888909     8.918853  \n",
              "TCGA.2Y.A9GT.01          3.939847     6.398990  \n",
              "TCGA.2Y.A9GU.01          1.808344     1.808344  \n",
              "TCGA.2Y.A9GV.01          1.822975     6.910365  \n",
              "\n",
              "[5 rows x 3696 columns]"
            ],
            "text/html": [
              "\n",
              "  <div id=\"df-1341ff88-5c63-49ba-8795-ca47d57d8034\">\n",
              "    <div class=\"colab-df-container\">\n",
              "      <div>\n",
              "<style scoped>\n",
              "    .dataframe tbody tr th:only-of-type {\n",
              "        vertical-align: middle;\n",
              "    }\n",
              "\n",
              "    .dataframe tbody tr th {\n",
              "        vertical-align: top;\n",
              "    }\n",
              "\n",
              "    .dataframe thead th {\n",
              "        text-align: right;\n",
              "    }\n",
              "</style>\n",
              "<table border=\"1\" class=\"dataframe\">\n",
              "  <thead>\n",
              "    <tr style=\"text-align: right;\">\n",
              "      <th></th>\n",
              "      <th>X..155060</th>\n",
              "      <th>X..653553</th>\n",
              "      <th>A1BG.1</th>\n",
              "      <th>A2M.2</th>\n",
              "      <th>AAA1.404744</th>\n",
              "      <th>AADAC.13</th>\n",
              "      <th>AADAT.51166</th>\n",
              "      <th>AASS.10157</th>\n",
              "      <th>ABAT.18</th>\n",
              "      <th>ABCA13.154664</th>\n",
              "      <th>...</th>\n",
              "      <th>ZNF85.7639</th>\n",
              "      <th>ZNF862.643641</th>\n",
              "      <th>ZNF883.169834</th>\n",
              "      <th>ZP3.7784</th>\n",
              "      <th>ZPLD1.131368</th>\n",
              "      <th>ZSCAN16.80345</th>\n",
              "      <th>ZSWIM5.57643</th>\n",
              "      <th>ZWINT.11130</th>\n",
              "      <th>psiTPTE22.387590</th>\n",
              "      <th>tAKR.389932</th>\n",
              "    </tr>\n",
              "  </thead>\n",
              "  <tbody>\n",
              "    <tr>\n",
              "      <th>TCGA.2V.A95S.01</th>\n",
              "      <td>7.153715</td>\n",
              "      <td>9.630558</td>\n",
              "      <td>14.443673</td>\n",
              "      <td>18.127270</td>\n",
              "      <td>0.723864</td>\n",
              "      <td>10.414410</td>\n",
              "      <td>4.687044</td>\n",
              "      <td>5.601836</td>\n",
              "      <td>10.584448</td>\n",
              "      <td>0.000000</td>\n",
              "      <td>...</td>\n",
              "      <td>4.449581</td>\n",
              "      <td>8.080822</td>\n",
              "      <td>2.295547</td>\n",
              "      <td>6.792106</td>\n",
              "      <td>4.266337</td>\n",
              "      <td>7.072028</td>\n",
              "      <td>8.118516</td>\n",
              "      <td>8.858813</td>\n",
              "      <td>2.295547</td>\n",
              "      <td>2.909907</td>\n",
              "    </tr>\n",
              "    <tr>\n",
              "      <th>TCGA.2Y.A9GS.01</th>\n",
              "      <td>6.950942</td>\n",
              "      <td>9.070705</td>\n",
              "      <td>14.466773</td>\n",
              "      <td>14.927845</td>\n",
              "      <td>0.578118</td>\n",
              "      <td>13.339532</td>\n",
              "      <td>7.292245</td>\n",
              "      <td>8.815327</td>\n",
              "      <td>13.453890</td>\n",
              "      <td>4.265707</td>\n",
              "      <td>...</td>\n",
              "      <td>6.831162</td>\n",
              "      <td>7.953729</td>\n",
              "      <td>5.455436</td>\n",
              "      <td>5.110760</td>\n",
              "      <td>7.662327</td>\n",
              "      <td>6.707145</td>\n",
              "      <td>9.772858</td>\n",
              "      <td>9.298936</td>\n",
              "      <td>2.888909</td>\n",
              "      <td>8.918853</td>\n",
              "    </tr>\n",
              "    <tr>\n",
              "      <th>TCGA.2Y.A9GT.01</th>\n",
              "      <td>6.585654</td>\n",
              "      <td>6.714419</td>\n",
              "      <td>16.245087</td>\n",
              "      <td>14.252355</td>\n",
              "      <td>1.883621</td>\n",
              "      <td>12.764681</td>\n",
              "      <td>8.906339</td>\n",
              "      <td>11.557786</td>\n",
              "      <td>13.618564</td>\n",
              "      <td>4.706337</td>\n",
              "      <td>...</td>\n",
              "      <td>4.603668</td>\n",
              "      <td>8.389972</td>\n",
              "      <td>1.481971</td>\n",
              "      <td>3.939847</td>\n",
              "      <td>0.000000</td>\n",
              "      <td>6.303626</td>\n",
              "      <td>3.181087</td>\n",
              "      <td>8.165080</td>\n",
              "      <td>3.939847</td>\n",
              "      <td>6.398990</td>\n",
              "    </tr>\n",
              "    <tr>\n",
              "      <th>TCGA.2Y.A9GU.01</th>\n",
              "      <td>8.135816</td>\n",
              "      <td>8.393708</td>\n",
              "      <td>13.186655</td>\n",
              "      <td>17.896176</td>\n",
              "      <td>0.000000</td>\n",
              "      <td>12.727613</td>\n",
              "      <td>5.204297</td>\n",
              "      <td>10.440706</td>\n",
              "      <td>13.239476</td>\n",
              "      <td>2.116564</td>\n",
              "      <td>...</td>\n",
              "      <td>3.088701</td>\n",
              "      <td>9.666433</td>\n",
              "      <td>1.415921</td>\n",
              "      <td>4.870069</td>\n",
              "      <td>0.875072</td>\n",
              "      <td>6.133576</td>\n",
              "      <td>6.008868</td>\n",
              "      <td>8.818376</td>\n",
              "      <td>1.808344</td>\n",
              "      <td>1.808344</td>\n",
              "    </tr>\n",
              "    <tr>\n",
              "      <th>TCGA.2Y.A9GV.01</th>\n",
              "      <td>8.147571</td>\n",
              "      <td>7.605401</td>\n",
              "      <td>16.362278</td>\n",
              "      <td>13.096133</td>\n",
              "      <td>3.241871</td>\n",
              "      <td>12.794975</td>\n",
              "      <td>9.268905</td>\n",
              "      <td>9.447338</td>\n",
              "      <td>14.493701</td>\n",
              "      <td>3.775093</td>\n",
              "      <td>...</td>\n",
              "      <td>4.020449</td>\n",
              "      <td>8.629696</td>\n",
              "      <td>2.132281</td>\n",
              "      <td>5.608818</td>\n",
              "      <td>0.000000</td>\n",
              "      <td>6.899364</td>\n",
              "      <td>1.428678</td>\n",
              "      <td>6.655793</td>\n",
              "      <td>1.822975</td>\n",
              "      <td>6.910365</td>\n",
              "    </tr>\n",
              "  </tbody>\n",
              "</table>\n",
              "<p>5 rows × 3696 columns</p>\n",
              "</div>\n",
              "      <button class=\"colab-df-convert\" onclick=\"convertToInteractive('df-1341ff88-5c63-49ba-8795-ca47d57d8034')\"\n",
              "              title=\"Convert this dataframe to an interactive table.\"\n",
              "              style=\"display:none;\">\n",
              "        \n",
              "  <svg xmlns=\"http://www.w3.org/2000/svg\" height=\"24px\"viewBox=\"0 0 24 24\"\n",
              "       width=\"24px\">\n",
              "    <path d=\"M0 0h24v24H0V0z\" fill=\"none\"/>\n",
              "    <path d=\"M18.56 5.44l.94 2.06.94-2.06 2.06-.94-2.06-.94-.94-2.06-.94 2.06-2.06.94zm-11 1L8.5 8.5l.94-2.06 2.06-.94-2.06-.94L8.5 2.5l-.94 2.06-2.06.94zm10 10l.94 2.06.94-2.06 2.06-.94-2.06-.94-.94-2.06-.94 2.06-2.06.94z\"/><path d=\"M17.41 7.96l-1.37-1.37c-.4-.4-.92-.59-1.43-.59-.52 0-1.04.2-1.43.59L10.3 9.45l-7.72 7.72c-.78.78-.78 2.05 0 2.83L4 21.41c.39.39.9.59 1.41.59.51 0 1.02-.2 1.41-.59l7.78-7.78 2.81-2.81c.8-.78.8-2.07 0-2.86zM5.41 20L4 18.59l7.72-7.72 1.47 1.35L5.41 20z\"/>\n",
              "  </svg>\n",
              "      </button>\n",
              "      \n",
              "  <style>\n",
              "    .colab-df-container {\n",
              "      display:flex;\n",
              "      flex-wrap:wrap;\n",
              "      gap: 12px;\n",
              "    }\n",
              "\n",
              "    .colab-df-convert {\n",
              "      background-color: #E8F0FE;\n",
              "      border: none;\n",
              "      border-radius: 50%;\n",
              "      cursor: pointer;\n",
              "      display: none;\n",
              "      fill: #1967D2;\n",
              "      height: 32px;\n",
              "      padding: 0 0 0 0;\n",
              "      width: 32px;\n",
              "    }\n",
              "\n",
              "    .colab-df-convert:hover {\n",
              "      background-color: #E2EBFA;\n",
              "      box-shadow: 0px 1px 2px rgba(60, 64, 67, 0.3), 0px 1px 3px 1px rgba(60, 64, 67, 0.15);\n",
              "      fill: #174EA6;\n",
              "    }\n",
              "\n",
              "    [theme=dark] .colab-df-convert {\n",
              "      background-color: #3B4455;\n",
              "      fill: #D2E3FC;\n",
              "    }\n",
              "\n",
              "    [theme=dark] .colab-df-convert:hover {\n",
              "      background-color: #434B5C;\n",
              "      box-shadow: 0px 1px 3px 1px rgba(0, 0, 0, 0.15);\n",
              "      filter: drop-shadow(0px 1px 2px rgba(0, 0, 0, 0.3));\n",
              "      fill: #FFFFFF;\n",
              "    }\n",
              "  </style>\n",
              "\n",
              "      <script>\n",
              "        const buttonEl =\n",
              "          document.querySelector('#df-1341ff88-5c63-49ba-8795-ca47d57d8034 button.colab-df-convert');\n",
              "        buttonEl.style.display =\n",
              "          google.colab.kernel.accessAllowed ? 'block' : 'none';\n",
              "\n",
              "        async function convertToInteractive(key) {\n",
              "          const element = document.querySelector('#df-1341ff88-5c63-49ba-8795-ca47d57d8034');\n",
              "          const dataTable =\n",
              "            await google.colab.kernel.invokeFunction('convertToInteractive',\n",
              "                                                     [key], {});\n",
              "          if (!dataTable) return;\n",
              "\n",
              "          const docLinkHtml = 'Like what you see? Visit the ' +\n",
              "            '<a target=\"_blank\" href=https://colab.research.google.com/notebooks/data_table.ipynb>data table notebook</a>'\n",
              "            + ' to learn more about interactive tables.';\n",
              "          element.innerHTML = '';\n",
              "          dataTable['output_type'] = 'display_data';\n",
              "          await google.colab.output.renderOutput(dataTable, element);\n",
              "          const docLink = document.createElement('div');\n",
              "          docLink.innerHTML = docLinkHtml;\n",
              "          element.appendChild(docLink);\n",
              "        }\n",
              "      </script>\n",
              "    </div>\n",
              "  </div>\n",
              "  "
            ]
          },
          "metadata": {},
          "execution_count": 65
        }
      ]
    },
    {
      "cell_type": "code",
      "source": [
        "for col_name in liver_methyl_data.columns:\n",
        "  #IMPUTE data\n",
        "  col_data = liver_methyl_data[col_name].fillna(liver_methyl_data[col_name].mean(skipna= True))\n",
        "  #take log base 2\n",
        "  col_data = pd.to_numeric(np.log2(col_data.values + 1))\n",
        "  liver_methyl_data[col_name] = col_data\n",
        "\n",
        "lm_logs_solid_tum = pd.DataFrame()\n",
        "lm_logs_primary_tum = pd.DataFrame()\n",
        "\n",
        "index = 0 \n",
        "for label in liver_methyl_labels:\n",
        "  if label: \n",
        "    lm_logs_solid_tum = pd.concat([lm_logs_solid_tum, liver_methyl_data.iloc[[index]]], axis= 0)\n",
        "  else:\n",
        "    lm_logs_primary_tum = pd.concat([lm_logs_primary_tum, liver_methyl_data.iloc[[index]]], axis= 0)\n",
        "  index += 1\n",
        "\n",
        "lm_log_fcs = {}\n",
        "\n",
        "for col_name in lm_logs_solid_tum.columns:\n",
        "  fc_solid = lm_logs_solid_tum[col_name].mean()\n",
        "  fc_prim = lm_logs_primary_tum[col_name].mean()\n",
        "  log2fc = abs(fc_solid - fc_prim)\n",
        "  lm_log_fcs[col_name] = log2fc\n",
        "\n",
        "keep_tags = []\n",
        "for tag in lm_log_fcs.keys():\n",
        "  if lm_log_fcs[tag] > 0.3: \n",
        "    keep_tags.append(tag)\n",
        "\n",
        "liver_methyl_data2 = liver_methyl_data[keep_tags]\n",
        "print(liver_methyl_data2.shape)\n"
      ],
      "metadata": {
        "colab": {
          "base_uri": "https://localhost:8080/"
        },
        "id": "NQZbA-TL9hsG",
        "outputId": "159dc33a-f7c5-44de-fc5a-f1fe2a8b54fc"
      },
      "execution_count": 74,
      "outputs": [
        {
          "output_type": "stream",
          "name": "stderr",
          "text": [
            "/usr/local/lib/python3.7/dist-packages/ipykernel_launcher.py:6: SettingWithCopyWarning: \n",
            "A value is trying to be set on a copy of a slice from a DataFrame.\n",
            "Try using .loc[row_indexer,col_indexer] = value instead\n",
            "\n",
            "See the caveats in the documentation: https://pandas.pydata.org/pandas-docs/stable/user_guide/indexing.html#returning-a-view-versus-a-copy\n",
            "  \n"
          ]
        },
        {
          "output_type": "stream",
          "name": "stdout",
          "text": [
            "(427, 2806)\n"
          ]
        }
      ]
    },
    {
      "cell_type": "code",
      "source": [
        "mys_gene_data = mys_gene_data[keep_genes]\n",
        "mys_methyl_data = mys_methyl_data[keep_tags]\n",
        "\n",
        "for col_name in mys_gene_data.columns:\n",
        "  col_data = mys_gene_data[col_name].fillna(mys_gene_data[col_name].mean(skipna= True))\n",
        "  #take log base 2\n",
        "  col_data = pd.to_numeric(np.log2(col_data.values + 1))\n",
        "  mys_gene_data[col_name] = col_data\n",
        "\n",
        "for col_name in mys_methyl_data.columns:\n",
        "  col_data = mys_methyl_data[col_name].fillna(mys_methyl_data[col_name].mean(skipna= True))\n",
        "  #take log base 2\n",
        "  col_data = pd.to_numeric(np.log2(col_data.values + 1))\n",
        "  mys_methyl_data[col_name] = col_data"
      ],
      "metadata": {
        "id": "SLK4I2J9-llN"
      },
      "execution_count": null,
      "outputs": []
    },
    {
      "cell_type": "markdown",
      "source": [
        "#### Scaling Data"
      ],
      "metadata": {
        "id": "s6Hpji_JbVuz"
      }
    },
    {
      "cell_type": "code",
      "source": [
        "# apply minmaxscaler to X\n",
        "from sklearn.preprocessing import MinMaxScaler,LabelEncoder\n",
        "\n",
        "liver_gene_data2 = MinMaxScaler().fit_transform(liver_gene_data2)\n",
        "print\n",
        "print(liver_gene_data2.head(n=2))\n",
        "liver_methyl_data2 = MinMaxScaler().fit_transform(liver_methyl_data2)\n",
        "print(liver_methyl_data2.head(n=2))\n",
        "mys_gene_data = MinMaxScaler().fit_transform(mys_gene_data)\n",
        "print(mys_gene_data.head(n=2))\n",
        "mys_methyl_data = MinMaxScaler().fit_transform(mys_methyl_data)\n",
        "print(mys_methyl_data.head(n=2))"
      ],
      "metadata": {
        "id": "vDz2H2X49BG7"
      },
      "execution_count": null,
      "outputs": []
    },
    {
      "cell_type": "markdown",
      "source": [
        "### Feature Selection: \n",
        "-Want to use only a subset of genes/methylation tags\n",
        "for each model"
      ],
      "metadata": {
        "id": "3Mo56FU4_dHy"
      }
    },
    {
      "cell_type": "markdown",
      "source": [
        "#### Removing Genes with Low Expression"
      ],
      "metadata": {
        "id": "lwRvoyMS9epe"
      }
    },
    {
      "cell_type": "code",
      "source": [
        "expr_means = []\n",
        "\n",
        "for column in liver_gene_expr[col_names_exp[2:]]:\n",
        "  col_mean = liver_gene_expr[column].mean()\n",
        "  expr_means.append(col_mean)\n",
        "  if col_mean > 0.025:\n",
        "    liver_gene_expr[column] = liver_gene_expr[column].replace([np.inf, np.nan, -np.inf], col_mean)\n",
        "  else: \n",
        "    liver_gene_expr = liver_gene_expr.drop(column, axis = 1)\n",
        "\n",
        "print(liver_gene_expr.shape)\n",
        "\n",
        "plt.hist(expr_means, bins = 40, range = [0.0, 0.2])\n",
        "plt.show()"
      ],
      "metadata": {
        "id": "wrf7piaZ8V4E"
      },
      "execution_count": null,
      "outputs": []
    }
  ],
  "metadata": {
    "kernelspec": {
      "display_name": "Python 3 (ipykernel)",
      "language": "python",
      "name": "python3"
    },
    "language_info": {
      "codemirror_mode": {
        "name": "ipython",
        "version": 3
      },
      "file_extension": ".py",
      "mimetype": "text/x-python",
      "name": "python",
      "nbconvert_exporter": "python",
      "pygments_lexer": "ipython3",
      "version": "3.9.12"
    },
    "colab": {
      "provenance": [],
      "collapsed_sections": [],
      "include_colab_link": true
    }
  },
  "nbformat": 4,
  "nbformat_minor": 0
}