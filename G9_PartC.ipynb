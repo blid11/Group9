{
  "cells": [
    {
      "cell_type": "markdown",
      "metadata": {
        "id": "view-in-github",
        "colab_type": "text"
      },
      "source": [
        "<a href=\"https://colab.research.google.com/github/blid11/Group9/blob/Brett/G9_PartC.ipynb\" target=\"_parent\"><img src=\"https://colab.research.google.com/assets/colab-badge.svg\" alt=\"Open In Colab\"/></a>"
      ]
    },
    {
      "cell_type": "markdown",
      "source": [
        "Changes made in this Colab notebook can be saved with Control/Command S and do not need to be pushed to Github. \n",
        "Also apparently SVM is a better model for classifying than the PCA/neural network I was trying below."
      ],
      "metadata": {
        "id": "rKNr9ou87aZT"
      }
    },
    {
      "cell_type": "code",
      "execution_count": 1,
      "metadata": {
        "id": "W-IfC5rw1Bjz"
      },
      "outputs": [],
      "source": [
        "\n",
        "# Import libaries needed\n",
        "import pandas as pd\n",
        "from keras.models import Sequential\n",
        "from keras.layers import Dense\n",
        "from keras.wrappers.scikit_learn import KerasClassifier\n",
        "from keras.utils import np_utils\n",
        "from sklearn.model_selection import train_test_split\n",
        "import matplotlib.pyplot as plt\n",
        "import numpy as np\n",
        "import seaborn as sns\n"
      ]
    },
    {
      "cell_type": "code",
      "source": [
        "from google.colab import drive \n",
        "drive.mount('/content/gdrive', force_remount=True)\n",
        "\n",
        "%cd gdrive/My Drive/G9A2/G9\n",
        " \n",
        "#%cd gdrive/My Drive/G9A2\n",
        "# I made a folder on my google drive that has the G9 Methylation data and the binfpy library\n",
        "#this code automatically loads it in\n",
        "# you can do the same with your google drive. \n",
        "# restart runtime if you experience errors!"
      ],
      "metadata": {
        "colab": {
          "base_uri": "https://localhost:8080/"
        },
        "id": "uFIumj0w2JpL",
        "outputId": "22f7d779-17b8-4c08-d7ec-fd31078b5398"
      },
      "execution_count": 2,
      "outputs": [
        {
          "output_type": "stream",
          "name": "stdout",
          "text": [
            "Mounted at /content/gdrive\n",
            "/content/gdrive/My Drive/G9A2/G9\n"
          ]
        }
      ]
    },
    {
      "cell_type": "markdown",
      "source": [
        "# Data Preparation\n"
      ],
      "metadata": {
        "id": "2E_eI04DJqW1"
      }
    },
    {
      "cell_type": "code",
      "source": [
        "!ls"
      ],
      "metadata": {
        "id": "PqpS2PFLKt3g",
        "outputId": "78c4d079-bbc7-4753-ae99-fca6bbf322df",
        "colab": {
          "base_uri": "https://localhost:8080/"
        }
      },
      "execution_count": null,
      "outputs": [
        {
          "output_type": "stream",
          "name": "stdout",
          "text": [
            "G9_liver_dna-meth.csv\tmystery_dna-meth.csv\n",
            "G9_liver_gene-expr.csv\tmystery_gene-expr.csv\n"
          ]
        }
      ]
    },
    {
      "cell_type": "code",
      "source": [
        "# load the data \n",
        "liver_meth_dna = pd.read_csv('G9_liver_dna-meth.csv')\n",
        "liver_gene_expr = pd.read_csv('G9_liver_gene-expr.csv')\n",
        "\n"
      ],
      "metadata": {
        "id": "uISKKBYlJpLm"
      },
      "execution_count": 3,
      "outputs": []
    },
    {
      "cell_type": "code",
      "source": [
        "# view the data: \n",
        "liver_meth_dna.head(n = 5)\n",
        "liver_gene_expr.shape"
      ],
      "metadata": {
        "colab": {
          "base_uri": "https://localhost:8080/"
        },
        "id": "jtnvWSfkTPbx",
        "outputId": "f003fbe2-dde4-456c-cbbc-c1fd285058a1"
      },
      "execution_count": null,
      "outputs": [
        {
          "output_type": "execute_result",
          "data": {
            "text/plain": [
              "(421, 19938)"
            ]
          },
          "metadata": {},
          "execution_count": 27
        }
      ]
    },
    {
      "cell_type": "code",
      "source": [
        "liver_gene_expr.head(n= 5)\n",
        "#the first column is sample\n",
        "#the second column is the Label \n",
        "# the third column onwards are Data (expression values for given gene)"
      ],
      "metadata": {
        "colab": {
          "base_uri": "https://localhost:8080/",
          "height": 386
        },
        "id": "AXsnTVLiTb4v",
        "outputId": "9ce5546c-30fe-4765-b038-2c4db9a8016a"
      },
      "execution_count": null,
      "outputs": [
        {
          "output_type": "execute_result",
          "data": {
            "text/plain": [
              "        Unnamed: 0          Label  X..100130426  X..100133144  X..100134869  \\\n",
              "0  TCGA.2V.A95S.01  Primary Tumor           0.0        1.5051        3.7074   \n",
              "1  TCGA.2Y.A9GS.01  Primary Tumor           0.0       26.4120        2.6663   \n",
              "2  TCGA.2Y.A9GT.01  Primary Tumor           0.0        0.0000        4.4833   \n",
              "3  TCGA.2Y.A9GU.01  Primary Tumor           0.0        5.7222        5.1216   \n",
              "4  TCGA.2Y.A9GV.01  Primary Tumor           0.0       11.4975        5.4230   \n",
              "\n",
              "   X..10357   X..10431  X..136542  X..155060  X..26823  ...  ZXDA.7789  \\\n",
              "0   90.1124  1017.1038        0.0   141.3911    0.6516  ...    24.7597   \n",
              "1   71.0054   639.2311        0.0   122.7206    1.4786  ...    68.5067   \n",
              "2   95.5122   742.4344        0.0    95.0460    1.7933  ...    46.6263   \n",
              "3   61.6679  1186.9807        0.0   280.2709    0.8341  ...    18.3511   \n",
              "4  104.4670   878.1726        0.0   282.5719    0.0000  ...    41.4552   \n",
              "\n",
              "   ZXDB.158586  ZXDC.79364  ZYG11A.440590  ZYG11B.79699   ZYX.7791  \\\n",
              "0     273.6602    794.2662        18.2440      499.1041  3172.5037   \n",
              "1     632.8241   1153.7703        71.4638     1000.4929  5301.1336   \n",
              "2    1219.4575   1133.3782        12.5532     1289.3970  3219.0092   \n",
              "3     285.2758   1150.2786         9.1755      941.7437  3092.9899   \n",
              "4     999.1540   1631.9797         4.2301     1380.7107  2902.7073   \n",
              "\n",
              "   ZZEF1.23140  ZZZ3.26009  psiTPTE22.387590  tAKR.389932  \n",
              "0     890.0472    510.1808            3.9094       6.5157  \n",
              "1     755.5446    860.5224            6.4071     482.9966  \n",
              "2     860.7935    523.6494           14.3466      83.3894  \n",
              "3    1339.6283    343.6655            2.5024       2.5024  \n",
              "4     575.2961    665.8206            2.5381     119.2893  \n",
              "\n",
              "[5 rows x 20533 columns]"
            ],
            "text/html": [
              "\n",
              "  <div id=\"df-d125e171-7f90-4665-9881-cf3466498e29\">\n",
              "    <div class=\"colab-df-container\">\n",
              "      <div>\n",
              "<style scoped>\n",
              "    .dataframe tbody tr th:only-of-type {\n",
              "        vertical-align: middle;\n",
              "    }\n",
              "\n",
              "    .dataframe tbody tr th {\n",
              "        vertical-align: top;\n",
              "    }\n",
              "\n",
              "    .dataframe thead th {\n",
              "        text-align: right;\n",
              "    }\n",
              "</style>\n",
              "<table border=\"1\" class=\"dataframe\">\n",
              "  <thead>\n",
              "    <tr style=\"text-align: right;\">\n",
              "      <th></th>\n",
              "      <th>Unnamed: 0</th>\n",
              "      <th>Label</th>\n",
              "      <th>X..100130426</th>\n",
              "      <th>X..100133144</th>\n",
              "      <th>X..100134869</th>\n",
              "      <th>X..10357</th>\n",
              "      <th>X..10431</th>\n",
              "      <th>X..136542</th>\n",
              "      <th>X..155060</th>\n",
              "      <th>X..26823</th>\n",
              "      <th>...</th>\n",
              "      <th>ZXDA.7789</th>\n",
              "      <th>ZXDB.158586</th>\n",
              "      <th>ZXDC.79364</th>\n",
              "      <th>ZYG11A.440590</th>\n",
              "      <th>ZYG11B.79699</th>\n",
              "      <th>ZYX.7791</th>\n",
              "      <th>ZZEF1.23140</th>\n",
              "      <th>ZZZ3.26009</th>\n",
              "      <th>psiTPTE22.387590</th>\n",
              "      <th>tAKR.389932</th>\n",
              "    </tr>\n",
              "  </thead>\n",
              "  <tbody>\n",
              "    <tr>\n",
              "      <th>0</th>\n",
              "      <td>TCGA.2V.A95S.01</td>\n",
              "      <td>Primary Tumor</td>\n",
              "      <td>0.0</td>\n",
              "      <td>1.5051</td>\n",
              "      <td>3.7074</td>\n",
              "      <td>90.1124</td>\n",
              "      <td>1017.1038</td>\n",
              "      <td>0.0</td>\n",
              "      <td>141.3911</td>\n",
              "      <td>0.6516</td>\n",
              "      <td>...</td>\n",
              "      <td>24.7597</td>\n",
              "      <td>273.6602</td>\n",
              "      <td>794.2662</td>\n",
              "      <td>18.2440</td>\n",
              "      <td>499.1041</td>\n",
              "      <td>3172.5037</td>\n",
              "      <td>890.0472</td>\n",
              "      <td>510.1808</td>\n",
              "      <td>3.9094</td>\n",
              "      <td>6.5157</td>\n",
              "    </tr>\n",
              "    <tr>\n",
              "      <th>1</th>\n",
              "      <td>TCGA.2Y.A9GS.01</td>\n",
              "      <td>Primary Tumor</td>\n",
              "      <td>0.0</td>\n",
              "      <td>26.4120</td>\n",
              "      <td>2.6663</td>\n",
              "      <td>71.0054</td>\n",
              "      <td>639.2311</td>\n",
              "      <td>0.0</td>\n",
              "      <td>122.7206</td>\n",
              "      <td>1.4786</td>\n",
              "      <td>...</td>\n",
              "      <td>68.5067</td>\n",
              "      <td>632.8241</td>\n",
              "      <td>1153.7703</td>\n",
              "      <td>71.4638</td>\n",
              "      <td>1000.4929</td>\n",
              "      <td>5301.1336</td>\n",
              "      <td>755.5446</td>\n",
              "      <td>860.5224</td>\n",
              "      <td>6.4071</td>\n",
              "      <td>482.9966</td>\n",
              "    </tr>\n",
              "    <tr>\n",
              "      <th>2</th>\n",
              "      <td>TCGA.2Y.A9GT.01</td>\n",
              "      <td>Primary Tumor</td>\n",
              "      <td>0.0</td>\n",
              "      <td>0.0000</td>\n",
              "      <td>4.4833</td>\n",
              "      <td>95.5122</td>\n",
              "      <td>742.4344</td>\n",
              "      <td>0.0</td>\n",
              "      <td>95.0460</td>\n",
              "      <td>1.7933</td>\n",
              "      <td>...</td>\n",
              "      <td>46.6263</td>\n",
              "      <td>1219.4575</td>\n",
              "      <td>1133.3782</td>\n",
              "      <td>12.5532</td>\n",
              "      <td>1289.3970</td>\n",
              "      <td>3219.0092</td>\n",
              "      <td>860.7935</td>\n",
              "      <td>523.6494</td>\n",
              "      <td>14.3466</td>\n",
              "      <td>83.3894</td>\n",
              "    </tr>\n",
              "    <tr>\n",
              "      <th>3</th>\n",
              "      <td>TCGA.2Y.A9GU.01</td>\n",
              "      <td>Primary Tumor</td>\n",
              "      <td>0.0</td>\n",
              "      <td>5.7222</td>\n",
              "      <td>5.1216</td>\n",
              "      <td>61.6679</td>\n",
              "      <td>1186.9807</td>\n",
              "      <td>0.0</td>\n",
              "      <td>280.2709</td>\n",
              "      <td>0.8341</td>\n",
              "      <td>...</td>\n",
              "      <td>18.3511</td>\n",
              "      <td>285.2758</td>\n",
              "      <td>1150.2786</td>\n",
              "      <td>9.1755</td>\n",
              "      <td>941.7437</td>\n",
              "      <td>3092.9899</td>\n",
              "      <td>1339.6283</td>\n",
              "      <td>343.6655</td>\n",
              "      <td>2.5024</td>\n",
              "      <td>2.5024</td>\n",
              "    </tr>\n",
              "    <tr>\n",
              "      <th>4</th>\n",
              "      <td>TCGA.2Y.A9GV.01</td>\n",
              "      <td>Primary Tumor</td>\n",
              "      <td>0.0</td>\n",
              "      <td>11.4975</td>\n",
              "      <td>5.4230</td>\n",
              "      <td>104.4670</td>\n",
              "      <td>878.1726</td>\n",
              "      <td>0.0</td>\n",
              "      <td>282.5719</td>\n",
              "      <td>0.0000</td>\n",
              "      <td>...</td>\n",
              "      <td>41.4552</td>\n",
              "      <td>999.1540</td>\n",
              "      <td>1631.9797</td>\n",
              "      <td>4.2301</td>\n",
              "      <td>1380.7107</td>\n",
              "      <td>2902.7073</td>\n",
              "      <td>575.2961</td>\n",
              "      <td>665.8206</td>\n",
              "      <td>2.5381</td>\n",
              "      <td>119.2893</td>\n",
              "    </tr>\n",
              "  </tbody>\n",
              "</table>\n",
              "<p>5 rows × 20533 columns</p>\n",
              "</div>\n",
              "      <button class=\"colab-df-convert\" onclick=\"convertToInteractive('df-d125e171-7f90-4665-9881-cf3466498e29')\"\n",
              "              title=\"Convert this dataframe to an interactive table.\"\n",
              "              style=\"display:none;\">\n",
              "        \n",
              "  <svg xmlns=\"http://www.w3.org/2000/svg\" height=\"24px\"viewBox=\"0 0 24 24\"\n",
              "       width=\"24px\">\n",
              "    <path d=\"M0 0h24v24H0V0z\" fill=\"none\"/>\n",
              "    <path d=\"M18.56 5.44l.94 2.06.94-2.06 2.06-.94-2.06-.94-.94-2.06-.94 2.06-2.06.94zm-11 1L8.5 8.5l.94-2.06 2.06-.94-2.06-.94L8.5 2.5l-.94 2.06-2.06.94zm10 10l.94 2.06.94-2.06 2.06-.94-2.06-.94-.94-2.06-.94 2.06-2.06.94z\"/><path d=\"M17.41 7.96l-1.37-1.37c-.4-.4-.92-.59-1.43-.59-.52 0-1.04.2-1.43.59L10.3 9.45l-7.72 7.72c-.78.78-.78 2.05 0 2.83L4 21.41c.39.39.9.59 1.41.59.51 0 1.02-.2 1.41-.59l7.78-7.78 2.81-2.81c.8-.78.8-2.07 0-2.86zM5.41 20L4 18.59l7.72-7.72 1.47 1.35L5.41 20z\"/>\n",
              "  </svg>\n",
              "      </button>\n",
              "      \n",
              "  <style>\n",
              "    .colab-df-container {\n",
              "      display:flex;\n",
              "      flex-wrap:wrap;\n",
              "      gap: 12px;\n",
              "    }\n",
              "\n",
              "    .colab-df-convert {\n",
              "      background-color: #E8F0FE;\n",
              "      border: none;\n",
              "      border-radius: 50%;\n",
              "      cursor: pointer;\n",
              "      display: none;\n",
              "      fill: #1967D2;\n",
              "      height: 32px;\n",
              "      padding: 0 0 0 0;\n",
              "      width: 32px;\n",
              "    }\n",
              "\n",
              "    .colab-df-convert:hover {\n",
              "      background-color: #E2EBFA;\n",
              "      box-shadow: 0px 1px 2px rgba(60, 64, 67, 0.3), 0px 1px 3px 1px rgba(60, 64, 67, 0.15);\n",
              "      fill: #174EA6;\n",
              "    }\n",
              "\n",
              "    [theme=dark] .colab-df-convert {\n",
              "      background-color: #3B4455;\n",
              "      fill: #D2E3FC;\n",
              "    }\n",
              "\n",
              "    [theme=dark] .colab-df-convert:hover {\n",
              "      background-color: #434B5C;\n",
              "      box-shadow: 0px 1px 3px 1px rgba(0, 0, 0, 0.15);\n",
              "      filter: drop-shadow(0px 1px 2px rgba(0, 0, 0, 0.3));\n",
              "      fill: #FFFFFF;\n",
              "    }\n",
              "  </style>\n",
              "\n",
              "      <script>\n",
              "        const buttonEl =\n",
              "          document.querySelector('#df-d125e171-7f90-4665-9881-cf3466498e29 button.colab-df-convert');\n",
              "        buttonEl.style.display =\n",
              "          google.colab.kernel.accessAllowed ? 'block' : 'none';\n",
              "\n",
              "        async function convertToInteractive(key) {\n",
              "          const element = document.querySelector('#df-d125e171-7f90-4665-9881-cf3466498e29');\n",
              "          const dataTable =\n",
              "            await google.colab.kernel.invokeFunction('convertToInteractive',\n",
              "                                                     [key], {});\n",
              "          if (!dataTable) return;\n",
              "\n",
              "          const docLinkHtml = 'Like what you see? Visit the ' +\n",
              "            '<a target=\"_blank\" href=https://colab.research.google.com/notebooks/data_table.ipynb>data table notebook</a>'\n",
              "            + ' to learn more about interactive tables.';\n",
              "          element.innerHTML = '';\n",
              "          dataTable['output_type'] = 'display_data';\n",
              "          await google.colab.output.renderOutput(dataTable, element);\n",
              "          const docLink = document.createElement('div');\n",
              "          docLink.innerHTML = docLinkHtml;\n",
              "          element.appendChild(docLink);\n",
              "        }\n",
              "      </script>\n",
              "    </div>\n",
              "  </div>\n",
              "  "
            ]
          },
          "metadata": {},
          "execution_count": 6
        }
      ]
    },
    {
      "cell_type": "markdown",
      "source": [
        "will be creating two models: one for gene expression and one for methylation\n",
        "so will not merge the two datasets \n",
        "we can use the same model architecture and train it on different data\n",
        "\n",
        "standardizing and log transforming data relatively standard for gene expression data\n",
        "and probably for methylation data as well \n",
        "\n",
        "\n"
      ],
      "metadata": {
        "id": "G4MXwYRoVtuy"
      }
    },
    {
      "cell_type": "code",
      "source": [
        "# standardizing and log transform data prior to PCA\n",
        "# for each numeric value column in the dataframem, normalize \n",
        "# and log tranform the values\n",
        "\n",
        "\n",
        "col_names_exp = liver_gene_expr.columns\n",
        "col_names_meth = liver_meth_dna.columns\n",
        "\n",
        "#replace Inf and Nan with 0\n",
        "#liver_gene_expr.replace([np.inf, -np.inf], 0, inplace=True)\n",
        "#liver_meth_dna.replace([np.inf,-np.inf], 0, inplace=True)\n",
        "\n",
        "expr_means = []\n",
        "\n",
        "for column in liver_gene_expr[col_names_exp[2:]]:\n",
        "  #liver_gene_expr[column] = liver_gene_expr[column].str.replace(regex ='[^0-9.]', value = \"d\") \n",
        "  #liver_gene_expr[column] = liver_gene_expr[column].str.replace(regex = 'd{10}]', value = \"d\") \n",
        "  col_mean = liver_gene_expr[column].mean()\n",
        "  expr_means.append(col_mean)\n",
        "  if col_mean > 0.025:\n",
        "    liver_gene_expr[column] = liver_gene_expr[column].replace([np.inf, np.nan, -np.inf], col_mean)\n",
        "  else: \n",
        "    liver_gene_expr = liver_gene_expr.drop(column, axis = 1)\n",
        "  #liver_meth_dna[column] = liver_meth_dna[column].fillna(col_mean)\n",
        "\n",
        "print(liver_gene_expr.shape)\n",
        "\n",
        "plt.hist(expr_means, bins = 40, range = [0.0, 0.2])\n",
        "plt.show()\n",
        "\n",
        "col_names_exp = liver_gene_expr.columns\n",
        "col_names_meth = liver_meth_dna.columns\n",
        "\n",
        "for column in liver_meth_dna[col_names_meth[2:]]: \n",
        "  col_mean = liver_meth_dna[column].mean()\n",
        "  liver_meth_dna[column] = liver_meth_dna[column].replace([np.inf, np.nan, -np.inf], col_mean)\n",
        "  liver_meth_dna[column] = liver_meth_dna[column].fillna(col_mean)\n",
        "\n",
        "#Normalize and log tranform data for both sets\n",
        "for col_name in col_names_exp[2:]:\n",
        "  col_data = pd.to_numeric(np.log2(liver_gene_expr[col_name].values + 1))\n",
        "  col_mean = np.mean(col_data)\n",
        "  col_std = np.std(col_data)\n",
        "  new_data = (col_data - col_mean)/(col_std)\n",
        "  liver_gene_expr[col_name] = new_data\n",
        "\n",
        "for col_name in col_names_meth[2:]:\n",
        "  col_data = pd.to_numeric(np.log2(liver_meth_dna[col_name].values + 1))\n",
        "  col_mean = np.mean(col_data)\n",
        "  col_std = np.std(col_data)\n",
        "  new_data = (col_data - col_mean)/(col_std)\n",
        "  liver_meth_dna[col_name] = new_data\n",
        "\n",
        "liver_gene_expr.head(n= 2)\n"
      ],
      "metadata": {
        "colab": {
          "base_uri": "https://localhost:8080/",
          "height": 505
        },
        "id": "IGdTQRRFYqDv",
        "outputId": "a7b8197c-4792-41c0-8a2a-f9cc74ba6814"
      },
      "execution_count": 4,
      "outputs": [
        {
          "output_type": "stream",
          "name": "stdout",
          "text": [
            "(421, 19547)\n"
          ]
        },
        {
          "output_type": "display_data",
          "data": {
            "text/plain": [
              "<Figure size 432x288 with 1 Axes>"
            ],
            "image/png": "[encoded data removed]"
          },
          "metadata": {
            "needs_background": "light"
          }
        },
        {
          "output_type": "execute_result",
          "data": {
            "text/plain": [
              "        Unnamed: 0          Label  X..100130426  X..100133144  X..100134869  \\\n",
              "0  TCGA.2V.A95S.01  Primary Tumor      -0.25593     -0.476165      0.134622   \n",
              "1  TCGA.2Y.A9GS.01  Primary Tumor      -0.25593      2.268472     -0.189274   \n",
              "\n",
              "   X..10357  X..10431  X..155060  X..26823  X..280660  ...  ZXDA.7789  \\\n",
              "0  0.066483 -0.283215   0.263113  1.214289  -0.419556  ...  -0.101024   \n",
              "1 -0.522460 -1.766629   0.114870  2.651003  -0.419556  ...   1.535443   \n",
              "\n",
              "   ZXDB.158586  ZXDC.79364  ZYG11A.440590  ZYG11B.79699  ZYX.7791  \\\n",
              "0    -0.836486    -0.61156      -0.096129     -1.126977 -0.055131   \n",
              "1     0.324199     0.75920       0.835624      0.233890  0.845728   \n",
              "\n",
              "   ZZEF1.23140  ZZZ3.26009  psiTPTE22.387590  tAKR.389932  \n",
              "0     0.760924   -0.132179         -0.011595    -0.962797  \n",
              "1     0.390778    1.258929          0.418190     1.458766  \n",
              "\n",
              "[2 rows x 19547 columns]"
            ],
            "text/html": [
              "\n",
              "  <div id=\"df-93d3d381-1599-44a9-b366-843297396dac\">\n",
              "    <div class=\"colab-df-container\">\n",
              "      <div>\n",
              "<style scoped>\n",
              "    .dataframe tbody tr th:only-of-type {\n",
              "        vertical-align: middle;\n",
              "    }\n",
              "\n",
              "    .dataframe tbody tr th {\n",
              "        vertical-align: top;\n",
              "    }\n",
              "\n",
              "    .dataframe thead th {\n",
              "        text-align: right;\n",
              "    }\n",
              "</style>\n",
              "<table border=\"1\" class=\"dataframe\">\n",
              "  <thead>\n",
              "    <tr style=\"text-align: right;\">\n",
              "      <th></th>\n",
              "      <th>Unnamed: 0</th>\n",
              "      <th>Label</th>\n",
              "      <th>X..100130426</th>\n",
              "      <th>X..100133144</th>\n",
              "      <th>X..100134869</th>\n",
              "      <th>X..10357</th>\n",
              "      <th>X..10431</th>\n",
              "      <th>X..155060</th>\n",
              "      <th>X..26823</th>\n",
              "      <th>X..280660</th>\n",
              "      <th>...</th>\n",
              "      <th>ZXDA.7789</th>\n",
              "      <th>ZXDB.158586</th>\n",
              "      <th>ZXDC.79364</th>\n",
              "      <th>ZYG11A.440590</th>\n",
              "      <th>ZYG11B.79699</th>\n",
              "      <th>ZYX.7791</th>\n",
              "      <th>ZZEF1.23140</th>\n",
              "      <th>ZZZ3.26009</th>\n",
              "      <th>psiTPTE22.387590</th>\n",
              "      <th>tAKR.389932</th>\n",
              "    </tr>\n",
              "  </thead>\n",
              "  <tbody>\n",
              "    <tr>\n",
              "      <th>0</th>\n",
              "      <td>TCGA.2V.A95S.01</td>\n",
              "      <td>Primary Tumor</td>\n",
              "      <td>-0.25593</td>\n",
              "      <td>-0.476165</td>\n",
              "      <td>0.134622</td>\n",
              "      <td>0.066483</td>\n",
              "      <td>-0.283215</td>\n",
              "      <td>0.263113</td>\n",
              "      <td>1.214289</td>\n",
              "      <td>-0.419556</td>\n",
              "      <td>...</td>\n",
              "      <td>-0.101024</td>\n",
              "      <td>-0.836486</td>\n",
              "      <td>-0.61156</td>\n",
              "      <td>-0.096129</td>\n",
              "      <td>-1.126977</td>\n",
              "      <td>-0.055131</td>\n",
              "      <td>0.760924</td>\n",
              "      <td>-0.132179</td>\n",
              "      <td>-0.011595</td>\n",
              "      <td>-0.962797</td>\n",
              "    </tr>\n",
              "    <tr>\n",
              "      <th>1</th>\n",
              "      <td>TCGA.2Y.A9GS.01</td>\n",
              "      <td>Primary Tumor</td>\n",
              "      <td>-0.25593</td>\n",
              "      <td>2.268472</td>\n",
              "      <td>-0.189274</td>\n",
              "      <td>-0.522460</td>\n",
              "      <td>-1.766629</td>\n",
              "      <td>0.114870</td>\n",
              "      <td>2.651003</td>\n",
              "      <td>-0.419556</td>\n",
              "      <td>...</td>\n",
              "      <td>1.535443</td>\n",
              "      <td>0.324199</td>\n",
              "      <td>0.75920</td>\n",
              "      <td>0.835624</td>\n",
              "      <td>0.233890</td>\n",
              "      <td>0.845728</td>\n",
              "      <td>0.390778</td>\n",
              "      <td>1.258929</td>\n",
              "      <td>0.418190</td>\n",
              "      <td>1.458766</td>\n",
              "    </tr>\n",
              "  </tbody>\n",
              "</table>\n",
              "<p>2 rows × 19547 columns</p>\n",
              "</div>\n",
              "      <button class=\"colab-df-convert\" onclick=\"convertToInteractive('df-93d3d381-1599-44a9-b366-843297396dac')\"\n",
              "              title=\"Convert this dataframe to an interactive table.\"\n",
              "              style=\"display:none;\">\n",
              "        \n",
              "  <svg xmlns=\"http://www.w3.org/2000/svg\" height=\"24px\"viewBox=\"0 0 24 24\"\n",
              "       width=\"24px\">\n",
              "    <path d=\"M0 0h24v24H0V0z\" fill=\"none\"/>\n",
              "    <path d=\"M18.56 5.44l.94 2.06.94-2.06 2.06-.94-2.06-.94-.94-2.06-.94 2.06-2.06.94zm-11 1L8.5 8.5l.94-2.06 2.06-.94-2.06-.94L8.5 2.5l-.94 2.06-2.06.94zm10 10l.94 2.06.94-2.06 2.06-.94-2.06-.94-.94-2.06-.94 2.06-2.06.94z\"/><path d=\"M17.41 7.96l-1.37-1.37c-.4-.4-.92-.59-1.43-.59-.52 0-1.04.2-1.43.59L10.3 9.45l-7.72 7.72c-.78.78-.78 2.05 0 2.83L4 21.41c.39.39.9.59 1.41.59.51 0 1.02-.2 1.41-.59l7.78-7.78 2.81-2.81c.8-.78.8-2.07 0-2.86zM5.41 20L4 18.59l7.72-7.72 1.47 1.35L5.41 20z\"/>\n",
              "  </svg>\n",
              "      </button>\n",
              "      \n",
              "  <style>\n",
              "    .colab-df-container {\n",
              "      display:flex;\n",
              "      flex-wrap:wrap;\n",
              "      gap: 12px;\n",
              "    }\n",
              "\n",
              "    .colab-df-convert {\n",
              "      background-color: #E8F0FE;\n",
              "      border: none;\n",
              "      border-radius: 50%;\n",
              "      cursor: pointer;\n",
              "      display: none;\n",
              "      fill: #1967D2;\n",
              "      height: 32px;\n",
              "      padding: 0 0 0 0;\n",
              "      width: 32px;\n",
              "    }\n",
              "\n",
              "    .colab-df-convert:hover {\n",
              "      background-color: #E2EBFA;\n",
              "      box-shadow: 0px 1px 2px rgba(60, 64, 67, 0.3), 0px 1px 3px 1px rgba(60, 64, 67, 0.15);\n",
              "      fill: #174EA6;\n",
              "    }\n",
              "\n",
              "    [theme=dark] .colab-df-convert {\n",
              "      background-color: #3B4455;\n",
              "      fill: #D2E3FC;\n",
              "    }\n",
              "\n",
              "    [theme=dark] .colab-df-convert:hover {\n",
              "      background-color: #434B5C;\n",
              "      box-shadow: 0px 1px 3px 1px rgba(0, 0, 0, 0.15);\n",
              "      filter: drop-shadow(0px 1px 2px rgba(0, 0, 0, 0.3));\n",
              "      fill: #FFFFFF;\n",
              "    }\n",
              "  </style>\n",
              "\n",
              "      <script>\n",
              "        const buttonEl =\n",
              "          document.querySelector('#df-93d3d381-1599-44a9-b366-843297396dac button.colab-df-convert');\n",
              "        buttonEl.style.display =\n",
              "          google.colab.kernel.accessAllowed ? 'block' : 'none';\n",
              "\n",
              "        async function convertToInteractive(key) {\n",
              "          const element = document.querySelector('#df-93d3d381-1599-44a9-b366-843297396dac');\n",
              "          const dataTable =\n",
              "            await google.colab.kernel.invokeFunction('convertToInteractive',\n",
              "                                                     [key], {});\n",
              "          if (!dataTable) return;\n",
              "\n",
              "          const docLinkHtml = 'Like what you see? Visit the ' +\n",
              "            '<a target=\"_blank\" href=https://colab.research.google.com/notebooks/data_table.ipynb>data table notebook</a>'\n",
              "            + ' to learn more about interactive tables.';\n",
              "          element.innerHTML = '';\n",
              "          dataTable['output_type'] = 'display_data';\n",
              "          await google.colab.output.renderOutput(dataTable, element);\n",
              "          const docLink = document.createElement('div');\n",
              "          docLink.innerHTML = docLinkHtml;\n",
              "          element.appendChild(docLink);\n",
              "        }\n",
              "      </script>\n",
              "    </div>\n",
              "  </div>\n",
              "  "
            ]
          },
          "metadata": {},
          "execution_count": 4
        }
      ]
    },
    {
      "cell_type": "code",
      "source": [
        "liver_gene_expr.head(n = 2)"
      ],
      "metadata": {
        "colab": {
          "base_uri": "https://localhost:8080/",
          "height": 240
        },
        "id": "1AkLYX1Vegwz",
        "outputId": "20b50933-52b1-4fd3-eae8-8a69500bd39e"
      },
      "execution_count": null,
      "outputs": [
        {
          "output_type": "execute_result",
          "data": {
            "text/plain": [
              "        Unnamed: 0          Label  X..100130426  X..100133144  X..100134869  \\\n",
              "0  TCGA.2V.A95S.01  Primary Tumor      -0.25593     -0.476165      0.134622   \n",
              "1  TCGA.2Y.A9GS.01  Primary Tumor      -0.25593      2.268472     -0.189274   \n",
              "\n",
              "   X..10357  X..10431  X..136542  X..155060  X..26823  ...  ZXDA.7789  \\\n",
              "0  0.066483 -0.283215  -0.067789   0.263113  1.214289  ...  -0.101024   \n",
              "1 -0.522460 -1.766629  -0.067789   0.114870  2.651003  ...   1.535443   \n",
              "\n",
              "   ZXDB.158586  ZXDC.79364  ZYG11A.440590  ZYG11B.79699  ZYX.7791  \\\n",
              "0    -0.836486    -0.61156      -0.096129     -1.126977 -0.055131   \n",
              "1     0.324199     0.75920       0.835624      0.233890  0.845728   \n",
              "\n",
              "   ZZEF1.23140  ZZZ3.26009  psiTPTE22.387590  tAKR.389932  \n",
              "0     0.760924   -0.132179         -0.011595    -0.962797  \n",
              "1     0.390778    1.258929          0.418190     1.458766  \n",
              "\n",
              "[2 rows x 20533 columns]"
            ],
            "text/html": [
              "\n",
              "  <div id=\"df-7fe3b1b9-f007-4515-9ca8-6cbcf1c8b5a8\">\n",
              "    <div class=\"colab-df-container\">\n",
              "      <div>\n",
              "<style scoped>\n",
              "    .dataframe tbody tr th:only-of-type {\n",
              "        vertical-align: middle;\n",
              "    }\n",
              "\n",
              "    .dataframe tbody tr th {\n",
              "        vertical-align: top;\n",
              "    }\n",
              "\n",
              "    .dataframe thead th {\n",
              "        text-align: right;\n",
              "    }\n",
              "</style>\n",
              "<table border=\"1\" class=\"dataframe\">\n",
              "  <thead>\n",
              "    <tr style=\"text-align: right;\">\n",
              "      <th></th>\n",
              "      <th>Unnamed: 0</th>\n",
              "      <th>Label</th>\n",
              "      <th>X..100130426</th>\n",
              "      <th>X..100133144</th>\n",
              "      <th>X..100134869</th>\n",
              "      <th>X..10357</th>\n",
              "      <th>X..10431</th>\n",
              "      <th>X..136542</th>\n",
              "      <th>X..155060</th>\n",
              "      <th>X..26823</th>\n",
              "      <th>...</th>\n",
              "      <th>ZXDA.7789</th>\n",
              "      <th>ZXDB.158586</th>\n",
              "      <th>ZXDC.79364</th>\n",
              "      <th>ZYG11A.440590</th>\n",
              "      <th>ZYG11B.79699</th>\n",
              "      <th>ZYX.7791</th>\n",
              "      <th>ZZEF1.23140</th>\n",
              "      <th>ZZZ3.26009</th>\n",
              "      <th>psiTPTE22.387590</th>\n",
              "      <th>tAKR.389932</th>\n",
              "    </tr>\n",
              "  </thead>\n",
              "  <tbody>\n",
              "    <tr>\n",
              "      <th>0</th>\n",
              "      <td>TCGA.2V.A95S.01</td>\n",
              "      <td>Primary Tumor</td>\n",
              "      <td>-0.25593</td>\n",
              "      <td>-0.476165</td>\n",
              "      <td>0.134622</td>\n",
              "      <td>0.066483</td>\n",
              "      <td>-0.283215</td>\n",
              "      <td>-0.067789</td>\n",
              "      <td>0.263113</td>\n",
              "      <td>1.214289</td>\n",
              "      <td>...</td>\n",
              "      <td>-0.101024</td>\n",
              "      <td>-0.836486</td>\n",
              "      <td>-0.61156</td>\n",
              "      <td>-0.096129</td>\n",
              "      <td>-1.126977</td>\n",
              "      <td>-0.055131</td>\n",
              "      <td>0.760924</td>\n",
              "      <td>-0.132179</td>\n",
              "      <td>-0.011595</td>\n",
              "      <td>-0.962797</td>\n",
              "    </tr>\n",
              "    <tr>\n",
              "      <th>1</th>\n",
              "      <td>TCGA.2Y.A9GS.01</td>\n",
              "      <td>Primary Tumor</td>\n",
              "      <td>-0.25593</td>\n",
              "      <td>2.268472</td>\n",
              "      <td>-0.189274</td>\n",
              "      <td>-0.522460</td>\n",
              "      <td>-1.766629</td>\n",
              "      <td>-0.067789</td>\n",
              "      <td>0.114870</td>\n",
              "      <td>2.651003</td>\n",
              "      <td>...</td>\n",
              "      <td>1.535443</td>\n",
              "      <td>0.324199</td>\n",
              "      <td>0.75920</td>\n",
              "      <td>0.835624</td>\n",
              "      <td>0.233890</td>\n",
              "      <td>0.845728</td>\n",
              "      <td>0.390778</td>\n",
              "      <td>1.258929</td>\n",
              "      <td>0.418190</td>\n",
              "      <td>1.458766</td>\n",
              "    </tr>\n",
              "  </tbody>\n",
              "</table>\n",
              "<p>2 rows × 20533 columns</p>\n",
              "</div>\n",
              "      <button class=\"colab-df-convert\" onclick=\"convertToInteractive('df-7fe3b1b9-f007-4515-9ca8-6cbcf1c8b5a8')\"\n",
              "              title=\"Convert this dataframe to an interactive table.\"\n",
              "              style=\"display:none;\">\n",
              "        \n",
              "  <svg xmlns=\"http://www.w3.org/2000/svg\" height=\"24px\"viewBox=\"0 0 24 24\"\n",
              "       width=\"24px\">\n",
              "    <path d=\"M0 0h24v24H0V0z\" fill=\"none\"/>\n",
              "    <path d=\"M18.56 5.44l.94 2.06.94-2.06 2.06-.94-2.06-.94-.94-2.06-.94 2.06-2.06.94zm-11 1L8.5 8.5l.94-2.06 2.06-.94-2.06-.94L8.5 2.5l-.94 2.06-2.06.94zm10 10l.94 2.06.94-2.06 2.06-.94-2.06-.94-.94-2.06-.94 2.06-2.06.94z\"/><path d=\"M17.41 7.96l-1.37-1.37c-.4-.4-.92-.59-1.43-.59-.52 0-1.04.2-1.43.59L10.3 9.45l-7.72 7.72c-.78.78-.78 2.05 0 2.83L4 21.41c.39.39.9.59 1.41.59.51 0 1.02-.2 1.41-.59l7.78-7.78 2.81-2.81c.8-.78.8-2.07 0-2.86zM5.41 20L4 18.59l7.72-7.72 1.47 1.35L5.41 20z\"/>\n",
              "  </svg>\n",
              "      </button>\n",
              "      \n",
              "  <style>\n",
              "    .colab-df-container {\n",
              "      display:flex;\n",
              "      flex-wrap:wrap;\n",
              "      gap: 12px;\n",
              "    }\n",
              "\n",
              "    .colab-df-convert {\n",
              "      background-color: #E8F0FE;\n",
              "      border: none;\n",
              "      border-radius: 50%;\n",
              "      cursor: pointer;\n",
              "      display: none;\n",
              "      fill: #1967D2;\n",
              "      height: 32px;\n",
              "      padding: 0 0 0 0;\n",
              "      width: 32px;\n",
              "    }\n",
              "\n",
              "    .colab-df-convert:hover {\n",
              "      background-color: #E2EBFA;\n",
              "      box-shadow: 0px 1px 2px rgba(60, 64, 67, 0.3), 0px 1px 3px 1px rgba(60, 64, 67, 0.15);\n",
              "      fill: #174EA6;\n",
              "    }\n",
              "\n",
              "    [theme=dark] .colab-df-convert {\n",
              "      background-color: #3B4455;\n",
              "      fill: #D2E3FC;\n",
              "    }\n",
              "\n",
              "    [theme=dark] .colab-df-convert:hover {\n",
              "      background-color: #434B5C;\n",
              "      box-shadow: 0px 1px 3px 1px rgba(0, 0, 0, 0.15);\n",
              "      filter: drop-shadow(0px 1px 2px rgba(0, 0, 0, 0.3));\n",
              "      fill: #FFFFFF;\n",
              "    }\n",
              "  </style>\n",
              "\n",
              "      <script>\n",
              "        const buttonEl =\n",
              "          document.querySelector('#df-7fe3b1b9-f007-4515-9ca8-6cbcf1c8b5a8 button.colab-df-convert');\n",
              "        buttonEl.style.display =\n",
              "          google.colab.kernel.accessAllowed ? 'block' : 'none';\n",
              "\n",
              "        async function convertToInteractive(key) {\n",
              "          const element = document.querySelector('#df-7fe3b1b9-f007-4515-9ca8-6cbcf1c8b5a8');\n",
              "          const dataTable =\n",
              "            await google.colab.kernel.invokeFunction('convertToInteractive',\n",
              "                                                     [key], {});\n",
              "          if (!dataTable) return;\n",
              "\n",
              "          const docLinkHtml = 'Like what you see? Visit the ' +\n",
              "            '<a target=\"_blank\" href=https://colab.research.google.com/notebooks/data_table.ipynb>data table notebook</a>'\n",
              "            + ' to learn more about interactive tables.';\n",
              "          element.innerHTML = '';\n",
              "          dataTable['output_type'] = 'display_data';\n",
              "          await google.colab.output.renderOutput(dataTable, element);\n",
              "          const docLink = document.createElement('div');\n",
              "          docLink.innerHTML = docLinkHtml;\n",
              "          element.appendChild(docLink);\n",
              "        }\n",
              "      </script>\n",
              "    </div>\n",
              "  </div>\n",
              "  "
            ]
          },
          "metadata": {},
          "execution_count": 22
        }
      ]
    },
    {
      "cell_type": "markdown",
      "source": [
        "May want to also try to remove duplicates and balance out the number of each class. "
      ],
      "metadata": {
        "id": "gWZ6oEsV4S1c"
      }
    },
    {
      "cell_type": "markdown",
      "source": [
        "# Gene Expression SVM\n"
      ],
      "metadata": {
        "id": "94duigwwOmCe"
      }
    },
    {
      "cell_type": "code",
      "source": [
        "## Encode the labels in 1 hot encoding\n",
        "from sklearn import svm, metrics\n",
        "from sklearn.metrics import plot_confusion_matrix\n",
        "from sklearn.preprocessing import LabelEncoder\n",
        "from keras.utils.np_utils import to_categorical\n",
        "from sklearn.impute import SimpleImputer\n",
        "\n",
        "# convert labels to 1 or 0 \n",
        "bool_tum_expr = [1 if value == 'Primary Tumor' else 0 for value in liver_gene_expr['Label'].values]\n",
        "bool_tum_meth = [1 if value == 'Primary Tumor' else 0 for value in liver_meth_dna['Label'].values]\n",
        "\n",
        "exp_enc = LabelEncoder()\n",
        "exp_enc.fit(bool_tum_expr)\n",
        "encoded_Y = exp_enc.transform(bool_tum_expr)\n",
        "# convert integers to dummy variables (i.e. one hot encoded)\n",
        "\n",
        "#sklearn's SimpleImputer can replace the missing values in a column\n",
        "#with the columns mean\n",
        "imp = SimpleImputer(missing_values=np.nan, strategy='mean')\n",
        "exp_data = imp.fit_transform(liver_gene_expr[col_names_exp[2:]])\n",
        "print(exp_data[1:4,:])\n",
        "\n",
        "print(np.any(np.isnan(exp_data)))\n",
        "print(exp_data)\n",
        "X_train, X_test, y_train, y_test = train_test_split(exp_data, bool_tum_expr, test_size=0.33, random_state=42)\n",
        "\n",
        "# Run a SVM\n",
        "# https://scikit-learn.org/stable/modules/svm.html\n",
        "clf_tumours = svm.SVC(kernel='rbf')\n",
        "clf_tumours.fit(X_train, y_train)\n",
        "plot_confusion_matrix(clf_tumours, X_test, y_test)  \n",
        "plt.show()\n",
        "plot_confusion_matrix(clf_tumours, exp_data, bool_tum_expr) \n",
        "\n",
        "y_pred = clf_tumours.predict(X_test)\n",
        "# Model Accuracy: how often is the classifier correct?\n",
        "print(\"Accuracy:\",metrics.accuracy_score(y_test, y_pred))\n",
        "# Model Precision: what is the percentage of positive class predictions that actually belong to the positive class?\n",
        "print(\"Precision:\",metrics.precision_score(y_test, y_pred, average='weighted'))\n",
        "# Model Recall: what is the percentage of positive class predictions made out of all positive examples in the dataset.\n",
        "print(\"Recall:\",metrics.recall_score(y_test, y_pred, average='weighted'))\n",
        "\n",
        "y_pred_train = clf_tumours.predict(X_train)\n",
        "# Model Accuracy: how often is the classifier correct?\n",
        "print(\"Training set Accuracy:\",metrics.accuracy_score(y_train, y_pred_train))\n",
        "# Model Precision: what is the percentage of positive class predictions that actually belong to the positive class?\n",
        "print(\"Training set Precision:\",metrics.precision_score(y_train, y_pred_train, average='weighted'))\n",
        "# Model Recall: what is the percentage of positive class predictions made out of all positive examples in the dataset.\n",
        "print(\"Training set Recall:\",metrics.recall_score(y_train, y_pred_train, average='weighted'))"
      ],
      "metadata": {
        "colab": {
          "base_uri": "https://localhost:8080/",
          "height": 1000
        },
        "id": "Ctb8BabkSvDX",
        "outputId": "4b62ed40-0c52-41bd-8390-2b0fda30b0b3"
      },
      "execution_count": 5,
      "outputs": [
        {
          "output_type": "stream",
          "name": "stdout",
          "text": [
            "[[-0.25592957  2.26847154 -0.18927447 ...  1.2589292   0.41818955\n",
            "   1.45876561]\n",
            " [-0.25592957 -1.5295894   0.33232946 ... -0.06286851  1.17940628\n",
            "   0.44327843]\n",
            " [-0.25592957  0.65613272  0.47502188 ... -1.18261389 -0.36448635\n",
            "  -1.40671968]]\n",
            "False\n",
            "[[-0.25592957 -0.47616495  0.13462249 ... -0.13217872 -0.01159508\n",
            "  -0.96279728]\n",
            " [-0.25592957  2.26847154 -0.18927447 ...  1.2589292   0.41818955\n",
            "   1.45876561]\n",
            " [-0.25592957 -1.5295894   0.33232946 ... -0.06286851  1.17940628\n",
            "   0.44327843]\n",
            " ...\n",
            " [-0.25592957 -1.5295894   1.07851796 ...  0.19584219 -1.67430781\n",
            "   0.67506188]\n",
            " [-0.25592957  0.90347699  1.2214136  ...  1.18408463 -0.29124152\n",
            "   0.67193626]\n",
            " [-0.25592957 -1.5295894   1.00660325 ...  0.39696149  0.27911813\n",
            "   0.61519723]]\n"
          ]
        },
        {
          "output_type": "stream",
          "name": "stderr",
          "text": [
            "/usr/local/lib/python3.7/dist-packages/sklearn/utils/deprecation.py:87: FutureWarning: Function plot_confusion_matrix is deprecated; Function `plot_confusion_matrix` is deprecated in 1.0 and will be removed in 1.2. Use one of the class methods: ConfusionMatrixDisplay.from_predictions or ConfusionMatrixDisplay.from_estimator.\n",
            "  warnings.warn(msg, category=FutureWarning)\n"
          ]
        },
        {
          "output_type": "display_data",
          "data": {
            "text/plain": [
              "<Figure size 432x288 with 2 Axes>"
            ],
            "image/png": "[encoded data removed]"
          },
          "metadata": {
            "needs_background": "light"
          }
        },
        {
          "output_type": "stream",
          "name": "stderr",
          "text": [
            "/usr/local/lib/python3.7/dist-packages/sklearn/utils/deprecation.py:87: FutureWarning: Function plot_confusion_matrix is deprecated; Function `plot_confusion_matrix` is deprecated in 1.0 and will be removed in 1.2. Use one of the class methods: ConfusionMatrixDisplay.from_predictions or ConfusionMatrixDisplay.from_estimator.\n",
            "  warnings.warn(msg, category=FutureWarning)\n"
          ]
        },
        {
          "output_type": "stream",
          "name": "stdout",
          "text": [
            "Accuracy: 0.9928057553956835\n",
            "Precision: 0.9928637734973311\n",
            "Recall: 0.9928057553956835\n",
            "Training set Accuracy: 0.9964539007092199\n",
            "Training set Precision: 0.9965552178318136\n",
            "Training set Recall: 0.9964539007092199\n"
          ]
        },
        {
          "output_type": "display_data",
          "data": {
            "text/plain": [
              "<Figure size 432x288 with 2 Axes>"
            ],
            "image/png": "[encoded data removed]"
          },
          "metadata": {
            "needs_background": "light"
          }
        }
      ]
    },
    {
      "cell_type": "markdown",
      "source": [
        "# Gene Expression SVM - Mystery Data\n"
      ],
      "metadata": {
        "id": "omBqNDpzps73"
      }
    },
    {
      "cell_type": "code",
      "source": [
        "\n",
        "mys_meth_dna = pd.read_csv('mystery_dna-meth.csv')\n",
        "mys_gene_expr = pd.read_csv('mystery_gene-expr.csv')\n",
        "col_names_exp_mys = mys_gene_expr.columns\n",
        "col_names_meth_mys = mys_meth_dna.columns"
      ],
      "metadata": {
        "id": "5NYY9GsLJLfQ"
      },
      "execution_count": null,
      "outputs": []
    },
    {
      "cell_type": "code",
      "source": [
        "# standardizing and log transform data prior to PCA\n",
        "# for each numeric value column in the dataframem, normalize \n",
        "# and log tranform the values\n",
        "\n",
        "expr_means = []\n",
        "\n",
        "mys_gene_expr = mys_gene_expr[mys_gene_expr['Label'].notna()]\n",
        "\n",
        "# convert labels to 1 or 0 \n",
        "bool_tum_expr_mys = [1 if value == 'Primary Tumor' else 0 for value in liver_gene_expr['Label'].values]\n",
        "\n",
        "for column in mys_gene_expr[col_names_exp_mys[2:]]:\n",
        "  #liver_gene_expr[column] = liver_gene_expr[column].str.replace(regex ='[^0-9.]', value = \"d\") \n",
        "  #liver_gene_expr[column] = liver_gene_expr[column].str.replace(regex = 'd{10}]', value = \"d\") \n",
        "  col_mean = mys_gene_expr[column].mean()\n",
        "  expr_means.append(col_mean)\n",
        "  if col_mean > 0.025:\n",
        "    mys_gene_expr[column] = mys_gene_expr[column].replace([np.inf, np.nan, -np.inf], col_mean)\n",
        "  else: \n",
        "    mys_gene_expr = mys_gene_expr.drop(column, axis = 1)\n",
        "  #liver_meth_dna[column] = liver_meth_dna[column].fillna(col_mean)\n",
        "\n",
        "print(mys_gene_expr.shape)\n",
        "\n",
        "plt.hist(expr_means, bins = 40, range = [0.0, 0.2])\n",
        "plt.show()\n",
        "\n",
        "col_names_exp_mys = mys_gene_expr.columns\n",
        "\n",
        "\n",
        "#Normalize and log tranform data for both sets\n",
        "for col_name in col_names_exp_mys[2:]:\n",
        "  col_data = pd.to_numeric(np.log2(mys_gene_expr[col_name].values + 1))\n",
        "  col_mean = np.mean(col_data)\n",
        "  col_std = np.std(col_data)\n",
        "  new_data = (col_data - col_mean)/(col_std)\n",
        "  mys_gene_expr[col_name] = new_data\n",
        "\n",
        "\n",
        "mys_gene_expr.head(n= 2)\n",
        "\n",
        "#Impute\n",
        "imp = SimpleImputer(missing_values=np.nan, strategy='mean')\n",
        "mys_exp_data = imp.fit_transform(mys_gene_expr[col_names_exp_mys[2:]])\n",
        "print(exp_data[1:4,:])\n"
      ],
      "metadata": {
        "colab": {
          "base_uri": "https://localhost:8080/",
          "height": 505
        },
        "outputId": "07288469-d0f7-46b5-8f1e-e246a606dde2",
        "id": "6vIpCwHIqI2h"
      },
      "execution_count": null,
      "outputs": [
        {
          "output_type": "stream",
          "name": "stdout",
          "text": [
            "(421, 19547)\n"
          ]
        },
        {
          "output_type": "display_data",
          "data": {
            "text/plain": [
              "<Figure size 432x288 with 1 Axes>"
            ],
            "image/png": "[encoded data removed]"
          },
          "metadata": {
            "needs_background": "light"
          }
        },
        {
          "output_type": "execute_result",
          "data": {
            "text/plain": [
              "        Unnamed: 0          Label  X..100130426  X..100133144  X..100134869  \\\n",
              "0  TCGA.2V.A95S.01  Primary Tumor      -0.25593     -0.476165      0.134622   \n",
              "1  TCGA.2Y.A9GS.01  Primary Tumor      -0.25593      2.268472     -0.189274   \n",
              "\n",
              "   X..10357  X..10431  X..155060  X..26823  X..280660  ...  ZXDA.7789  \\\n",
              "0  0.066483 -0.283215   0.263113  1.214289  -0.419556  ...  -0.101024   \n",
              "1 -0.522460 -1.766629   0.114870  2.651003  -0.419556  ...   1.535443   \n",
              "\n",
              "   ZXDB.158586  ZXDC.79364  ZYG11A.440590  ZYG11B.79699  ZYX.7791  \\\n",
              "0    -0.836486    -0.61156      -0.096129     -1.126977 -0.055131   \n",
              "1     0.324199     0.75920       0.835624      0.233890  0.845728   \n",
              "\n",
              "   ZZEF1.23140  ZZZ3.26009  psiTPTE22.387590  tAKR.389932  \n",
              "0     0.760924   -0.132179         -0.011595    -0.962797  \n",
              "1     0.390778    1.258929          0.418190     1.458766  \n",
              "\n",
              "[2 rows x 19547 columns]"
            ],
            "text/html": [
              "\n",
              "  <div id=\"df-718ab086-fc79-40fd-adef-e9d48279fb30\">\n",
              "    <div class=\"colab-df-container\">\n",
              "      <div>\n",
              "<style scoped>\n",
              "    .dataframe tbody tr th:only-of-type {\n",
              "        vertical-align: middle;\n",
              "    }\n",
              "\n",
              "    .dataframe tbody tr th {\n",
              "        vertical-align: top;\n",
              "    }\n",
              "\n",
              "    .dataframe thead th {\n",
              "        text-align: right;\n",
              "    }\n",
              "</style>\n",
              "<table border=\"1\" class=\"dataframe\">\n",
              "  <thead>\n",
              "    <tr style=\"text-align: right;\">\n",
              "      <th></th>\n",
              "      <th>Unnamed: 0</th>\n",
              "      <th>Label</th>\n",
              "      <th>X..100130426</th>\n",
              "      <th>X..100133144</th>\n",
              "      <th>X..100134869</th>\n",
              "      <th>X..10357</th>\n",
              "      <th>X..10431</th>\n",
              "      <th>X..155060</th>\n",
              "      <th>X..26823</th>\n",
              "      <th>X..280660</th>\n",
              "      <th>...</th>\n",
              "      <th>ZXDA.7789</th>\n",
              "      <th>ZXDB.158586</th>\n",
              "      <th>ZXDC.79364</th>\n",
              "      <th>ZYG11A.440590</th>\n",
              "      <th>ZYG11B.79699</th>\n",
              "      <th>ZYX.7791</th>\n",
              "      <th>ZZEF1.23140</th>\n",
              "      <th>ZZZ3.26009</th>\n",
              "      <th>psiTPTE22.387590</th>\n",
              "      <th>tAKR.389932</th>\n",
              "    </tr>\n",
              "  </thead>\n",
              "  <tbody>\n",
              "    <tr>\n",
              "      <th>0</th>\n",
              "      <td>TCGA.2V.A95S.01</td>\n",
              "      <td>Primary Tumor</td>\n",
              "      <td>-0.25593</td>\n",
              "      <td>-0.476165</td>\n",
              "      <td>0.134622</td>\n",
              "      <td>0.066483</td>\n",
              "      <td>-0.283215</td>\n",
              "      <td>0.263113</td>\n",
              "      <td>1.214289</td>\n",
              "      <td>-0.419556</td>\n",
              "      <td>...</td>\n",
              "      <td>-0.101024</td>\n",
              "      <td>-0.836486</td>\n",
              "      <td>-0.61156</td>\n",
              "      <td>-0.096129</td>\n",
              "      <td>-1.126977</td>\n",
              "      <td>-0.055131</td>\n",
              "      <td>0.760924</td>\n",
              "      <td>-0.132179</td>\n",
              "      <td>-0.011595</td>\n",
              "      <td>-0.962797</td>\n",
              "    </tr>\n",
              "    <tr>\n",
              "      <th>1</th>\n",
              "      <td>TCGA.2Y.A9GS.01</td>\n",
              "      <td>Primary Tumor</td>\n",
              "      <td>-0.25593</td>\n",
              "      <td>2.268472</td>\n",
              "      <td>-0.189274</td>\n",
              "      <td>-0.522460</td>\n",
              "      <td>-1.766629</td>\n",
              "      <td>0.114870</td>\n",
              "      <td>2.651003</td>\n",
              "      <td>-0.419556</td>\n",
              "      <td>...</td>\n",
              "      <td>1.535443</td>\n",
              "      <td>0.324199</td>\n",
              "      <td>0.75920</td>\n",
              "      <td>0.835624</td>\n",
              "      <td>0.233890</td>\n",
              "      <td>0.845728</td>\n",
              "      <td>0.390778</td>\n",
              "      <td>1.258929</td>\n",
              "      <td>0.418190</td>\n",
              "      <td>1.458766</td>\n",
              "    </tr>\n",
              "  </tbody>\n",
              "</table>\n",
              "<p>2 rows × 19547 columns</p>\n",
              "</div>\n",
              "      <button class=\"colab-df-convert\" onclick=\"convertToInteractive('df-718ab086-fc79-40fd-adef-e9d48279fb30')\"\n",
              "              title=\"Convert this dataframe to an interactive table.\"\n",
              "              style=\"display:none;\">\n",
              "        \n",
              "  <svg xmlns=\"http://www.w3.org/2000/svg\" height=\"24px\"viewBox=\"0 0 24 24\"\n",
              "       width=\"24px\">\n",
              "    <path d=\"M0 0h24v24H0V0z\" fill=\"none\"/>\n",
              "    <path d=\"M18.56 5.44l.94 2.06.94-2.06 2.06-.94-2.06-.94-.94-2.06-.94 2.06-2.06.94zm-11 1L8.5 8.5l.94-2.06 2.06-.94-2.06-.94L8.5 2.5l-.94 2.06-2.06.94zm10 10l.94 2.06.94-2.06 2.06-.94-2.06-.94-.94-2.06-.94 2.06-2.06.94z\"/><path d=\"M17.41 7.96l-1.37-1.37c-.4-.4-.92-.59-1.43-.59-.52 0-1.04.2-1.43.59L10.3 9.45l-7.72 7.72c-.78.78-.78 2.05 0 2.83L4 21.41c.39.39.9.59 1.41.59.51 0 1.02-.2 1.41-.59l7.78-7.78 2.81-2.81c.8-.78.8-2.07 0-2.86zM5.41 20L4 18.59l7.72-7.72 1.47 1.35L5.41 20z\"/>\n",
              "  </svg>\n",
              "      </button>\n",
              "      \n",
              "  <style>\n",
              "    .colab-df-container {\n",
              "      display:flex;\n",
              "      flex-wrap:wrap;\n",
              "      gap: 12px;\n",
              "    }\n",
              "\n",
              "    .colab-df-convert {\n",
              "      background-color: #E8F0FE;\n",
              "      border: none;\n",
              "      border-radius: 50%;\n",
              "      cursor: pointer;\n",
              "      display: none;\n",
              "      fill: #1967D2;\n",
              "      height: 32px;\n",
              "      padding: 0 0 0 0;\n",
              "      width: 32px;\n",
              "    }\n",
              "\n",
              "    .colab-df-convert:hover {\n",
              "      background-color: #E2EBFA;\n",
              "      box-shadow: 0px 1px 2px rgba(60, 64, 67, 0.3), 0px 1px 3px 1px rgba(60, 64, 67, 0.15);\n",
              "      fill: #174EA6;\n",
              "    }\n",
              "\n",
              "    [theme=dark] .colab-df-convert {\n",
              "      background-color: #3B4455;\n",
              "      fill: #D2E3FC;\n",
              "    }\n",
              "\n",
              "    [theme=dark] .colab-df-convert:hover {\n",
              "      background-color: #434B5C;\n",
              "      box-shadow: 0px 1px 3px 1px rgba(0, 0, 0, 0.15);\n",
              "      filter: drop-shadow(0px 1px 2px rgba(0, 0, 0, 0.3));\n",
              "      fill: #FFFFFF;\n",
              "    }\n",
              "  </style>\n",
              "\n",
              "      <script>\n",
              "        const buttonEl =\n",
              "          document.querySelector('#df-718ab086-fc79-40fd-adef-e9d48279fb30 button.colab-df-convert');\n",
              "        buttonEl.style.display =\n",
              "          google.colab.kernel.accessAllowed ? 'block' : 'none';\n",
              "\n",
              "        async function convertToInteractive(key) {\n",
              "          const element = document.querySelector('#df-718ab086-fc79-40fd-adef-e9d48279fb30');\n",
              "          const dataTable =\n",
              "            await google.colab.kernel.invokeFunction('convertToInteractive',\n",
              "                                                     [key], {});\n",
              "          if (!dataTable) return;\n",
              "\n",
              "          const docLinkHtml = 'Like what you see? Visit the ' +\n",
              "            '<a target=\"_blank\" href=https://colab.research.google.com/notebooks/data_table.ipynb>data table notebook</a>'\n",
              "            + ' to learn more about interactive tables.';\n",
              "          element.innerHTML = '';\n",
              "          dataTable['output_type'] = 'display_data';\n",
              "          await google.colab.output.renderOutput(dataTable, element);\n",
              "          const docLink = document.createElement('div');\n",
              "          docLink.innerHTML = docLinkHtml;\n",
              "          element.appendChild(docLink);\n",
              "        }\n",
              "      </script>\n",
              "    </div>\n",
              "  </div>\n",
              "  "
            ]
          },
          "metadata": {},
          "execution_count": 4
        }
      ]
    },
    {
      "cell_type": "code",
      "source": [
        "\n",
        "\n",
        "exp_enc = LabelEncoder()\n",
        "exp_enc.fit(bool_tum_expr)\n",
        "encoded_Y = exp_enc.transform(bool_tum_expr)\n",
        "# convert integers to dummy variables (i.e. one hot encoded)\n",
        "\n",
        "\n",
        "y_pred = clf_tumours.predict(X_test)\n",
        "# Model Accuracy: how often is the classifier correct?\n",
        "print(\"Accuracy:\",metrics.accuracy_score(y_test, y_pred))\n",
        "# Model Precision: what is the percentage of positive class predictions that actually belong to the positive class?\n",
        "print(\"Precision:\",metrics.precision_score(y_test, y_pred, average='weighted'))\n",
        "# Model Recall: what is the percentage of positive class predictions made out of all positive examples in the dataset.\n",
        "print(\"Recall:\",metrics.recall_score(y_test, y_pred, average='weighted'))\n",
        "\n",
        "y_pred_train = clf_tumours.predict(X_train)\n",
        "# Model Accuracy: how often is the classifier correct?\n",
        "print(\"Training set Accuracy:\",metrics.accuracy_score(y_train, y_pred_train))\n",
        "# Model Precision: what is the percentage of positive class predictions that actually belong to the positive class?\n",
        "print(\"Training set Precision:\",metrics.precision_score(y_train, y_pred_train, average='weighted'))\n",
        "# Model Recall: what is the percentage of positive class predictions made out of all positive examples in the dataset.\n",
        "print(\"Training set Recall:\",metrics.recall_score(y_train, y_pred_train, average='weighted'))"
      ],
      "metadata": {
        "colab": {
          "base_uri": "https://localhost:8080/",
          "height": 1000
        },
        "outputId": "f4e2c3af-ff8e-4d27-abf3-574a8d98dc09",
        "id": "GT1BMBFCqOuu"
      },
      "execution_count": null,
      "outputs": [
        {
          "output_type": "stream",
          "name": "stdout",
          "text": [
            "[[-0.25592957  2.26847154 -0.18927447 ...  1.2589292   0.41818955\n",
            "   1.45876561]\n",
            " [-0.25592957 -1.5295894   0.33232946 ... -0.06286851  1.17940628\n",
            "   0.44327843]\n",
            " [-0.25592957  0.65613272  0.47502188 ... -1.18261389 -0.36448635\n",
            "  -1.40671968]]\n",
            "False\n",
            "[[-0.25592957 -0.47616495  0.13462249 ... -0.13217872 -0.01159508\n",
            "  -0.96279728]\n",
            " [-0.25592957  2.26847154 -0.18927447 ...  1.2589292   0.41818955\n",
            "   1.45876561]\n",
            " [-0.25592957 -1.5295894   0.33232946 ... -0.06286851  1.17940628\n",
            "   0.44327843]\n",
            " ...\n",
            " [-0.25592957 -1.5295894   1.07851796 ...  0.19584219 -1.67430781\n",
            "   0.67506188]\n",
            " [-0.25592957  0.90347699  1.2214136  ...  1.18408463 -0.29124152\n",
            "   0.67193626]\n",
            " [-0.25592957 -1.5295894   1.00660325 ...  0.39696149  0.27911813\n",
            "   0.61519723]]\n"
          ]
        },
        {
          "output_type": "stream",
          "name": "stderr",
          "text": [
            "/usr/local/lib/python3.7/dist-packages/sklearn/utils/deprecation.py:87: FutureWarning: Function plot_confusion_matrix is deprecated; Function `plot_confusion_matrix` is deprecated in 1.0 and will be removed in 1.2. Use one of the class methods: ConfusionMatrixDisplay.from_predictions or ConfusionMatrixDisplay.from_estimator.\n",
            "  warnings.warn(msg, category=FutureWarning)\n"
          ]
        },
        {
          "output_type": "display_data",
          "data": {
            "text/plain": [
              "<Figure size 432x288 with 2 Axes>"
            ],
            "image/png": "[encoded data removed]"
          },
          "metadata": {
            "needs_background": "light"
          }
        },
        {
          "output_type": "stream",
          "name": "stderr",
          "text": [
            "/usr/local/lib/python3.7/dist-packages/sklearn/utils/deprecation.py:87: FutureWarning: Function plot_confusion_matrix is deprecated; Function `plot_confusion_matrix` is deprecated in 1.0 and will be removed in 1.2. Use one of the class methods: ConfusionMatrixDisplay.from_predictions or ConfusionMatrixDisplay.from_estimator.\n",
            "  warnings.warn(msg, category=FutureWarning)\n"
          ]
        },
        {
          "output_type": "stream",
          "name": "stdout",
          "text": [
            "Accuracy: 0.9928057553956835\n",
            "Precision: 0.9928637734973311\n",
            "Recall: 0.9928057553956835\n",
            "Training set Accuracy: 0.9964539007092199\n",
            "Training set Precision: 0.9965552178318136\n",
            "Training set Recall: 0.9964539007092199\n"
          ]
        },
        {
          "output_type": "display_data",
          "data": {
            "text/plain": [
              "<Figure size 432x288 with 2 Axes>"
            ],
            "image/png": "[encoded data removed]"
          },
          "metadata": {
            "needs_background": "light"
          }
        }
      ]
    },
    {
      "cell_type": "markdown",
      "source": [
        "# PCA"
      ],
      "metadata": {
        "id": "nYKlgHCAaOwK"
      }
    },
    {
      "cell_type": "markdown",
      "source": [
        "Alternatively, one could perform PCA on the data to determine which features are most important to reduce dimensionality prior to training an SVM or a neural network."
      ],
      "metadata": {
        "id": "6VHHvzVb4HTw"
      }
    },
    {
      "cell_type": "code",
      "source": [
        "# Using PCA\n",
        "# turn into PCA\n",
        "from sklearn.decomposition import PCA\n",
        "from sklearn.preprocessing import StandardScaler\n",
        "print(liver_gene_expr.isnull().values.any())\n",
        "\n",
        "imp = SimpleImputer(missing_values=np.nan, strategy='mean')\n",
        "exp_data = imp.fit_transform(liver_gene_expr[col_names_exp[2:]].T)\n",
        "\n",
        "#scale the data\n",
        "scaler = StandardScaler()\n",
        "scaler.fit(exp_data)\n",
        "exp_data=scaler.transform(exp_data) \n",
        "\n",
        "#print(liver_gene_expr.apply(pd.isna).all())\n",
        "\n",
        "#try 10 components or more\n",
        "exp_pca = PCA(n_components=20)\n",
        "exp_pc_data = exp_pca.fit_transform(exp_data)\n",
        "\n",
        "print(exp_pc_data.shape)\n",
        "\n",
        "PC_values = np.arange(exp_pca.n_components_) + 1\n",
        "plt.plot(PC_values, exp_pca.explained_variance_ratio_, 'o-', linewidth=1, color='black')\n",
        "plt.xlabel('Principal Component')\n",
        "plt.ylabel('Explained Variance')\n",
        "plt.show()\n",
        "\n",
        "print(exp_pca.explained_variance_ratio_)\n",
        "\n",
        "# \n"
      ],
      "metadata": {
        "colab": {
          "base_uri": "https://localhost:8080/",
          "height": 383
        },
        "id": "3fdoX_a7kXm8",
        "outputId": "b57e4bf3-79ac-4272-82af-f4f50d2b79a3"
      },
      "execution_count": null,
      "outputs": [
        {
          "output_type": "stream",
          "name": "stdout",
          "text": [
            "True\n",
            "(20531, 20)\n"
          ]
        },
        {
          "output_type": "display_data",
          "data": {
            "text/plain": [
              "<Figure size 432x288 with 1 Axes>"
            ],
            "image/png": "[encoded data removed]"
          },
          "metadata": {
            "needs_background": "light"
          }
        },
        {
          "output_type": "stream",
          "name": "stdout",
          "text": [
            "[0.10370629 0.07798418 0.06108182 0.02861618 0.02679588 0.02567671\n",
            " 0.0195272  0.01766106 0.01432843 0.01360874 0.01155351 0.010653\n",
            " 0.01019934 0.00990339 0.00885247 0.00877028 0.00822711 0.00753337\n",
            " 0.00693344 0.00677224]\n"
          ]
        }
      ]
    },
    {
      "cell_type": "markdown",
      "source": [
        "Convolutional Neural Network Gene Expression"
      ],
      "metadata": {
        "id": "M-lUiOxXYWiM"
      }
    },
    {
      "cell_type": "code",
      "source": [
        "\n",
        "#first clean and scale the data\n",
        "col_names_exp_CNN = col_names_exp\n",
        "liver_gene_expr_nn = liver_gene_expr.copy()\n",
        "liver_gene_expr_nn[col_names_exp[2:]] = imp.fit_transform(liver_gene_expr_nn[col_names_exp[2:]])\n",
        "for new_col in range(205): \n",
        "  liver_gene_expr_nn[\"AddC\" + str(new_col)] = np.zeroes((421, 1))\n",
        "  col_names_exp_CNN.append(\"AddC\" + str(new_col))\n",
        "\n",
        "exp_data_CNN = []\n",
        "exp_lab_CNN = []\n",
        "lab_index = 0\n",
        "#the closest perfect square to 20531 is 20736, therefore 20736 -20531 additional columns required \n",
        "for index, row in liver_gene_expr_nn:\n",
        "  #take the row and turn it into a 144 x 144 nparray\n",
        "  sample_data = row[col_names_exp_CNN[2:]].values\n",
        "  #rescale to between 0 and 255\n",
        "  sample_data *= (255.0/sample_data.max())\n",
        "  sample_data = np.reshape(sample_data, (144,144))\n",
        "  exp_data_CNN.append(sample_data)\n",
        "  exp_lab_CNN.append(bool_tum_expr[lab_index])\n",
        "  lab_index += 1\n",
        "\n",
        "exp_data_CNN = np.asarray(exp_data_CNN)\n",
        "exp_lab_CNN = np.asarray(exp_data_CNN)\n",
        "\n",
        "np.save('exp_data.npy', exp_data_CNN)\n",
        "np.save('exp_labels.npy', exp_lab_CNN)"
      ],
      "metadata": {
        "colab": {
          "base_uri": "https://localhost:8080/",
          "height": 380
        },
        "id": "qFUlgZil8HWT",
        "outputId": "db1e66ba-dd84-44cc-9190-0211876d3f38"
      },
      "execution_count": null,
      "outputs": [
        {
          "output_type": "error",
          "ename": "ValueError",
          "evalue": "ignored",
          "traceback": [
            "\u001b[0;31m---------------------------------------------------------------------------\u001b[0m",
            "\u001b[0;31mValueError\u001b[0m                                Traceback (most recent call last)",
            "\u001b[0;32m<ipython-input-20-9295d6d1a1ca>\u001b[0m in \u001b[0;36m<module>\u001b[0;34m\u001b[0m\n\u001b[1;32m      2\u001b[0m \u001b[0mcol_names_exp_CNN\u001b[0m \u001b[0;34m=\u001b[0m \u001b[0mcol_names_exp\u001b[0m\u001b[0;34m\u001b[0m\u001b[0;34m\u001b[0m\u001b[0m\n\u001b[1;32m      3\u001b[0m \u001b[0mliver_gene_expr_nn\u001b[0m \u001b[0;34m=\u001b[0m \u001b[0mliver_gene_expr\u001b[0m\u001b[0;34m.\u001b[0m\u001b[0mcopy\u001b[0m\u001b[0;34m(\u001b[0m\u001b[0;34m)\u001b[0m\u001b[0;34m\u001b[0m\u001b[0;34m\u001b[0m\u001b[0m\n\u001b[0;32m----> 4\u001b[0;31m \u001b[0mliver_gene_expr_nn\u001b[0m\u001b[0;34m[\u001b[0m\u001b[0mcol_names_exp\u001b[0m\u001b[0;34m[\u001b[0m\u001b[0;36m2\u001b[0m\u001b[0;34m:\u001b[0m\u001b[0;34m]\u001b[0m\u001b[0;34m]\u001b[0m \u001b[0;34m=\u001b[0m \u001b[0mimp\u001b[0m\u001b[0;34m.\u001b[0m\u001b[0mfit_transform\u001b[0m\u001b[0;34m(\u001b[0m\u001b[0mliver_gene_expr_nn\u001b[0m\u001b[0;34m[\u001b[0m\u001b[0mcol_names_exp\u001b[0m\u001b[0;34m[\u001b[0m\u001b[0;36m2\u001b[0m\u001b[0;34m:\u001b[0m\u001b[0;34m]\u001b[0m\u001b[0;34m]\u001b[0m\u001b[0;34m)\u001b[0m\u001b[0;34m\u001b[0m\u001b[0;34m\u001b[0m\u001b[0m\n\u001b[0m\u001b[1;32m      5\u001b[0m \u001b[0;32mfor\u001b[0m \u001b[0mnew_col\u001b[0m \u001b[0;32min\u001b[0m \u001b[0mrange\u001b[0m\u001b[0;34m(\u001b[0m\u001b[0;36m205\u001b[0m\u001b[0;34m)\u001b[0m\u001b[0;34m:\u001b[0m\u001b[0;34m\u001b[0m\u001b[0;34m\u001b[0m\u001b[0m\n\u001b[1;32m      6\u001b[0m   \u001b[0mliver_gene_expr_nn\u001b[0m\u001b[0;34m[\u001b[0m\u001b[0;34m\"AddC\"\u001b[0m \u001b[0;34m+\u001b[0m \u001b[0mstr\u001b[0m\u001b[0;34m(\u001b[0m\u001b[0mnew_col\u001b[0m\u001b[0;34m)\u001b[0m\u001b[0;34m]\u001b[0m \u001b[0;34m=\u001b[0m \u001b[0mnp\u001b[0m\u001b[0;34m.\u001b[0m\u001b[0mzeroes\u001b[0m\u001b[0;34m(\u001b[0m\u001b[0;34m(\u001b[0m\u001b[0;36m421\u001b[0m\u001b[0;34m,\u001b[0m \u001b[0;36m1\u001b[0m\u001b[0;34m)\u001b[0m\u001b[0;34m)\u001b[0m\u001b[0;34m\u001b[0m\u001b[0;34m\u001b[0m\u001b[0m\n",
            "\u001b[0;32m/usr/local/lib/python3.7/dist-packages/pandas/core/frame.py\u001b[0m in \u001b[0;36m__setitem__\u001b[0;34m(self, key, value)\u001b[0m\n\u001b[1;32m   3598\u001b[0m             \u001b[0mself\u001b[0m\u001b[0;34m.\u001b[0m\u001b[0m_setitem_frame\u001b[0m\u001b[0;34m(\u001b[0m\u001b[0mkey\u001b[0m\u001b[0;34m,\u001b[0m \u001b[0mvalue\u001b[0m\u001b[0;34m)\u001b[0m\u001b[0;34m\u001b[0m\u001b[0;34m\u001b[0m\u001b[0m\n\u001b[1;32m   3599\u001b[0m         \u001b[0;32melif\u001b[0m \u001b[0misinstance\u001b[0m\u001b[0;34m(\u001b[0m\u001b[0mkey\u001b[0m\u001b[0;34m,\u001b[0m \u001b[0;34m(\u001b[0m\u001b[0mSeries\u001b[0m\u001b[0;34m,\u001b[0m \u001b[0mnp\u001b[0m\u001b[0;34m.\u001b[0m\u001b[0mndarray\u001b[0m\u001b[0;34m,\u001b[0m \u001b[0mlist\u001b[0m\u001b[0;34m,\u001b[0m \u001b[0mIndex\u001b[0m\u001b[0;34m)\u001b[0m\u001b[0;34m)\u001b[0m\u001b[0;34m:\u001b[0m\u001b[0;34m\u001b[0m\u001b[0;34m\u001b[0m\u001b[0m\n\u001b[0;32m-> 3600\u001b[0;31m             \u001b[0mself\u001b[0m\u001b[0;34m.\u001b[0m\u001b[0m_setitem_array\u001b[0m\u001b[0;34m(\u001b[0m\u001b[0mkey\u001b[0m\u001b[0;34m,\u001b[0m \u001b[0mvalue\u001b[0m\u001b[0;34m)\u001b[0m\u001b[0;34m\u001b[0m\u001b[0;34m\u001b[0m\u001b[0m\n\u001b[0m\u001b[1;32m   3601\u001b[0m         \u001b[0;32melif\u001b[0m \u001b[0misinstance\u001b[0m\u001b[0;34m(\u001b[0m\u001b[0mvalue\u001b[0m\u001b[0;34m,\u001b[0m \u001b[0mDataFrame\u001b[0m\u001b[0;34m)\u001b[0m\u001b[0;34m:\u001b[0m\u001b[0;34m\u001b[0m\u001b[0;34m\u001b[0m\u001b[0m\n\u001b[1;32m   3602\u001b[0m             \u001b[0mself\u001b[0m\u001b[0;34m.\u001b[0m\u001b[0m_set_item_frame_value\u001b[0m\u001b[0;34m(\u001b[0m\u001b[0mkey\u001b[0m\u001b[0;34m,\u001b[0m \u001b[0mvalue\u001b[0m\u001b[0;34m)\u001b[0m\u001b[0;34m\u001b[0m\u001b[0;34m\u001b[0m\u001b[0m\n",
            "\u001b[0;32m/usr/local/lib/python3.7/dist-packages/pandas/core/frame.py\u001b[0m in \u001b[0;36m_setitem_array\u001b[0;34m(self, key, value)\u001b[0m\n\u001b[1;32m   3646\u001b[0m \u001b[0;34m\u001b[0m\u001b[0m\n\u001b[1;32m   3647\u001b[0m             \u001b[0;32melif\u001b[0m \u001b[0misinstance\u001b[0m\u001b[0;34m(\u001b[0m\u001b[0mvalue\u001b[0m\u001b[0;34m,\u001b[0m \u001b[0mnp\u001b[0m\u001b[0;34m.\u001b[0m\u001b[0mndarray\u001b[0m\u001b[0;34m)\u001b[0m \u001b[0;32mand\u001b[0m \u001b[0mvalue\u001b[0m\u001b[0;34m.\u001b[0m\u001b[0mndim\u001b[0m \u001b[0;34m==\u001b[0m \u001b[0;36m2\u001b[0m\u001b[0;34m:\u001b[0m\u001b[0;34m\u001b[0m\u001b[0;34m\u001b[0m\u001b[0m\n\u001b[0;32m-> 3648\u001b[0;31m                 \u001b[0mself\u001b[0m\u001b[0;34m.\u001b[0m\u001b[0m_iset_not_inplace\u001b[0m\u001b[0;34m(\u001b[0m\u001b[0mkey\u001b[0m\u001b[0;34m,\u001b[0m \u001b[0mvalue\u001b[0m\u001b[0;34m)\u001b[0m\u001b[0;34m\u001b[0m\u001b[0;34m\u001b[0m\u001b[0m\n\u001b[0m\u001b[1;32m   3649\u001b[0m \u001b[0;34m\u001b[0m\u001b[0m\n\u001b[1;32m   3650\u001b[0m             \u001b[0;32melif\u001b[0m \u001b[0mnp\u001b[0m\u001b[0;34m.\u001b[0m\u001b[0mndim\u001b[0m\u001b[0;34m(\u001b[0m\u001b[0mvalue\u001b[0m\u001b[0;34m)\u001b[0m \u001b[0;34m>\u001b[0m \u001b[0;36m1\u001b[0m\u001b[0;34m:\u001b[0m\u001b[0;34m\u001b[0m\u001b[0;34m\u001b[0m\u001b[0m\n",
            "\u001b[0;32m/usr/local/lib/python3.7/dist-packages/pandas/core/frame.py\u001b[0m in \u001b[0;36m_iset_not_inplace\u001b[0;34m(self, key, value)\u001b[0m\n\u001b[1;32m   3673\u001b[0m         \u001b[0;32mif\u001b[0m \u001b[0mself\u001b[0m\u001b[0;34m.\u001b[0m\u001b[0mcolumns\u001b[0m\u001b[0;34m.\u001b[0m\u001b[0mis_unique\u001b[0m\u001b[0;34m:\u001b[0m\u001b[0;34m\u001b[0m\u001b[0;34m\u001b[0m\u001b[0m\n\u001b[1;32m   3674\u001b[0m             \u001b[0;32mif\u001b[0m \u001b[0mnp\u001b[0m\u001b[0;34m.\u001b[0m\u001b[0mshape\u001b[0m\u001b[0;34m(\u001b[0m\u001b[0mvalue\u001b[0m\u001b[0;34m)\u001b[0m\u001b[0;34m[\u001b[0m\u001b[0;34m-\u001b[0m\u001b[0;36m1\u001b[0m\u001b[0;34m]\u001b[0m \u001b[0;34m!=\u001b[0m \u001b[0mlen\u001b[0m\u001b[0;34m(\u001b[0m\u001b[0mkey\u001b[0m\u001b[0;34m)\u001b[0m\u001b[0;34m:\u001b[0m\u001b[0;34m\u001b[0m\u001b[0;34m\u001b[0m\u001b[0m\n\u001b[0;32m-> 3675\u001b[0;31m                 \u001b[0;32mraise\u001b[0m \u001b[0mValueError\u001b[0m\u001b[0;34m(\u001b[0m\u001b[0;34m\"Columns must be same length as key\"\u001b[0m\u001b[0;34m)\u001b[0m\u001b[0;34m\u001b[0m\u001b[0;34m\u001b[0m\u001b[0m\n\u001b[0m\u001b[1;32m   3676\u001b[0m \u001b[0;34m\u001b[0m\u001b[0m\n\u001b[1;32m   3677\u001b[0m             \u001b[0;32mfor\u001b[0m \u001b[0mi\u001b[0m\u001b[0;34m,\u001b[0m \u001b[0mcol\u001b[0m \u001b[0;32min\u001b[0m \u001b[0menumerate\u001b[0m\u001b[0;34m(\u001b[0m\u001b[0mkey\u001b[0m\u001b[0;34m)\u001b[0m\u001b[0;34m:\u001b[0m\u001b[0;34m\u001b[0m\u001b[0;34m\u001b[0m\u001b[0m\n",
            "\u001b[0;31mValueError\u001b[0m: Columns must be same length as key"
          ]
        }
      ]
    },
    {
      "cell_type": "code",
      "source": [
        "from keras.layers import Conv2D, MaxPooling2D, Flatten\n",
        "from keras.optimizers import SGD\n",
        "# TAKEN FROM WEBSITE, NEED TO CHANGE: \n",
        "def define_model():\n",
        "\tmodel = Sequential()\n",
        "\tmodel.add(Conv2D(32, (3, 3), activation='relu', kernel_initializer='he_uniform', padding='same', input_shape=(200, 200, 3)))\n",
        "\tmodel.add(MaxPooling2D((2, 2)))\n",
        "\tmodel.add(Flatten())\n",
        "\tmodel.add(Dense(128, activation='relu', kernel_initializer='he_uniform'))\n",
        "\tmodel.add(Dense(1, activation='sigmoid'))\n",
        "\t# compile model\n",
        "\topt = SGD(lr=0.001, momentum=0.9)\n",
        "\tmodel.compile(optimizer=opt, loss='binary_crossentropy', metrics=['accuracy'])\n",
        "\treturn model\n",
        "\n",
        "exp_CNN_model = define_model()\n",
        "#datagen = ImageDataGenerator(rescale=1.0/255.0)\n",
        "\n",
        "X_train, X_test, y_train, y_test = train_test_split(exp_data_CNN, exp_lab_CNN, test_size=0.33, random_state=42)\n",
        "\n",
        "exp_CNN_model.fit(X_train, y_train, batch_size=32, epochs=10)"
      ],
      "metadata": {
        "id": "RtpzLpCjA5jl"
      },
      "execution_count": null,
      "outputs": []
    },
    {
      "cell_type": "markdown",
      "source": [
        "# TensorBoard for Model Evaluation"
      ],
      "metadata": {
        "id": "WXWdnAL1M2Pr"
      }
    },
    {
      "cell_type": "code",
      "metadata": {
        "id": "8p3Tbx8cWEFA"
      },
      "source": [
        "# Load the TensorBoard notebook extension\n",
        "%load_ext tensorboard\n",
        "# %reload_ext tensorboard\n",
        "\n",
        "%tensorboard --logdir /dir/\n",
        "\n",
        "# or use %tensorboard --logdir /dir/"
      ],
      "execution_count": null,
      "outputs": []
    },
    {
      "cell_type": "markdown",
      "source": [
        "# JUST reference info below here"
      ],
      "metadata": {
        "id": "5NMjVFuqR5Mu"
      }
    },
    {
      "cell_type": "markdown",
      "source": [
        "# Neural Network\n"
      ],
      "metadata": {
        "id": "Ptlhfnh7O5IQ"
      }
    },
    {
      "cell_type": "code",
      "source": [
        "# convert integers to dummy variables (i.e. one hot encoded)\n",
        "dummy_y = np_utils.to_categorical(encoded_Y)\n",
        "X_train, X_test, y_train, y_test = train_test_split(exp_pc_data, bool_tum_expr, test_size=0.33, random_state=42)\n",
        "# create model\n",
        "\n",
        "model = Sequential()\n",
        "model.add(Dense(2,  activation='sigmoid', input_shape=(3,),  name=\"bottleneck\"))\n",
        "model.add(Dense(3,  activation='softmax'))\n",
        "\n",
        "#model.compile(loss='categorical_crossentropy', optimizer='adam', metrics=['accuracy'])\n",
        "model.compile(loss='binary_crossentropy', optimizer='adam', metrics=['accuracy'])\n",
        "\n",
        "model.fit(X_train, y_train, epochs = 150, batch_size = 4)"
      ],
      "metadata": {
        "id": "TyUNyrEkO8dg",
        "colab": {
          "base_uri": "https://localhost:8080/",
          "height": 364
        },
        "outputId": "bb10596b-7829-485c-833f-833fd4bea8b2"
      },
      "execution_count": null,
      "outputs": [
        {
          "output_type": "error",
          "ename": "ValueError",
          "evalue": "ignored",
          "traceback": [
            "\u001b[0;31m---------------------------------------------------------------------------\u001b[0m",
            "\u001b[0;31mValueError\u001b[0m                                Traceback (most recent call last)",
            "\u001b[0;32m<ipython-input-11-e9d9f936feda>\u001b[0m in \u001b[0;36m<module>\u001b[0;34m\u001b[0m\n\u001b[1;32m     11\u001b[0m \u001b[0mmodel\u001b[0m\u001b[0;34m.\u001b[0m\u001b[0mcompile\u001b[0m\u001b[0;34m(\u001b[0m\u001b[0mloss\u001b[0m\u001b[0;34m=\u001b[0m\u001b[0;34m'binary_crossentropy'\u001b[0m\u001b[0;34m,\u001b[0m \u001b[0moptimizer\u001b[0m\u001b[0;34m=\u001b[0m\u001b[0;34m'adam'\u001b[0m\u001b[0;34m,\u001b[0m \u001b[0mmetrics\u001b[0m\u001b[0;34m=\u001b[0m\u001b[0;34m[\u001b[0m\u001b[0;34m'accuracy'\u001b[0m\u001b[0;34m]\u001b[0m\u001b[0;34m)\u001b[0m\u001b[0;34m\u001b[0m\u001b[0;34m\u001b[0m\u001b[0m\n\u001b[1;32m     12\u001b[0m \u001b[0;34m\u001b[0m\u001b[0m\n\u001b[0;32m---> 13\u001b[0;31m \u001b[0mmodel\u001b[0m\u001b[0;34m.\u001b[0m\u001b[0mfit\u001b[0m\u001b[0;34m(\u001b[0m\u001b[0mX_train\u001b[0m\u001b[0;34m,\u001b[0m \u001b[0my_train\u001b[0m\u001b[0;34m,\u001b[0m \u001b[0mepochs\u001b[0m \u001b[0;34m=\u001b[0m \u001b[0;36m150\u001b[0m\u001b[0;34m,\u001b[0m \u001b[0mbatch_size\u001b[0m \u001b[0;34m=\u001b[0m \u001b[0;36m4\u001b[0m\u001b[0;34m)\u001b[0m\u001b[0;34m\u001b[0m\u001b[0;34m\u001b[0m\u001b[0m\n\u001b[0m",
            "\u001b[0;32m/usr/local/lib/python3.7/dist-packages/keras/utils/traceback_utils.py\u001b[0m in \u001b[0;36merror_handler\u001b[0;34m(*args, **kwargs)\u001b[0m\n\u001b[1;32m     65\u001b[0m     \u001b[0;32mexcept\u001b[0m \u001b[0mException\u001b[0m \u001b[0;32mas\u001b[0m \u001b[0me\u001b[0m\u001b[0;34m:\u001b[0m  \u001b[0;31m# pylint: disable=broad-except\u001b[0m\u001b[0;34m\u001b[0m\u001b[0;34m\u001b[0m\u001b[0m\n\u001b[1;32m     66\u001b[0m       \u001b[0mfiltered_tb\u001b[0m \u001b[0;34m=\u001b[0m \u001b[0m_process_traceback_frames\u001b[0m\u001b[0;34m(\u001b[0m\u001b[0me\u001b[0m\u001b[0;34m.\u001b[0m\u001b[0m__traceback__\u001b[0m\u001b[0;34m)\u001b[0m\u001b[0;34m\u001b[0m\u001b[0;34m\u001b[0m\u001b[0m\n\u001b[0;32m---> 67\u001b[0;31m       \u001b[0;32mraise\u001b[0m \u001b[0me\u001b[0m\u001b[0;34m.\u001b[0m\u001b[0mwith_traceback\u001b[0m\u001b[0;34m(\u001b[0m\u001b[0mfiltered_tb\u001b[0m\u001b[0;34m)\u001b[0m \u001b[0;32mfrom\u001b[0m \u001b[0;32mNone\u001b[0m\u001b[0;34m\u001b[0m\u001b[0;34m\u001b[0m\u001b[0m\n\u001b[0m\u001b[1;32m     68\u001b[0m     \u001b[0;32mfinally\u001b[0m\u001b[0;34m:\u001b[0m\u001b[0;34m\u001b[0m\u001b[0;34m\u001b[0m\u001b[0m\n\u001b[1;32m     69\u001b[0m       \u001b[0;32mdel\u001b[0m \u001b[0mfiltered_tb\u001b[0m\u001b[0;34m\u001b[0m\u001b[0;34m\u001b[0m\u001b[0m\n",
            "\u001b[0;32m/usr/local/lib/python3.7/dist-packages/keras/engine/data_adapter.py\u001b[0m in \u001b[0;36mselect_data_adapter\u001b[0;34m(x, y)\u001b[0m\n\u001b[1;32m    985\u001b[0m         \u001b[0;34m\"Failed to find data adapter that can handle \"\u001b[0m\u001b[0;34m\u001b[0m\u001b[0;34m\u001b[0m\u001b[0m\n\u001b[1;32m    986\u001b[0m         \"input: {}, {}\".format(\n\u001b[0;32m--> 987\u001b[0;31m             _type_name(x), _type_name(y)))\n\u001b[0m\u001b[1;32m    988\u001b[0m   \u001b[0;32melif\u001b[0m \u001b[0mlen\u001b[0m\u001b[0;34m(\u001b[0m\u001b[0madapter_cls\u001b[0m\u001b[0;34m)\u001b[0m \u001b[0;34m>\u001b[0m \u001b[0;36m1\u001b[0m\u001b[0;34m:\u001b[0m\u001b[0;34m\u001b[0m\u001b[0;34m\u001b[0m\u001b[0m\n\u001b[1;32m    989\u001b[0m     raise RuntimeError(\n",
            "\u001b[0;31mValueError\u001b[0m: Failed to find data adapter that can handle input: <class 'numpy.ndarray'>, (<class 'list'> containing values of types {\"<class 'int'>\"})"
          ]
        }
      ]
    },
    {
      "cell_type": "code",
      "source": [
        "scores = model.evaluate(X_test, y_test)\n",
        "print(\"\\n%s: %.2f%%\" % (model.metrics_names[1], scores[1]*100))"
      ],
      "metadata": {
        "id": "rDi60GXnO__n"
      },
      "execution_count": null,
      "outputs": []
    }
  ],
  "metadata": {
    "kernelspec": {
      "display_name": "Python 3 (ipykernel)",
      "language": "python",
      "name": "python3"
    },
    "language_info": {
      "codemirror_mode": {
        "name": "ipython",
        "version": 3
      },
      "file_extension": ".py",
      "mimetype": "text/x-python",
      "name": "python",
      "nbconvert_exporter": "python",
      "pygments_lexer": "ipython3",
      "version": "3.9.12"
    },
    "colab": {
      "provenance": [],
      "toc_visible": true,
      "collapsed_sections": [],
      "include_colab_link": true
    }
  },
  "nbformat": 4,
  "nbformat_minor": 0
}