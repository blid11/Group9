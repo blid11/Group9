{
  "cells": [
    {
      "cell_type": "markdown",
      "metadata": {
        "id": "view-in-github",
        "colab_type": "text"
      },
      "source": [
        "<a href=\"https://colab.research.google.com/github/blid11/Group9/blob/Brett/G9_PartC.ipynb\" target=\"_parent\"><img src=\"https://colab.research.google.com/assets/colab-badge.svg\" alt=\"Open In Colab\"/></a>"
      ]
    },
    {
      "cell_type": "markdown",
      "source": [
        "Changes made in this Colab notebook can be saved with Control/Command S and do not need to be pushed to Github. \n",
        "Also apparently SVM is a better model for classifying than the PCA/neural network I was trying below."
      ],
      "metadata": {
        "id": "rKNr9ou87aZT"
      }
    },
    {
      "cell_type": "code",
      "execution_count": null,
      "metadata": {
        "id": "W-IfC5rw1Bjz"
      },
      "outputs": [],
      "source": [
        "\n",
        "# Import libaries needed\n",
        "import pandas as pd\n",
        "from keras.models import Sequential\n",
        "from keras.layers import Dense\n",
        "from keras.wrappers.scikit_learn import KerasClassifier\n",
        "from keras.utils import np_utils\n",
        "from sklearn.model_selection import train_test_split\n",
        "import matplotlib.pyplot as plt\n",
        "import numpy as np\n",
        "import seaborn as sns\n"
      ]
    },
    {
      "cell_type": "code",
      "source": [
        "from google.colab import drive \n",
        "drive.mount('/content/gdrive', force_remount=True)\n",
        "\n",
        "%cd gdrive/My Drive/G9A2/G9\n",
        " \n",
        "#%cd gdrive/My Drive/G9A2\n",
        "# I made a folder on my google drive that has the G9 Methylation data and the binfpy library\n",
        "#this code automatically loads it in\n",
        "# you can do the same with your google drive. \n",
        "# restart runtime if you experience errors!"
      ],
      "metadata": {
        "colab": {
          "base_uri": "https://localhost:8080/"
        },
        "id": "uFIumj0w2JpL",
        "outputId": "0f251b76-ec17-40f5-a627-427b020648ba"
      },
      "execution_count": null,
      "outputs": [
        {
          "output_type": "stream",
          "name": "stdout",
          "text": [
            "Mounted at /content/gdrive\n",
            "/content/gdrive/My Drive/G9A2/G9\n"
          ]
        }
      ]
    },
    {
      "cell_type": "markdown",
      "source": [
        "# Data Preparation\n"
      ],
      "metadata": {
        "id": "2E_eI04DJqW1"
      }
    },
    {
      "cell_type": "code",
      "source": [
        "!ls"
      ],
      "metadata": {
        "id": "PqpS2PFLKt3g",
        "outputId": "78c4d079-bbc7-4753-ae99-fca6bbf322df",
        "colab": {
          "base_uri": "https://localhost:8080/"
        }
      },
      "execution_count": null,
      "outputs": [
        {
          "output_type": "stream",
          "name": "stdout",
          "text": [
            "G9_liver_dna-meth.csv\tmystery_dna-meth.csv\n",
            "G9_liver_gene-expr.csv\tmystery_gene-expr.csv\n"
          ]
        }
      ]
    },
    {
      "cell_type": "code",
      "source": [
        "# load the data \n",
        "liver_meth_dna = pd.read_csv('G9_liver_dna-meth.csv')\n",
        "liver_gene_expr = pd.read_csv('G9_liver_gene-expr.csv')\n",
        "\n"
      ],
      "metadata": {
        "id": "uISKKBYlJpLm"
      },
      "execution_count": null,
      "outputs": []
    },
    {
      "cell_type": "code",
      "source": [
        "# view the data: \n",
        "liver_meth_dna.head(n = 2)\n",
        "liver_gene_expr.shape"
      ],
      "metadata": {
        "colab": {
          "base_uri": "https://localhost:8080/"
        },
        "id": "jtnvWSfkTPbx",
        "outputId": "f003fbe2-dde4-456c-cbbc-c1fd285058a1"
      },
      "execution_count": null,
      "outputs": [
        {
          "output_type": "execute_result",
          "data": {
            "text/plain": [
              "(421, 19938)"
            ]
          },
          "metadata": {},
          "execution_count": 27
        }
      ]
    },
    {
      "cell_type": "code",
      "source": [
        "# standardizing and log transform data prior to PCA\n",
        "# for each numeric value column in the dataframem, normalize \n",
        "# and log tranform the values\n",
        "\n",
        "\n",
        "col_names_exp = liver_gene_expr.columns\n",
        "col_names_meth = liver_meth_dna.columns\n",
        "\n",
        "# \n",
        "#liver_gene_expr.replace([np.inf, -np.inf], 0, inplace=True)\n",
        "#liver_meth_dna.replace([np.inf,-np.inf], 0, inplace=True)\n",
        "\n",
        "expr_means = []\n",
        "\n",
        "for column in liver_gene_expr[col_names_exp[2:]]:\n",
        "  #liver_gene_expr[column] = liver_gene_expr[column].str.replace(regex ='[^0-9.]', value = \"d\") \n",
        "  #liver_gene_expr[column] = liver_gene_expr[column].str.replace(regex = 'd{10}]', value = \"d\") \n",
        "  col_mean = liver_gene_expr[column].mean()\n",
        "  expr_means.append(col_mean)\n",
        "  if col_mean > 0.025:\n",
        "    liver_gene_expr[column] = liver_gene_expr[column].replace([np.inf, np.nan, -np.inf], col_mean)\n",
        "  else: \n",
        "    liver_gene_expr = liver_gene_expr.drop(column, axis = 1)\n",
        "  #liver_meth_dna[column] = liver_meth_dna[column].fillna(col_mean)\n",
        "\n",
        "print(liver_gene_expr.shape)\n",
        "\n",
        "plt.hist(expr_means, bins = 40, range = [0.0, 0.2])\n",
        "plt.show()\n",
        "\n",
        "col_names_exp = liver_gene_expr.columns\n",
        "col_names_meth = liver_meth_dna.columns\n",
        "\n",
        "for column in liver_meth_dna[col_names_meth[2:]]: \n",
        "  col_mean = liver_meth_dna[column].mean()\n",
        "  liver_meth_dna[column] = liver_meth_dna[column].replace([np.inf, np.nan, -np.inf], col_mean)\n",
        "  liver_meth_dna[column] = liver_meth_dna[column].fillna(col_mean)\n",
        "\n",
        "#Normalize and log tranform data for both sets\n",
        "for col_name in col_names_exp[2:]:\n",
        "  col_data = pd.to_numeric(np.log2(liver_gene_expr[col_name].values + 1))\n",
        "  col_mean = np.mean(col_data)\n",
        "  col_std = np.std(col_data)\n",
        "  new_data = (col_data - col_mean)/(col_std)\n",
        "  liver_gene_expr[col_name] = new_data\n",
        "\n",
        "for col_name in col_names_meth[2:]:\n",
        "  col_data = pd.to_numeric(np.log2(liver_meth_dna[col_name].values + 1))\n",
        "  col_mean = np.mean(col_data)\n",
        "  col_std = np.std(col_data)\n",
        "  new_data = (col_data - col_mean)/(col_std)\n",
        "  liver_meth_dna[col_name] = new_data\n",
        "\n",
        "liver_gene_expr.head(n= 2)\n"
      ],
      "metadata": {
        "colab": {
          "base_uri": "https://localhost:8080/",
          "height": 505
        },
        "id": "IGdTQRRFYqDv",
        "outputId": "f370fa25-0567-4cc6-9e29-5ff552fdf23a"
      },
      "execution_count": null,
      "outputs": [
        {
          "output_type": "stream",
          "name": "stdout",
          "text": [
            "(421, 19547)\n"
          ]
        },
        {
          "output_type": "display_data",
          "data": {
            "text/plain": [
              "<Figure size 432x288 with 1 Axes>"
            ],
            "image/png": "[encoded data removed]"
          },
          "metadata": {
            "needs_background": "light"
          }
        },
        {
          "output_type": "execute_result",
          "data": {
            "text/plain": [
              "        Unnamed: 0          Label  X..100130426  X..100133144  X..100134869  \\\n",
              "0  TCGA.2V.A95S.01  Primary Tumor      -0.25593     -0.476165      0.134622   \n",
              "1  TCGA.2Y.A9GS.01  Primary Tumor      -0.25593      2.268472     -0.189274   \n",
              "\n",
              "   X..10357  X..10431  X..155060  X..26823  X..280660  ...  ZXDA.7789  \\\n",
              "0  0.066483 -0.283215   0.263113  1.214289  -0.419556  ...  -0.101024   \n",
              "1 -0.522460 -1.766629   0.114870  2.651003  -0.419556  ...   1.535443   \n",
              "\n",
              "   ZXDB.158586  ZXDC.79364  ZYG11A.440590  ZYG11B.79699  ZYX.7791  \\\n",
              "0    -0.836486    -0.61156      -0.096129     -1.126977 -0.055131   \n",
              "1     0.324199     0.75920       0.835624      0.233890  0.845728   \n",
              "\n",
              "   ZZEF1.23140  ZZZ3.26009  psiTPTE22.387590  tAKR.389932  \n",
              "0     0.760924   -0.132179         -0.011595    -0.962797  \n",
              "1     0.390778    1.258929          0.418190     1.458766  \n",
              "\n",
              "[2 rows x 19547 columns]"
            ],
            "text/html": [
              "\n",
              "  <div id=\"df-1236e70c-f419-4a2c-8bee-abd0e19c5e14\">\n",
              "    <div class=\"colab-df-container\">\n",
              "      <div>\n",
              "<style scoped>\n",
              "    .dataframe tbody tr th:only-of-type {\n",
              "        vertical-align: middle;\n",
              "    }\n",
              "\n",
              "    .dataframe tbody tr th {\n",
              "        vertical-align: top;\n",
              "    }\n",
              "\n",
              "    .dataframe thead th {\n",
              "        text-align: right;\n",
              "    }\n",
              "</style>\n",
              "<table border=\"1\" class=\"dataframe\">\n",
              "  <thead>\n",
              "    <tr style=\"text-align: right;\">\n",
              "      <th></th>\n",
              "      <th>Unnamed: 0</th>\n",
              "      <th>Label</th>\n",
              "      <th>X..100130426</th>\n",
              "      <th>X..100133144</th>\n",
              "      <th>X..100134869</th>\n",
              "      <th>X..10357</th>\n",
              "      <th>X..10431</th>\n",
              "      <th>X..155060</th>\n",
              "      <th>X..26823</th>\n",
              "      <th>X..280660</th>\n",
              "      <th>...</th>\n",
              "      <th>ZXDA.7789</th>\n",
              "      <th>ZXDB.158586</th>\n",
              "      <th>ZXDC.79364</th>\n",
              "      <th>ZYG11A.440590</th>\n",
              "      <th>ZYG11B.79699</th>\n",
              "      <th>ZYX.7791</th>\n",
              "      <th>ZZEF1.23140</th>\n",
              "      <th>ZZZ3.26009</th>\n",
              "      <th>psiTPTE22.387590</th>\n",
              "      <th>tAKR.389932</th>\n",
              "    </tr>\n",
              "  </thead>\n",
              "  <tbody>\n",
              "    <tr>\n",
              "      <th>0</th>\n",
              "      <td>TCGA.2V.A95S.01</td>\n",
              "      <td>Primary Tumor</td>\n",
              "      <td>-0.25593</td>\n",
              "      <td>-0.476165</td>\n",
              "      <td>0.134622</td>\n",
              "      <td>0.066483</td>\n",
              "      <td>-0.283215</td>\n",
              "      <td>0.263113</td>\n",
              "      <td>1.214289</td>\n",
              "      <td>-0.419556</td>\n",
              "      <td>...</td>\n",
              "      <td>-0.101024</td>\n",
              "      <td>-0.836486</td>\n",
              "      <td>-0.61156</td>\n",
              "      <td>-0.096129</td>\n",
              "      <td>-1.126977</td>\n",
              "      <td>-0.055131</td>\n",
              "      <td>0.760924</td>\n",
              "      <td>-0.132179</td>\n",
              "      <td>-0.011595</td>\n",
              "      <td>-0.962797</td>\n",
              "    </tr>\n",
              "    <tr>\n",
              "      <th>1</th>\n",
              "      <td>TCGA.2Y.A9GS.01</td>\n",
              "      <td>Primary Tumor</td>\n",
              "      <td>-0.25593</td>\n",
              "      <td>2.268472</td>\n",
              "      <td>-0.189274</td>\n",
              "      <td>-0.522460</td>\n",
              "      <td>-1.766629</td>\n",
              "      <td>0.114870</td>\n",
              "      <td>2.651003</td>\n",
              "      <td>-0.419556</td>\n",
              "      <td>...</td>\n",
              "      <td>1.535443</td>\n",
              "      <td>0.324199</td>\n",
              "      <td>0.75920</td>\n",
              "      <td>0.835624</td>\n",
              "      <td>0.233890</td>\n",
              "      <td>0.845728</td>\n",
              "      <td>0.390778</td>\n",
              "      <td>1.258929</td>\n",
              "      <td>0.418190</td>\n",
              "      <td>1.458766</td>\n",
              "    </tr>\n",
              "  </tbody>\n",
              "</table>\n",
              "<p>2 rows × 19547 columns</p>\n",
              "</div>\n",
              "      <button class=\"colab-df-convert\" onclick=\"convertToInteractive('df-1236e70c-f419-4a2c-8bee-abd0e19c5e14')\"\n",
              "              title=\"Convert this dataframe to an interactive table.\"\n",
              "              style=\"display:none;\">\n",
              "        \n",
              "  <svg xmlns=\"http://www.w3.org/2000/svg\" height=\"24px\"viewBox=\"0 0 24 24\"\n",
              "       width=\"24px\">\n",
              "    <path d=\"M0 0h24v24H0V0z\" fill=\"none\"/>\n",
              "    <path d=\"M18.56 5.44l.94 2.06.94-2.06 2.06-.94-2.06-.94-.94-2.06-.94 2.06-2.06.94zm-11 1L8.5 8.5l.94-2.06 2.06-.94-2.06-.94L8.5 2.5l-.94 2.06-2.06.94zm10 10l.94 2.06.94-2.06 2.06-.94-2.06-.94-.94-2.06-.94 2.06-2.06.94z\"/><path d=\"M17.41 7.96l-1.37-1.37c-.4-.4-.92-.59-1.43-.59-.52 0-1.04.2-1.43.59L10.3 9.45l-7.72 7.72c-.78.78-.78 2.05 0 2.83L4 21.41c.39.39.9.59 1.41.59.51 0 1.02-.2 1.41-.59l7.78-7.78 2.81-2.81c.8-.78.8-2.07 0-2.86zM5.41 20L4 18.59l7.72-7.72 1.47 1.35L5.41 20z\"/>\n",
              "  </svg>\n",
              "      </button>\n",
              "      \n",
              "  <style>\n",
              "    .colab-df-container {\n",
              "      display:flex;\n",
              "      flex-wrap:wrap;\n",
              "      gap: 12px;\n",
              "    }\n",
              "\n",
              "    .colab-df-convert {\n",
              "      background-color: #E8F0FE;\n",
              "      border: none;\n",
              "      border-radius: 50%;\n",
              "      cursor: pointer;\n",
              "      display: none;\n",
              "      fill: #1967D2;\n",
              "      height: 32px;\n",
              "      padding: 0 0 0 0;\n",
              "      width: 32px;\n",
              "    }\n",
              "\n",
              "    .colab-df-convert:hover {\n",
              "      background-color: #E2EBFA;\n",
              "      box-shadow: 0px 1px 2px rgba(60, 64, 67, 0.3), 0px 1px 3px 1px rgba(60, 64, 67, 0.15);\n",
              "      fill: #174EA6;\n",
              "    }\n",
              "\n",
              "    [theme=dark] .colab-df-convert {\n",
              "      background-color: #3B4455;\n",
              "      fill: #D2E3FC;\n",
              "    }\n",
              "\n",
              "    [theme=dark] .colab-df-convert:hover {\n",
              "      background-color: #434B5C;\n",
              "      box-shadow: 0px 1px 3px 1px rgba(0, 0, 0, 0.15);\n",
              "      filter: drop-shadow(0px 1px 2px rgba(0, 0, 0, 0.3));\n",
              "      fill: #FFFFFF;\n",
              "    }\n",
              "  </style>\n",
              "\n",
              "      <script>\n",
              "        const buttonEl =\n",
              "          document.querySelector('#df-1236e70c-f419-4a2c-8bee-abd0e19c5e14 button.colab-df-convert');\n",
              "        buttonEl.style.display =\n",
              "          google.colab.kernel.accessAllowed ? 'block' : 'none';\n",
              "\n",
              "        async function convertToInteractive(key) {\n",
              "          const element = document.querySelector('#df-1236e70c-f419-4a2c-8bee-abd0e19c5e14');\n",
              "          const dataTable =\n",
              "            await google.colab.kernel.invokeFunction('convertToInteractive',\n",
              "                                                     [key], {});\n",
              "          if (!dataTable) return;\n",
              "\n",
              "          const docLinkHtml = 'Like what you see? Visit the ' +\n",
              "            '<a target=\"_blank\" href=https://colab.research.google.com/notebooks/data_table.ipynb>data table notebook</a>'\n",
              "            + ' to learn more about interactive tables.';\n",
              "          element.innerHTML = '';\n",
              "          dataTable['output_type'] = 'display_data';\n",
              "          await google.colab.output.renderOutput(dataTable, element);\n",
              "          const docLink = document.createElement('div');\n",
              "          docLink.innerHTML = docLinkHtml;\n",
              "          element.appendChild(docLink);\n",
              "        }\n",
              "      </script>\n",
              "    </div>\n",
              "  </div>\n",
              "  "
            ]
          },
          "metadata": {},
          "execution_count": 29
        }
      ]
    },
    {
      "cell_type": "code",
      "source": [
        "liver_gene_expr.head(n = 2)"
      ],
      "metadata": {
        "colab": {
          "base_uri": "https://localhost:8080/",
          "height": 240
        },
        "id": "1AkLYX1Vegwz",
        "outputId": "20b50933-52b1-4fd3-eae8-8a69500bd39e"
      },
      "execution_count": null,
      "outputs": [
        {
          "output_type": "execute_result",
          "data": {
            "text/plain": [
              "        Unnamed: 0          Label  X..100130426  X..100133144  X..100134869  \\\n",
              "0  TCGA.2V.A95S.01  Primary Tumor      -0.25593     -0.476165      0.134622   \n",
              "1  TCGA.2Y.A9GS.01  Primary Tumor      -0.25593      2.268472     -0.189274   \n",
              "\n",
              "   X..10357  X..10431  X..136542  X..155060  X..26823  ...  ZXDA.7789  \\\n",
              "0  0.066483 -0.283215  -0.067789   0.263113  1.214289  ...  -0.101024   \n",
              "1 -0.522460 -1.766629  -0.067789   0.114870  2.651003  ...   1.535443   \n",
              "\n",
              "   ZXDB.158586  ZXDC.79364  ZYG11A.440590  ZYG11B.79699  ZYX.7791  \\\n",
              "0    -0.836486    -0.61156      -0.096129     -1.126977 -0.055131   \n",
              "1     0.324199     0.75920       0.835624      0.233890  0.845728   \n",
              "\n",
              "   ZZEF1.23140  ZZZ3.26009  psiTPTE22.387590  tAKR.389932  \n",
              "0     0.760924   -0.132179         -0.011595    -0.962797  \n",
              "1     0.390778    1.258929          0.418190     1.458766  \n",
              "\n",
              "[2 rows x 20533 columns]"
            ],
            "text/html": [
              "\n",
              "  <div id=\"df-7fe3b1b9-f007-4515-9ca8-6cbcf1c8b5a8\">\n",
              "    <div class=\"colab-df-container\">\n",
              "      <div>\n",
              "<style scoped>\n",
              "    .dataframe tbody tr th:only-of-type {\n",
              "        vertical-align: middle;\n",
              "    }\n",
              "\n",
              "    .dataframe tbody tr th {\n",
              "        vertical-align: top;\n",
              "    }\n",
              "\n",
              "    .dataframe thead th {\n",
              "        text-align: right;\n",
              "    }\n",
              "</style>\n",
              "<table border=\"1\" class=\"dataframe\">\n",
              "  <thead>\n",
              "    <tr style=\"text-align: right;\">\n",
              "      <th></th>\n",
              "      <th>Unnamed: 0</th>\n",
              "      <th>Label</th>\n",
              "      <th>X..100130426</th>\n",
              "      <th>X..100133144</th>\n",
              "      <th>X..100134869</th>\n",
              "      <th>X..10357</th>\n",
              "      <th>X..10431</th>\n",
              "      <th>X..136542</th>\n",
              "      <th>X..155060</th>\n",
              "      <th>X..26823</th>\n",
              "      <th>...</th>\n",
              "      <th>ZXDA.7789</th>\n",
              "      <th>ZXDB.158586</th>\n",
              "      <th>ZXDC.79364</th>\n",
              "      <th>ZYG11A.440590</th>\n",
              "      <th>ZYG11B.79699</th>\n",
              "      <th>ZYX.7791</th>\n",
              "      <th>ZZEF1.23140</th>\n",
              "      <th>ZZZ3.26009</th>\n",
              "      <th>psiTPTE22.387590</th>\n",
              "      <th>tAKR.389932</th>\n",
              "    </tr>\n",
              "  </thead>\n",
              "  <tbody>\n",
              "    <tr>\n",
              "      <th>0</th>\n",
              "      <td>TCGA.2V.A95S.01</td>\n",
              "      <td>Primary Tumor</td>\n",
              "      <td>-0.25593</td>\n",
              "      <td>-0.476165</td>\n",
              "      <td>0.134622</td>\n",
              "      <td>0.066483</td>\n",
              "      <td>-0.283215</td>\n",
              "      <td>-0.067789</td>\n",
              "      <td>0.263113</td>\n",
              "      <td>1.214289</td>\n",
              "      <td>...</td>\n",
              "      <td>-0.101024</td>\n",
              "      <td>-0.836486</td>\n",
              "      <td>-0.61156</td>\n",
              "      <td>-0.096129</td>\n",
              "      <td>-1.126977</td>\n",
              "      <td>-0.055131</td>\n",
              "      <td>0.760924</td>\n",
              "      <td>-0.132179</td>\n",
              "      <td>-0.011595</td>\n",
              "      <td>-0.962797</td>\n",
              "    </tr>\n",
              "    <tr>\n",
              "      <th>1</th>\n",
              "      <td>TCGA.2Y.A9GS.01</td>\n",
              "      <td>Primary Tumor</td>\n",
              "      <td>-0.25593</td>\n",
              "      <td>2.268472</td>\n",
              "      <td>-0.189274</td>\n",
              "      <td>-0.522460</td>\n",
              "      <td>-1.766629</td>\n",
              "      <td>-0.067789</td>\n",
              "      <td>0.114870</td>\n",
              "      <td>2.651003</td>\n",
              "      <td>...</td>\n",
              "      <td>1.535443</td>\n",
              "      <td>0.324199</td>\n",
              "      <td>0.75920</td>\n",
              "      <td>0.835624</td>\n",
              "      <td>0.233890</td>\n",
              "      <td>0.845728</td>\n",
              "      <td>0.390778</td>\n",
              "      <td>1.258929</td>\n",
              "      <td>0.418190</td>\n",
              "      <td>1.458766</td>\n",
              "    </tr>\n",
              "  </tbody>\n",
              "</table>\n",
              "<p>2 rows × 20533 columns</p>\n",
              "</div>\n",
              "      <button class=\"colab-df-convert\" onclick=\"convertToInteractive('df-7fe3b1b9-f007-4515-9ca8-6cbcf1c8b5a8')\"\n",
              "              title=\"Convert this dataframe to an interactive table.\"\n",
              "              style=\"display:none;\">\n",
              "        \n",
              "  <svg xmlns=\"http://www.w3.org/2000/svg\" height=\"24px\"viewBox=\"0 0 24 24\"\n",
              "       width=\"24px\">\n",
              "    <path d=\"M0 0h24v24H0V0z\" fill=\"none\"/>\n",
              "    <path d=\"M18.56 5.44l.94 2.06.94-2.06 2.06-.94-2.06-.94-.94-2.06-.94 2.06-2.06.94zm-11 1L8.5 8.5l.94-2.06 2.06-.94-2.06-.94L8.5 2.5l-.94 2.06-2.06.94zm10 10l.94 2.06.94-2.06 2.06-.94-2.06-.94-.94-2.06-.94 2.06-2.06.94z\"/><path d=\"M17.41 7.96l-1.37-1.37c-.4-.4-.92-.59-1.43-.59-.52 0-1.04.2-1.43.59L10.3 9.45l-7.72 7.72c-.78.78-.78 2.05 0 2.83L4 21.41c.39.39.9.59 1.41.59.51 0 1.02-.2 1.41-.59l7.78-7.78 2.81-2.81c.8-.78.8-2.07 0-2.86zM5.41 20L4 18.59l7.72-7.72 1.47 1.35L5.41 20z\"/>\n",
              "  </svg>\n",
              "      </button>\n",
              "      \n",
              "  <style>\n",
              "    .colab-df-container {\n",
              "      display:flex;\n",
              "      flex-wrap:wrap;\n",
              "      gap: 12px;\n",
              "    }\n",
              "\n",
              "    .colab-df-convert {\n",
              "      background-color: #E8F0FE;\n",
              "      border: none;\n",
              "      border-radius: 50%;\n",
              "      cursor: pointer;\n",
              "      display: none;\n",
              "      fill: #1967D2;\n",
              "      height: 32px;\n",
              "      padding: 0 0 0 0;\n",
              "      width: 32px;\n",
              "    }\n",
              "\n",
              "    .colab-df-convert:hover {\n",
              "      background-color: #E2EBFA;\n",
              "      box-shadow: 0px 1px 2px rgba(60, 64, 67, 0.3), 0px 1px 3px 1px rgba(60, 64, 67, 0.15);\n",
              "      fill: #174EA6;\n",
              "    }\n",
              "\n",
              "    [theme=dark] .colab-df-convert {\n",
              "      background-color: #3B4455;\n",
              "      fill: #D2E3FC;\n",
              "    }\n",
              "\n",
              "    [theme=dark] .colab-df-convert:hover {\n",
              "      background-color: #434B5C;\n",
              "      box-shadow: 0px 1px 3px 1px rgba(0, 0, 0, 0.15);\n",
              "      filter: drop-shadow(0px 1px 2px rgba(0, 0, 0, 0.3));\n",
              "      fill: #FFFFFF;\n",
              "    }\n",
              "  </style>\n",
              "\n",
              "      <script>\n",
              "        const buttonEl =\n",
              "          document.querySelector('#df-7fe3b1b9-f007-4515-9ca8-6cbcf1c8b5a8 button.colab-df-convert');\n",
              "        buttonEl.style.display =\n",
              "          google.colab.kernel.accessAllowed ? 'block' : 'none';\n",
              "\n",
              "        async function convertToInteractive(key) {\n",
              "          const element = document.querySelector('#df-7fe3b1b9-f007-4515-9ca8-6cbcf1c8b5a8');\n",
              "          const dataTable =\n",
              "            await google.colab.kernel.invokeFunction('convertToInteractive',\n",
              "                                                     [key], {});\n",
              "          if (!dataTable) return;\n",
              "\n",
              "          const docLinkHtml = 'Like what you see? Visit the ' +\n",
              "            '<a target=\"_blank\" href=https://colab.research.google.com/notebooks/data_table.ipynb>data table notebook</a>'\n",
              "            + ' to learn more about interactive tables.';\n",
              "          element.innerHTML = '';\n",
              "          dataTable['output_type'] = 'display_data';\n",
              "          await google.colab.output.renderOutput(dataTable, element);\n",
              "          const docLink = document.createElement('div');\n",
              "          docLink.innerHTML = docLinkHtml;\n",
              "          element.appendChild(docLink);\n",
              "        }\n",
              "      </script>\n",
              "    </div>\n",
              "  </div>\n",
              "  "
            ]
          },
          "metadata": {},
          "execution_count": 22
        }
      ]
    },
    {
      "cell_type": "markdown",
      "source": [
        "# Support Vector Machine"
      ],
      "metadata": {
        "id": "94duigwwOmCe"
      }
    },
    {
      "cell_type": "code",
      "source": [
        "## Encode the labels in 1 hot encoding\n",
        "from sklearn import svm, metrics\n",
        "from sklearn.metrics import plot_confusion_matrix\n",
        "from sklearn.preprocessing import LabelEncoder\n",
        "from keras.utils.np_utils import to_categorical\n",
        "from sklearn.impute import SimpleImputer\n",
        "\n",
        "# convert labels to 1 or 0 \n",
        "bool_tum_expr = [1 if value == 'Primary Tumor' else 0 for value in liver_gene_expr['Label'].values]\n",
        "\n",
        "exp_enc = LabelEncoder()\n",
        "exp_enc.fit(bool_tum_expr)\n",
        "encoded_Y = exp_enc.transform(bool_tum_expr)\n",
        "# convert integers to dummy variables (i.e. one hot encoded)\n",
        "\n",
        "#sklearn's SimpleImputer can replace the missing values in a column\n",
        "#with the columns mean\n",
        "imp = SimpleImputer(missing_values=np.nan, strategy='mean')\n",
        "exp_data = imp.fit_transform(liver_gene_expr[col_names_exp[2:]])\n",
        "print(exp_data[1:4,:])\n",
        "\n",
        "print(np.any(np.isnan(exp_data)))\n",
        "print(exp_data)\n",
        "X_train, X_test, y_train, y_test = train_test_split(exp_data, bool_tum_expr, test_size=0.33, random_state=42)\n",
        "\n",
        "# Run a SVM\n",
        "# https://scikit-learn.org/stable/modules/svm.html\n",
        "clf_tumours = svm.SVC(kernel='rbf')\n",
        "clf_tumours.fit(X_train, y_train)\n",
        "plot_confusion_matrix(clf_tumours, X_test, y_test)  \n",
        "plt.show()\n",
        "plot_confusion_matrix(clf_tumours, exp_data, bool_tum_expr) \n",
        "\n",
        "y_pred = clf_tumours.predict(X_test)\n",
        "# Model Accuracy: how often is the classifier correct?\n",
        "print(\"Accuracy:\",metrics.accuracy_score(y_test, y_pred))\n",
        "# Model Precision: what is the percentage of positive class predictions that actually belong to the positive class?\n",
        "print(\"Precision:\",metrics.precision_score(y_test, y_pred, average='weighted'))\n",
        "# Model Recall: what is the percentage of positive class predictions made out of all positive examples in the dataset.\n",
        "print(\"Recall:\",metrics.recall_score(y_test, y_pred, average='weighted'))\n",
        "\n",
        "y_pred_train = clf_tumours.predict(X_train)\n",
        "# Model Accuracy: how often is the classifier correct?\n",
        "print(\"Training set Accuracy:\",metrics.accuracy_score(y_train, y_pred_train))\n",
        "# Model Precision: what is the percentage of positive class predictions that actually belong to the positive class?\n",
        "print(\"Training set Precision:\",metrics.precision_score(y_train, y_pred_train, average='weighted'))\n",
        "# Model Recall: what is the percentage of positive class predictions made out of all positive examples in the dataset.\n",
        "print(\"Training set Recall:\",metrics.recall_score(y_train, y_pred_train, average='weighted'))"
      ],
      "metadata": {
        "colab": {
          "base_uri": "https://localhost:8080/",
          "height": 1000
        },
        "id": "Ctb8BabkSvDX",
        "outputId": "553dcf97-63ee-4460-e7c9-12d9227d4609"
      },
      "execution_count": null,
      "outputs": [
        {
          "output_type": "stream",
          "name": "stdout",
          "text": [
            "[[-0.25592957  2.26847154 -0.18927447 ...  1.2589292   0.41818955\n",
            "   1.45876561]\n",
            " [-0.25592957 -1.5295894   0.33232946 ... -0.06286851  1.17940628\n",
            "   0.44327843]\n",
            " [-0.25592957  0.65613272  0.47502188 ... -1.18261389 -0.36448635\n",
            "  -1.40671968]]\n",
            "False\n",
            "[[-0.25592957 -0.47616495  0.13462249 ... -0.13217872 -0.01159508\n",
            "  -0.96279728]\n",
            " [-0.25592957  2.26847154 -0.18927447 ...  1.2589292   0.41818955\n",
            "   1.45876561]\n",
            " [-0.25592957 -1.5295894   0.33232946 ... -0.06286851  1.17940628\n",
            "   0.44327843]\n",
            " ...\n",
            " [-0.25592957 -1.5295894   1.07851796 ...  0.19584219 -1.67430781\n",
            "   0.67506188]\n",
            " [-0.25592957  0.90347699  1.2214136  ...  1.18408463 -0.29124152\n",
            "   0.67193626]\n",
            " [-0.25592957 -1.5295894   1.00660325 ...  0.39696149  0.27911813\n",
            "   0.61519723]]\n"
          ]
        },
        {
          "output_type": "stream",
          "name": "stderr",
          "text": [
            "/usr/local/lib/python3.7/dist-packages/sklearn/utils/deprecation.py:87: FutureWarning: Function plot_confusion_matrix is deprecated; Function `plot_confusion_matrix` is deprecated in 1.0 and will be removed in 1.2. Use one of the class methods: ConfusionMatrixDisplay.from_predictions or ConfusionMatrixDisplay.from_estimator.\n",
            "  warnings.warn(msg, category=FutureWarning)\n"
          ]
        },
        {
          "output_type": "display_data",
          "data": {
            "text/plain": [
              "<Figure size 432x288 with 2 Axes>"
            ],
            "image/png": "[encoded data removed]"
          },
          "metadata": {
            "needs_background": "light"
          }
        },
        {
          "output_type": "stream",
          "name": "stderr",
          "text": [
            "/usr/local/lib/python3.7/dist-packages/sklearn/utils/deprecation.py:87: FutureWarning: Function plot_confusion_matrix is deprecated; Function `plot_confusion_matrix` is deprecated in 1.0 and will be removed in 1.2. Use one of the class methods: ConfusionMatrixDisplay.from_predictions or ConfusionMatrixDisplay.from_estimator.\n",
            "  warnings.warn(msg, category=FutureWarning)\n"
          ]
        },
        {
          "output_type": "stream",
          "name": "stdout",
          "text": [
            "Accuracy: 0.9928057553956835\n",
            "Precision: 0.9928637734973311\n",
            "Recall: 0.9928057553956835\n",
            "Training set Accuracy: 0.9964539007092199\n",
            "Training set Precision: 0.9965552178318136\n",
            "Training set Recall: 0.9964539007092199\n"
          ]
        },
        {
          "output_type": "display_data",
          "data": {
            "text/plain": [
              "<Figure size 432x288 with 2 Axes>"
            ],
            "image/png": "[encoded data removed]"
          },
          "metadata": {
            "needs_background": "light"
          }
        }
      ]
    },
    {
      "cell_type": "code",
      "source": [
        "\n",
        "mys_meth_dna = pd.read_csv('mystery_dna-meth.csv')\n",
        "mys_gene_expr = pd.read_csv('mystery_gene-expr.csv')\n",
        "col_names_exp_mys = mys_gene_expr.columns\n",
        "col_names_meth_mys = mys_meth_dna.columns"
      ],
      "metadata": {
        "id": "5NYY9GsLJLfQ",
        "outputId": "537d7e8c-b83d-45a6-9b3c-c7d7e039db7d",
        "colab": {
          "base_uri": "https://localhost:8080/",
          "height": 218
        }
      },
      "execution_count": null,
      "outputs": [
        {
          "output_type": "error",
          "ename": "NameError",
          "evalue": "ignored",
          "traceback": [
            "\u001b[0;31m---------------------------------------------------------------------------\u001b[0m",
            "\u001b[0;31mNameError\u001b[0m                                 Traceback (most recent call last)",
            "\u001b[0;32m<ipython-input-1-9085aa30a4cf>\u001b[0m in \u001b[0;36m<module>\u001b[0;34m\u001b[0m\n\u001b[0;32m----> 1\u001b[0;31m \u001b[0mmys_meth_dna\u001b[0m \u001b[0;34m=\u001b[0m \u001b[0mpd\u001b[0m\u001b[0;34m.\u001b[0m\u001b[0mread_csv\u001b[0m\u001b[0;34m(\u001b[0m\u001b[0;34m'mystery_dna-meth.csv'\u001b[0m\u001b[0;34m)\u001b[0m\u001b[0;34m\u001b[0m\u001b[0;34m\u001b[0m\u001b[0m\n\u001b[0m\u001b[1;32m      2\u001b[0m \u001b[0mmys_gene_expr\u001b[0m \u001b[0;34m=\u001b[0m \u001b[0mpd\u001b[0m\u001b[0;34m.\u001b[0m\u001b[0mread_csv\u001b[0m\u001b[0;34m(\u001b[0m\u001b[0;34m'mystery_gene-expr.csv'\u001b[0m\u001b[0;34m)\u001b[0m\u001b[0;34m\u001b[0m\u001b[0;34m\u001b[0m\u001b[0m\n\u001b[1;32m      3\u001b[0m \u001b[0mcol_names_exp_mys\u001b[0m \u001b[0;34m=\u001b[0m \u001b[0mmys_gene_expr\u001b[0m\u001b[0;34m.\u001b[0m\u001b[0mcolumns\u001b[0m\u001b[0;34m\u001b[0m\u001b[0;34m\u001b[0m\u001b[0m\n\u001b[1;32m      4\u001b[0m \u001b[0mcol_names_meth_mys\u001b[0m \u001b[0;34m=\u001b[0m \u001b[0mmys_meth_dna\u001b[0m\u001b[0;34m.\u001b[0m\u001b[0mcolumns\u001b[0m\u001b[0;34m\u001b[0m\u001b[0;34m\u001b[0m\u001b[0m\n",
            "\u001b[0;31mNameError\u001b[0m: name 'pd' is not defined"
          ]
        }
      ]
    },
    {
      "cell_type": "markdown",
      "source": [
        "# PCA"
      ],
      "metadata": {
        "id": "nYKlgHCAaOwK"
      }
    },
    {
      "cell_type": "markdown",
      "source": [
        "Alternatively, one could perform PCA on the data to determine which features are most important to reduce dimensionality prior to training an SVM or a neural network."
      ],
      "metadata": {
        "id": "6VHHvzVb4HTw"
      }
    },
    {
      "cell_type": "code",
      "source": [
        "# Using PCA\n",
        "# turn into PCA\n",
        "from sklearn.decomposition import PCA\n",
        "from sklearn.preprocessing import StandardScaler\n",
        "print(liver_gene_expr.isnull().values.any())\n",
        "\n",
        "imp = SimpleImputer(missing_values=np.nan, strategy='mean')\n",
        "exp_data = imp.fit_transform(liver_gene_expr[col_names_exp[2:]].T)\n",
        "\n",
        "#scale the data\n",
        "scaler = StandardScaler()\n",
        "scaler.fit(exp_data)\n",
        "exp_data=scaler.transform(exp_data) \n",
        "\n",
        "#print(liver_gene_expr.apply(pd.isna).all())\n",
        "\n",
        "#try 10 components or more\n",
        "exp_pca = PCA(n_components=20)\n",
        "exp_pc_data = exp_pca.fit_transform(exp_data)\n",
        "\n",
        "print(exp_pc_data.shape)\n",
        "\n",
        "PC_values = np.arange(exp_pca.n_components_) + 1\n",
        "plt.plot(PC_values, exp_pca.explained_variance_ratio_, 'o-', linewidth=1, color='black')\n",
        "plt.xlabel('Principal Component')\n",
        "plt.ylabel('Explained Variance')\n",
        "plt.show()\n",
        "\n",
        "print(exp_pca.explained_variance_ratio_)\n",
        "\n",
        "# \n"
      ],
      "metadata": {
        "colab": {
          "base_uri": "https://localhost:8080/",
          "height": 383
        },
        "id": "3fdoX_a7kXm8",
        "outputId": "b57e4bf3-79ac-4272-82af-f4f50d2b79a3"
      },
      "execution_count": null,
      "outputs": [
        {
          "output_type": "stream",
          "name": "stdout",
          "text": [
            "True\n",
            "(20531, 20)\n"
          ]
        },
        {
          "output_type": "display_data",
          "data": {
            "text/plain": [
              "<Figure size 432x288 with 1 Axes>"
            ],
            "image/png": "[encoded data removed]"
          },
          "metadata": {
            "needs_background": "light"
          }
        },
        {
          "output_type": "stream",
          "name": "stdout",
          "text": [
            "[0.10370629 0.07798418 0.06108182 0.02861618 0.02679588 0.02567671\n",
            " 0.0195272  0.01766106 0.01432843 0.01360874 0.01155351 0.010653\n",
            " 0.01019934 0.00990339 0.00885247 0.00877028 0.00822711 0.00753337\n",
            " 0.00693344 0.00677224]\n"
          ]
        }
      ]
    },
    {
      "cell_type": "markdown",
      "source": [
        "# TensorBoard for Model Evaluation"
      ],
      "metadata": {
        "id": "WXWdnAL1M2Pr"
      }
    },
    {
      "cell_type": "code",
      "metadata": {
        "id": "8p3Tbx8cWEFA"
      },
      "source": [
        "# Load the TensorBoard notebook extension\n",
        "%load_ext tensorboard\n",
        "# %reload_ext tensorboard\n",
        "\n",
        "%tensorboard --logdir /dir/\n",
        "\n",
        "# or use %tensorboard --logdir /dir/"
      ],
      "execution_count": null,
      "outputs": []
    },
    {
      "cell_type": "markdown",
      "source": [
        "# Xinwei' work\n"
      ],
      "metadata": {
        "id": "nWGJholPn33v"
      }
    },
    {
      "cell_type": "markdown",
      "source": [
        "I have been created the 4 model - random forest, logistic regression, SVM, and Multilayer perception.\n",
        "number of features depend on the cumulatife explained variance ratio (generally chossing number which >= 90%) "
      ],
      "metadata": {
        "id": "ReXkHkZcorkS"
      }
    },
    {
      "cell_type": "code",
      "source": [
        "# Import libaries needed\n",
        "import pandas as pd\n",
        "from keras.models import Sequential\n",
        "from keras.layers import Dense\n",
        "from keras.wrappers.scikit_learn import KerasClassifier\n",
        "from keras.utils import np_utils\n",
        "from sklearn.model_selection import train_test_split # split data into training and testing sets\n",
        "from sklearn.preprocessing import scale # scale and canter data\n",
        "from sklearn.svm import SVC # make a svm for classification\n",
        "from sklearn.model_selection import GridSearchCV # do cross validation\n",
        "from sklearn.metrics import confusion_matrix # creates a confusion matrix\n",
        "from sklearn.metrics import plot_confusion_matrix # draw confutionm matrix\n",
        "from sklearn.decomposition import PCA # perform PAC to plot the data\n",
        "import matplotlib.pyplot as plt\n",
        "from matplotlib import style \n",
        "import numpy as np\n",
        "import seaborn as sns\n"
      ],
      "metadata": {
        "id": "9h8e6rufoq-s"
      },
      "execution_count": null,
      "outputs": []
    },
    {
      "cell_type": "code",
      "source": [
        "import pandas as pd\n",
        "dna = pd.read_csv(\"/mystery_dna-meth.csv\") # data1\n",
        "gene = pd.read_csv(\"/mystery_gene-expr.csv\") #data2\n",
        "#dna = pd.read_csv(\"G9_liver_dna-meth.csv\") # G9-data1\n",
        "#gene = pd.read_csv(\"G9_liver_gene-expr.csv\") # G9-data2\n",
        "\n",
        "# this is mystery data, if you want to run G9 data just change the road\n",
        "dna.head()"
      ],
      "metadata": {
        "colab": {
          "base_uri": "https://localhost:8080/",
          "height": 386
        },
        "id": "BaExYvqZo29B",
        "outputId": "16dbd19c-13df-44b4-f5bf-e903637432c9"
      },
      "execution_count": null,
      "outputs": [
        {
          "output_type": "execute_result",
          "data": {
            "text/plain": [
              "        Unnamed: 0          Label  cg00001583  cg00001747  cg00002719  \\\n",
              "0  TCGA.C8.A274.01  Primary Tumor    0.776662    0.809844    0.891880   \n",
              "1  TCGA.E2.A572.01  Primary Tumor    0.669769    0.029292    0.761326   \n",
              "2  TCGA.AO.A0JA.01  Primary Tumor    0.505964    0.525509    0.806467   \n",
              "3  TCGA.E2.A1BD.01  Primary Tumor    0.814448    0.814974    0.902881   \n",
              "4  TCGA.AC.A5EH.01  Primary Tumor    0.418687    0.031154    0.449726   \n",
              "\n",
              "   cg00011616  cg00013655  cg00025347  cg00034076  cg00036011  ...  \\\n",
              "0    0.328564    0.849209    0.235096    0.714533    0.048083  ...   \n",
              "1    0.188135    0.830146    0.308065    0.742329    0.413321  ...   \n",
              "2    0.940331    0.711453    0.328805    0.155193    0.031138  ...   \n",
              "3    0.069385    0.927201    0.225843    0.794465    0.766701  ...   \n",
              "4    0.160170    0.617900    0.605715    0.076246    0.067412  ...   \n",
              "\n",
              "   cg27527798  cg27538352  cg27539986  cg27546977  cg27553926  cg27583037  \\\n",
              "0         NaN         NaN         NaN         NaN         NaN         NaN   \n",
              "1         NaN         NaN         NaN         NaN         NaN         NaN   \n",
              "2         NaN         NaN         NaN         NaN         NaN         NaN   \n",
              "3         NaN         NaN         NaN         NaN         NaN         NaN   \n",
              "4         NaN         NaN         NaN         NaN         NaN         NaN   \n",
              "\n",
              "   cg27592331  cg27623451  cg27633287  cg27649037  \n",
              "0         NaN         NaN         NaN         NaN  \n",
              "1         NaN         NaN         NaN         NaN  \n",
              "2         NaN         NaN         NaN         NaN  \n",
              "3         NaN         NaN         NaN         NaN  \n",
              "4         NaN         NaN         NaN         NaN  \n",
              "\n",
              "[5 rows x 18093 columns]"
            ],
            "text/html": [
              "\n",
              "  <div id=\"df-0d7f9a8b-b683-49ab-9168-9b77569dc092\">\n",
              "    <div class=\"colab-df-container\">\n",
              "      <div>\n",
              "<style scoped>\n",
              "    .dataframe tbody tr th:only-of-type {\n",
              "        vertical-align: middle;\n",
              "    }\n",
              "\n",
              "    .dataframe tbody tr th {\n",
              "        vertical-align: top;\n",
              "    }\n",
              "\n",
              "    .dataframe thead th {\n",
              "        text-align: right;\n",
              "    }\n",
              "</style>\n",
              "<table border=\"1\" class=\"dataframe\">\n",
              "  <thead>\n",
              "    <tr style=\"text-align: right;\">\n",
              "      <th></th>\n",
              "      <th>Unnamed: 0</th>\n",
              "      <th>Label</th>\n",
              "      <th>cg00001583</th>\n",
              "      <th>cg00001747</th>\n",
              "      <th>cg00002719</th>\n",
              "      <th>cg00011616</th>\n",
              "      <th>cg00013655</th>\n",
              "      <th>cg00025347</th>\n",
              "      <th>cg00034076</th>\n",
              "      <th>cg00036011</th>\n",
              "      <th>...</th>\n",
              "      <th>cg27527798</th>\n",
              "      <th>cg27538352</th>\n",
              "      <th>cg27539986</th>\n",
              "      <th>cg27546977</th>\n",
              "      <th>cg27553926</th>\n",
              "      <th>cg27583037</th>\n",
              "      <th>cg27592331</th>\n",
              "      <th>cg27623451</th>\n",
              "      <th>cg27633287</th>\n",
              "      <th>cg27649037</th>\n",
              "    </tr>\n",
              "  </thead>\n",
              "  <tbody>\n",
              "    <tr>\n",
              "      <th>0</th>\n",
              "      <td>TCGA.C8.A274.01</td>\n",
              "      <td>Primary Tumor</td>\n",
              "      <td>0.776662</td>\n",
              "      <td>0.809844</td>\n",
              "      <td>0.891880</td>\n",
              "      <td>0.328564</td>\n",
              "      <td>0.849209</td>\n",
              "      <td>0.235096</td>\n",
              "      <td>0.714533</td>\n",
              "      <td>0.048083</td>\n",
              "      <td>...</td>\n",
              "      <td>NaN</td>\n",
              "      <td>NaN</td>\n",
              "      <td>NaN</td>\n",
              "      <td>NaN</td>\n",
              "      <td>NaN</td>\n",
              "      <td>NaN</td>\n",
              "      <td>NaN</td>\n",
              "      <td>NaN</td>\n",
              "      <td>NaN</td>\n",
              "      <td>NaN</td>\n",
              "    </tr>\n",
              "    <tr>\n",
              "      <th>1</th>\n",
              "      <td>TCGA.E2.A572.01</td>\n",
              "      <td>Primary Tumor</td>\n",
              "      <td>0.669769</td>\n",
              "      <td>0.029292</td>\n",
              "      <td>0.761326</td>\n",
              "      <td>0.188135</td>\n",
              "      <td>0.830146</td>\n",
              "      <td>0.308065</td>\n",
              "      <td>0.742329</td>\n",
              "      <td>0.413321</td>\n",
              "      <td>...</td>\n",
              "      <td>NaN</td>\n",
              "      <td>NaN</td>\n",
              "      <td>NaN</td>\n",
              "      <td>NaN</td>\n",
              "      <td>NaN</td>\n",
              "      <td>NaN</td>\n",
              "      <td>NaN</td>\n",
              "      <td>NaN</td>\n",
              "      <td>NaN</td>\n",
              "      <td>NaN</td>\n",
              "    </tr>\n",
              "    <tr>\n",
              "      <th>2</th>\n",
              "      <td>TCGA.AO.A0JA.01</td>\n",
              "      <td>Primary Tumor</td>\n",
              "      <td>0.505964</td>\n",
              "      <td>0.525509</td>\n",
              "      <td>0.806467</td>\n",
              "      <td>0.940331</td>\n",
              "      <td>0.711453</td>\n",
              "      <td>0.328805</td>\n",
              "      <td>0.155193</td>\n",
              "      <td>0.031138</td>\n",
              "      <td>...</td>\n",
              "      <td>NaN</td>\n",
              "      <td>NaN</td>\n",
              "      <td>NaN</td>\n",
              "      <td>NaN</td>\n",
              "      <td>NaN</td>\n",
              "      <td>NaN</td>\n",
              "      <td>NaN</td>\n",
              "      <td>NaN</td>\n",
              "      <td>NaN</td>\n",
              "      <td>NaN</td>\n",
              "    </tr>\n",
              "    <tr>\n",
              "      <th>3</th>\n",
              "      <td>TCGA.E2.A1BD.01</td>\n",
              "      <td>Primary Tumor</td>\n",
              "      <td>0.814448</td>\n",
              "      <td>0.814974</td>\n",
              "      <td>0.902881</td>\n",
              "      <td>0.069385</td>\n",
              "      <td>0.927201</td>\n",
              "      <td>0.225843</td>\n",
              "      <td>0.794465</td>\n",
              "      <td>0.766701</td>\n",
              "      <td>...</td>\n",
              "      <td>NaN</td>\n",
              "      <td>NaN</td>\n",
              "      <td>NaN</td>\n",
              "      <td>NaN</td>\n",
              "      <td>NaN</td>\n",
              "      <td>NaN</td>\n",
              "      <td>NaN</td>\n",
              "      <td>NaN</td>\n",
              "      <td>NaN</td>\n",
              "      <td>NaN</td>\n",
              "    </tr>\n",
              "    <tr>\n",
              "      <th>4</th>\n",
              "      <td>TCGA.AC.A5EH.01</td>\n",
              "      <td>Primary Tumor</td>\n",
              "      <td>0.418687</td>\n",
              "      <td>0.031154</td>\n",
              "      <td>0.449726</td>\n",
              "      <td>0.160170</td>\n",
              "      <td>0.617900</td>\n",
              "      <td>0.605715</td>\n",
              "      <td>0.076246</td>\n",
              "      <td>0.067412</td>\n",
              "      <td>...</td>\n",
              "      <td>NaN</td>\n",
              "      <td>NaN</td>\n",
              "      <td>NaN</td>\n",
              "      <td>NaN</td>\n",
              "      <td>NaN</td>\n",
              "      <td>NaN</td>\n",
              "      <td>NaN</td>\n",
              "      <td>NaN</td>\n",
              "      <td>NaN</td>\n",
              "      <td>NaN</td>\n",
              "    </tr>\n",
              "  </tbody>\n",
              "</table>\n",
              "<p>5 rows × 18093 columns</p>\n",
              "</div>\n",
              "      <button class=\"colab-df-convert\" onclick=\"convertToInteractive('df-0d7f9a8b-b683-49ab-9168-9b77569dc092')\"\n",
              "              title=\"Convert this dataframe to an interactive table.\"\n",
              "              style=\"display:none;\">\n",
              "        \n",
              "  <svg xmlns=\"http://www.w3.org/2000/svg\" height=\"24px\"viewBox=\"0 0 24 24\"\n",
              "       width=\"24px\">\n",
              "    <path d=\"M0 0h24v24H0V0z\" fill=\"none\"/>\n",
              "    <path d=\"M18.56 5.44l.94 2.06.94-2.06 2.06-.94-2.06-.94-.94-2.06-.94 2.06-2.06.94zm-11 1L8.5 8.5l.94-2.06 2.06-.94-2.06-.94L8.5 2.5l-.94 2.06-2.06.94zm10 10l.94 2.06.94-2.06 2.06-.94-2.06-.94-.94-2.06-.94 2.06-2.06.94z\"/><path d=\"M17.41 7.96l-1.37-1.37c-.4-.4-.92-.59-1.43-.59-.52 0-1.04.2-1.43.59L10.3 9.45l-7.72 7.72c-.78.78-.78 2.05 0 2.83L4 21.41c.39.39.9.59 1.41.59.51 0 1.02-.2 1.41-.59l7.78-7.78 2.81-2.81c.8-.78.8-2.07 0-2.86zM5.41 20L4 18.59l7.72-7.72 1.47 1.35L5.41 20z\"/>\n",
              "  </svg>\n",
              "      </button>\n",
              "      \n",
              "  <style>\n",
              "    .colab-df-container {\n",
              "      display:flex;\n",
              "      flex-wrap:wrap;\n",
              "      gap: 12px;\n",
              "    }\n",
              "\n",
              "    .colab-df-convert {\n",
              "      background-color: #E8F0FE;\n",
              "      border: none;\n",
              "      border-radius: 50%;\n",
              "      cursor: pointer;\n",
              "      display: none;\n",
              "      fill: #1967D2;\n",
              "      height: 32px;\n",
              "      padding: 0 0 0 0;\n",
              "      width: 32px;\n",
              "    }\n",
              "\n",
              "    .colab-df-convert:hover {\n",
              "      background-color: #E2EBFA;\n",
              "      box-shadow: 0px 1px 2px rgba(60, 64, 67, 0.3), 0px 1px 3px 1px rgba(60, 64, 67, 0.15);\n",
              "      fill: #174EA6;\n",
              "    }\n",
              "\n",
              "    [theme=dark] .colab-df-convert {\n",
              "      background-color: #3B4455;\n",
              "      fill: #D2E3FC;\n",
              "    }\n",
              "\n",
              "    [theme=dark] .colab-df-convert:hover {\n",
              "      background-color: #434B5C;\n",
              "      box-shadow: 0px 1px 3px 1px rgba(0, 0, 0, 0.15);\n",
              "      filter: drop-shadow(0px 1px 2px rgba(0, 0, 0, 0.3));\n",
              "      fill: #FFFFFF;\n",
              "    }\n",
              "  </style>\n",
              "\n",
              "      <script>\n",
              "        const buttonEl =\n",
              "          document.querySelector('#df-0d7f9a8b-b683-49ab-9168-9b77569dc092 button.colab-df-convert');\n",
              "        buttonEl.style.display =\n",
              "          google.colab.kernel.accessAllowed ? 'block' : 'none';\n",
              "\n",
              "        async function convertToInteractive(key) {\n",
              "          const element = document.querySelector('#df-0d7f9a8b-b683-49ab-9168-9b77569dc092');\n",
              "          const dataTable =\n",
              "            await google.colab.kernel.invokeFunction('convertToInteractive',\n",
              "                                                     [key], {});\n",
              "          if (!dataTable) return;\n",
              "\n",
              "          const docLinkHtml = 'Like what you see? Visit the ' +\n",
              "            '<a target=\"_blank\" href=https://colab.research.google.com/notebooks/data_table.ipynb>data table notebook</a>'\n",
              "            + ' to learn more about interactive tables.';\n",
              "          element.innerHTML = '';\n",
              "          dataTable['output_type'] = 'display_data';\n",
              "          await google.colab.output.renderOutput(dataTable, element);\n",
              "          const docLink = document.createElement('div');\n",
              "          docLink.innerHTML = docLinkHtml;\n",
              "          element.appendChild(docLink);\n",
              "        }\n",
              "      </script>\n",
              "    </div>\n",
              "  </div>\n",
              "  "
            ]
          },
          "metadata": {},
          "execution_count": 6
        }
      ]
    },
    {
      "cell_type": "code",
      "source": [
        "# check the data\n",
        "dna.info(),gene.info()"
      ],
      "metadata": {
        "colab": {
          "base_uri": "https://localhost:8080/"
        },
        "id": "1dduC4jmpJzm",
        "outputId": "7c12668f-8379-4082-fa9f-4a7589752bea"
      },
      "execution_count": null,
      "outputs": [
        {
          "output_type": "stream",
          "name": "stdout",
          "text": [
            "<class 'pandas.core.frame.DataFrame'>\n",
            "RangeIndex: 380 entries, 0 to 379\n",
            "Columns: 18093 entries, Unnamed: 0 to cg27649037\n",
            "dtypes: float64(18091), object(2)\n",
            "memory usage: 52.5+ MB\n",
            "<class 'pandas.core.frame.DataFrame'>\n",
            "RangeIndex: 380 entries, 0 to 379\n",
            "Columns: 20823 entries, Unnamed: 0 to ZFP91.CNTF.386607\n",
            "dtypes: float64(20821), object(2)\n",
            "memory usage: 60.4+ MB\n"
          ]
        },
        {
          "output_type": "execute_result",
          "data": {
            "text/plain": [
              "(None, None)"
            ]
          },
          "metadata": {},
          "execution_count": 7
        }
      ]
    },
    {
      "cell_type": "code",
      "source": [
        "# find all features\n",
        "features1 = list(dna.columns[2:])\n",
        "features2 = list(gene.columns[2:])\n",
        "print(f\"dna- features count: {len(features1)}\")\n",
        "print(f\"gene- features count: {len(features2)}\")\n",
        "target = 'Label'\n",
        "print(f\"dna - label count: {dna[target].value_counts()}\")\n",
        "print(f\"gene - label count: {gene[target].value_counts()}\")"
      ],
      "metadata": {
        "colab": {
          "base_uri": "https://localhost:8080/"
        },
        "id": "FAtqgI8GpV_l",
        "outputId": "c0eeafc1-2dd6-4650-cacc-28ada53a8730"
      },
      "execution_count": null,
      "outputs": [
        {
          "output_type": "stream",
          "name": "stdout",
          "text": [
            "dna- features count: 18091\n",
            "gene- features count: 20821\n",
            "dna - label count: Primary Tumor          190\n",
            "Solid Tissue Normal    190\n",
            "Name: Label, dtype: int64\n",
            "gene - label count: Primary Tumor          190\n",
            "Solid Tissue Normal    190\n",
            "Name: Label, dtype: int64\n"
          ]
        }
      ]
    },
    {
      "cell_type": "markdown",
      "source": [
        "2 method to deal with data shown 'NaN'"
      ],
      "metadata": {
        "id": "aLfEVxtvpZWL"
      }
    },
    {
      "cell_type": "code",
      "source": [
        "# option 1:  Change all NaN value into 0\n",
        "dna.isnull().sum(axis=1)\n",
        "dna = dna.fillna(0)\n",
        "gene = gene.fillna(0)\n",
        "\n",
        "dna.head()"
      ],
      "metadata": {
        "colab": {
          "base_uri": "https://localhost:8080/",
          "height": 386
        },
        "id": "BCnmav4lpk0a",
        "outputId": "e0f47260-57c2-41b6-b274-e709084922cf"
      },
      "execution_count": null,
      "outputs": [
        {
          "output_type": "execute_result",
          "data": {
            "text/plain": [
              "        Unnamed: 0          Label  cg00001583  cg00001747  cg00002719  \\\n",
              "0  TCGA.C8.A274.01  Primary Tumor    0.776662    0.809844    0.891880   \n",
              "1  TCGA.E2.A572.01  Primary Tumor    0.669769    0.029292    0.761326   \n",
              "2  TCGA.AO.A0JA.01  Primary Tumor    0.505964    0.525509    0.806467   \n",
              "3  TCGA.E2.A1BD.01  Primary Tumor    0.814448    0.814974    0.902881   \n",
              "4  TCGA.AC.A5EH.01  Primary Tumor    0.418687    0.031154    0.449726   \n",
              "\n",
              "   cg00011616  cg00013655  cg00025347  cg00034076  cg00036011  ...  \\\n",
              "0    0.328564    0.849209    0.235096    0.714533    0.048083  ...   \n",
              "1    0.188135    0.830146    0.308065    0.742329    0.413321  ...   \n",
              "2    0.940331    0.711453    0.328805    0.155193    0.031138  ...   \n",
              "3    0.069385    0.927201    0.225843    0.794465    0.766701  ...   \n",
              "4    0.160170    0.617900    0.605715    0.076246    0.067412  ...   \n",
              "\n",
              "   cg27527798  cg27538352  cg27539986  cg27546977  cg27553926  cg27583037  \\\n",
              "0         0.0         0.0         0.0         0.0         0.0         0.0   \n",
              "1         0.0         0.0         0.0         0.0         0.0         0.0   \n",
              "2         0.0         0.0         0.0         0.0         0.0         0.0   \n",
              "3         0.0         0.0         0.0         0.0         0.0         0.0   \n",
              "4         0.0         0.0         0.0         0.0         0.0         0.0   \n",
              "\n",
              "   cg27592331  cg27623451  cg27633287  cg27649037  \n",
              "0         0.0         0.0         0.0         0.0  \n",
              "1         0.0         0.0         0.0         0.0  \n",
              "2         0.0         0.0         0.0         0.0  \n",
              "3         0.0         0.0         0.0         0.0  \n",
              "4         0.0         0.0         0.0         0.0  \n",
              "\n",
              "[5 rows x 18093 columns]"
            ],
            "text/html": [
              "\n",
              "  <div id=\"df-7fc7a0c9-3eeb-4454-855a-e26f6e33c3b2\">\n",
              "    <div class=\"colab-df-container\">\n",
              "      <div>\n",
              "<style scoped>\n",
              "    .dataframe tbody tr th:only-of-type {\n",
              "        vertical-align: middle;\n",
              "    }\n",
              "\n",
              "    .dataframe tbody tr th {\n",
              "        vertical-align: top;\n",
              "    }\n",
              "\n",
              "    .dataframe thead th {\n",
              "        text-align: right;\n",
              "    }\n",
              "</style>\n",
              "<table border=\"1\" class=\"dataframe\">\n",
              "  <thead>\n",
              "    <tr style=\"text-align: right;\">\n",
              "      <th></th>\n",
              "      <th>Unnamed: 0</th>\n",
              "      <th>Label</th>\n",
              "      <th>cg00001583</th>\n",
              "      <th>cg00001747</th>\n",
              "      <th>cg00002719</th>\n",
              "      <th>cg00011616</th>\n",
              "      <th>cg00013655</th>\n",
              "      <th>cg00025347</th>\n",
              "      <th>cg00034076</th>\n",
              "      <th>cg00036011</th>\n",
              "      <th>...</th>\n",
              "      <th>cg27527798</th>\n",
              "      <th>cg27538352</th>\n",
              "      <th>cg27539986</th>\n",
              "      <th>cg27546977</th>\n",
              "      <th>cg27553926</th>\n",
              "      <th>cg27583037</th>\n",
              "      <th>cg27592331</th>\n",
              "      <th>cg27623451</th>\n",
              "      <th>cg27633287</th>\n",
              "      <th>cg27649037</th>\n",
              "    </tr>\n",
              "  </thead>\n",
              "  <tbody>\n",
              "    <tr>\n",
              "      <th>0</th>\n",
              "      <td>TCGA.C8.A274.01</td>\n",
              "      <td>Primary Tumor</td>\n",
              "      <td>0.776662</td>\n",
              "      <td>0.809844</td>\n",
              "      <td>0.891880</td>\n",
              "      <td>0.328564</td>\n",
              "      <td>0.849209</td>\n",
              "      <td>0.235096</td>\n",
              "      <td>0.714533</td>\n",
              "      <td>0.048083</td>\n",
              "      <td>...</td>\n",
              "      <td>0.0</td>\n",
              "      <td>0.0</td>\n",
              "      <td>0.0</td>\n",
              "      <td>0.0</td>\n",
              "      <td>0.0</td>\n",
              "      <td>0.0</td>\n",
              "      <td>0.0</td>\n",
              "      <td>0.0</td>\n",
              "      <td>0.0</td>\n",
              "      <td>0.0</td>\n",
              "    </tr>\n",
              "    <tr>\n",
              "      <th>1</th>\n",
              "      <td>TCGA.E2.A572.01</td>\n",
              "      <td>Primary Tumor</td>\n",
              "      <td>0.669769</td>\n",
              "      <td>0.029292</td>\n",
              "      <td>0.761326</td>\n",
              "      <td>0.188135</td>\n",
              "      <td>0.830146</td>\n",
              "      <td>0.308065</td>\n",
              "      <td>0.742329</td>\n",
              "      <td>0.413321</td>\n",
              "      <td>...</td>\n",
              "      <td>0.0</td>\n",
              "      <td>0.0</td>\n",
              "      <td>0.0</td>\n",
              "      <td>0.0</td>\n",
              "      <td>0.0</td>\n",
              "      <td>0.0</td>\n",
              "      <td>0.0</td>\n",
              "      <td>0.0</td>\n",
              "      <td>0.0</td>\n",
              "      <td>0.0</td>\n",
              "    </tr>\n",
              "    <tr>\n",
              "      <th>2</th>\n",
              "      <td>TCGA.AO.A0JA.01</td>\n",
              "      <td>Primary Tumor</td>\n",
              "      <td>0.505964</td>\n",
              "      <td>0.525509</td>\n",
              "      <td>0.806467</td>\n",
              "      <td>0.940331</td>\n",
              "      <td>0.711453</td>\n",
              "      <td>0.328805</td>\n",
              "      <td>0.155193</td>\n",
              "      <td>0.031138</td>\n",
              "      <td>...</td>\n",
              "      <td>0.0</td>\n",
              "      <td>0.0</td>\n",
              "      <td>0.0</td>\n",
              "      <td>0.0</td>\n",
              "      <td>0.0</td>\n",
              "      <td>0.0</td>\n",
              "      <td>0.0</td>\n",
              "      <td>0.0</td>\n",
              "      <td>0.0</td>\n",
              "      <td>0.0</td>\n",
              "    </tr>\n",
              "    <tr>\n",
              "      <th>3</th>\n",
              "      <td>TCGA.E2.A1BD.01</td>\n",
              "      <td>Primary Tumor</td>\n",
              "      <td>0.814448</td>\n",
              "      <td>0.814974</td>\n",
              "      <td>0.902881</td>\n",
              "      <td>0.069385</td>\n",
              "      <td>0.927201</td>\n",
              "      <td>0.225843</td>\n",
              "      <td>0.794465</td>\n",
              "      <td>0.766701</td>\n",
              "      <td>...</td>\n",
              "      <td>0.0</td>\n",
              "      <td>0.0</td>\n",
              "      <td>0.0</td>\n",
              "      <td>0.0</td>\n",
              "      <td>0.0</td>\n",
              "      <td>0.0</td>\n",
              "      <td>0.0</td>\n",
              "      <td>0.0</td>\n",
              "      <td>0.0</td>\n",
              "      <td>0.0</td>\n",
              "    </tr>\n",
              "    <tr>\n",
              "      <th>4</th>\n",
              "      <td>TCGA.AC.A5EH.01</td>\n",
              "      <td>Primary Tumor</td>\n",
              "      <td>0.418687</td>\n",
              "      <td>0.031154</td>\n",
              "      <td>0.449726</td>\n",
              "      <td>0.160170</td>\n",
              "      <td>0.617900</td>\n",
              "      <td>0.605715</td>\n",
              "      <td>0.076246</td>\n",
              "      <td>0.067412</td>\n",
              "      <td>...</td>\n",
              "      <td>0.0</td>\n",
              "      <td>0.0</td>\n",
              "      <td>0.0</td>\n",
              "      <td>0.0</td>\n",
              "      <td>0.0</td>\n",
              "      <td>0.0</td>\n",
              "      <td>0.0</td>\n",
              "      <td>0.0</td>\n",
              "      <td>0.0</td>\n",
              "      <td>0.0</td>\n",
              "    </tr>\n",
              "  </tbody>\n",
              "</table>\n",
              "<p>5 rows × 18093 columns</p>\n",
              "</div>\n",
              "      <button class=\"colab-df-convert\" onclick=\"convertToInteractive('df-7fc7a0c9-3eeb-4454-855a-e26f6e33c3b2')\"\n",
              "              title=\"Convert this dataframe to an interactive table.\"\n",
              "              style=\"display:none;\">\n",
              "        \n",
              "  <svg xmlns=\"http://www.w3.org/2000/svg\" height=\"24px\"viewBox=\"0 0 24 24\"\n",
              "       width=\"24px\">\n",
              "    <path d=\"M0 0h24v24H0V0z\" fill=\"none\"/>\n",
              "    <path d=\"M18.56 5.44l.94 2.06.94-2.06 2.06-.94-2.06-.94-.94-2.06-.94 2.06-2.06.94zm-11 1L8.5 8.5l.94-2.06 2.06-.94-2.06-.94L8.5 2.5l-.94 2.06-2.06.94zm10 10l.94 2.06.94-2.06 2.06-.94-2.06-.94-.94-2.06-.94 2.06-2.06.94z\"/><path d=\"M17.41 7.96l-1.37-1.37c-.4-.4-.92-.59-1.43-.59-.52 0-1.04.2-1.43.59L10.3 9.45l-7.72 7.72c-.78.78-.78 2.05 0 2.83L4 21.41c.39.39.9.59 1.41.59.51 0 1.02-.2 1.41-.59l7.78-7.78 2.81-2.81c.8-.78.8-2.07 0-2.86zM5.41 20L4 18.59l7.72-7.72 1.47 1.35L5.41 20z\"/>\n",
              "  </svg>\n",
              "      </button>\n",
              "      \n",
              "  <style>\n",
              "    .colab-df-container {\n",
              "      display:flex;\n",
              "      flex-wrap:wrap;\n",
              "      gap: 12px;\n",
              "    }\n",
              "\n",
              "    .colab-df-convert {\n",
              "      background-color: #E8F0FE;\n",
              "      border: none;\n",
              "      border-radius: 50%;\n",
              "      cursor: pointer;\n",
              "      display: none;\n",
              "      fill: #1967D2;\n",
              "      height: 32px;\n",
              "      padding: 0 0 0 0;\n",
              "      width: 32px;\n",
              "    }\n",
              "\n",
              "    .colab-df-convert:hover {\n",
              "      background-color: #E2EBFA;\n",
              "      box-shadow: 0px 1px 2px rgba(60, 64, 67, 0.3), 0px 1px 3px 1px rgba(60, 64, 67, 0.15);\n",
              "      fill: #174EA6;\n",
              "    }\n",
              "\n",
              "    [theme=dark] .colab-df-convert {\n",
              "      background-color: #3B4455;\n",
              "      fill: #D2E3FC;\n",
              "    }\n",
              "\n",
              "    [theme=dark] .colab-df-convert:hover {\n",
              "      background-color: #434B5C;\n",
              "      box-shadow: 0px 1px 3px 1px rgba(0, 0, 0, 0.15);\n",
              "      filter: drop-shadow(0px 1px 2px rgba(0, 0, 0, 0.3));\n",
              "      fill: #FFFFFF;\n",
              "    }\n",
              "  </style>\n",
              "\n",
              "      <script>\n",
              "        const buttonEl =\n",
              "          document.querySelector('#df-7fc7a0c9-3eeb-4454-855a-e26f6e33c3b2 button.colab-df-convert');\n",
              "        buttonEl.style.display =\n",
              "          google.colab.kernel.accessAllowed ? 'block' : 'none';\n",
              "\n",
              "        async function convertToInteractive(key) {\n",
              "          const element = document.querySelector('#df-7fc7a0c9-3eeb-4454-855a-e26f6e33c3b2');\n",
              "          const dataTable =\n",
              "            await google.colab.kernel.invokeFunction('convertToInteractive',\n",
              "                                                     [key], {});\n",
              "          if (!dataTable) return;\n",
              "\n",
              "          const docLinkHtml = 'Like what you see? Visit the ' +\n",
              "            '<a target=\"_blank\" href=https://colab.research.google.com/notebooks/data_table.ipynb>data table notebook</a>'\n",
              "            + ' to learn more about interactive tables.';\n",
              "          element.innerHTML = '';\n",
              "          dataTable['output_type'] = 'display_data';\n",
              "          await google.colab.output.renderOutput(dataTable, element);\n",
              "          const docLink = document.createElement('div');\n",
              "          docLink.innerHTML = docLinkHtml;\n",
              "          element.appendChild(docLink);\n",
              "        }\n",
              "      </script>\n",
              "    </div>\n",
              "  </div>\n",
              "  "
            ]
          },
          "metadata": {},
          "execution_count": 13
        }
      ]
    },
    {
      "cell_type": "code",
      "source": [
        "# option 2: Lagrange function\n",
        "# if value with NaN - Larange method\n",
        "from scipy.interpolate import lagrange\n",
        "\n",
        "def poly_larange(s, n, k=5):\n",
        "    y = s[list(range(n-k, n)) + list(range(n+1, n+1+k))]\n",
        "    y = y[y.notnull()]\n",
        "    return lagrange(y.index, list(y))(n)\n",
        "\n",
        "dna = dna.copy()\n",
        "for i in dna.columns:\n",
        "    for j in range(len(dna)):\n",
        "        if(dna[i].isnull())[j]:\n",
        "            dna.loc[j,i] = poly_larange(dna[i], j)\n",
        "dna\n",
        "\n",
        "gene = gene.copy()\n",
        "for i in gene.columns:\n",
        "    for j in range(len(gene)):\n",
        "        if(gene[i].isnull())[j]:\n",
        "            gene.loc[j,i] = poly_larange(gene[i], j)\n",
        "gene"
      ],
      "metadata": {
        "id": "t26kNL92psCL"
      },
      "execution_count": null,
      "outputs": []
    },
    {
      "cell_type": "markdown",
      "source": [
        "### Normalization"
      ],
      "metadata": {
        "id": "TBPGk3AEsWB0"
      }
    },
    {
      "cell_type": "code",
      "source": [
        "#Normalization\n",
        "X1 = dna[features1]\n",
        "y1 = dna[target]\n",
        "\n",
        "X2 = gene[features2]\n",
        "y2 = gene[target]\n",
        "\n",
        "# for data 1\n",
        "# apply minmaxscaler to X\n",
        "from sklearn.preprocessing import MinMaxScaler,LabelEncoder\n",
        "X1 = MinMaxScaler().fit_transform(X1)\n",
        "# apply label encoder to y\n",
        "lbe1 = LabelEncoder()\n",
        "y1 = lbe1.fit_transform(y1)\n",
        "\n",
        "# for data 2\n",
        "# apply minmaxscaler to X\n",
        "from sklearn.preprocessing import MinMaxScaler,LabelEncoder\n",
        "X2 = MinMaxScaler().fit_transform(X2)\n",
        "# apply label encoder to y\n",
        "lbe2 = LabelEncoder()\n",
        "y2 = lbe2.fit_transform(y2)"
      ],
      "metadata": {
        "id": "hnX28ifcpxnA"
      },
      "execution_count": null,
      "outputs": []
    },
    {
      "cell_type": "markdown",
      "source": [
        "## PCA"
      ],
      "metadata": {
        "id": "FT95FMk3sOln"
      }
    },
    {
      "cell_type": "code",
      "source": [
        "# Feature number selelction / PCA\n",
        "from sklearn.decomposition import PCA\n",
        "import numpy as np\n",
        "import matplotlib.pyplot as plt\n",
        "# PCA analysis, extract main components\n",
        "def PCA_n(X_scaled):\n",
        "    estimator_pca = PCA(n_components=None)\n",
        "    estimator_pca.fit(X_scaled)\n",
        "    evr = estimator_pca.explained_variance_ratio_ \n",
        "    plt.figure(figsize=(8, 5))\n",
        "    plt.plot(np.arange(1, len(evr) + 1), np.cumsum(evr*100), \"-o\")\n",
        "    plt.title(\"Cumulative Explained Variance Ratio\", fontsize=15)\n",
        "    plt.xlabel(\"number of components\",fontsize=15)\n",
        "    plt.ylabel(\"explained variance ratio(%)\",fontsize=15)\n",
        "    plt.xticks(fontsize=12)\n",
        "    plt.yticks(fontsize=12)\n",
        "    plt.show()\n",
        "\n",
        "def pcaX(X_scaled,n):#data dimension reduction\n",
        "    pca = PCA(n_components=n)\n",
        "    pca_X = pca.fit_transform(X_scaled)\n",
        "    print('Decomposition：',X_scaled.shape,'-->',pca_X.shape)\n",
        "    return pd.DataFrame(pca_X)\n",
        "\n",
        "# Because the dimension of data is too high and there are too many features, \n",
        "# PCA method is used to extract features.\n",
        "\n",
        "# High-dimensional data is reduced to low-dimensional data, \n",
        "# and the main information is extracted for training.\n",
        "print(\"DNA\")\n",
        "PCA_n(X1)\n",
        "pca_X1 = pcaX(X1,20) # feature selection\n",
        "print(\"Gene\")\n",
        "PCA_n(X2)\n",
        "pca_X2 = pcaX(X2,150) # feature selection\n"
      ],
      "metadata": {
        "colab": {
          "base_uri": "https://localhost:8080/",
          "height": 772
        },
        "id": "a5lWKDXWp0Fp",
        "outputId": "7cae130e-0f1d-4e05-daf1-191d7434dac1"
      },
      "execution_count": null,
      "outputs": [
        {
          "output_type": "stream",
          "name": "stdout",
          "text": [
            "DNA\n"
          ]
        },
        {
          "output_type": "display_data",
          "data": {
            "text/plain": [
              "<Figure size 576x360 with 1 Axes>"
            ],
            "image/png": "[encoded data removed]"
          },
          "metadata": {
            "needs_background": "light"
          }
        },
        {
          "output_type": "stream",
          "name": "stdout",
          "text": [
            "Decomposition： (380, 18091) --> (380, 20)\n",
            "Gene\n"
          ]
        },
        {
          "output_type": "display_data",
          "data": {
            "text/plain": [
              "<Figure size 576x360 with 1 Axes>"
            ],
            "image/png": "[encoded data removed]"
          },
          "metadata": {
            "needs_background": "light"
          }
        },
        {
          "output_type": "stream",
          "name": "stdout",
          "text": [
            "Decomposition： (380, 20821) --> (380, 150)\n"
          ]
        }
      ]
    },
    {
      "cell_type": "markdown",
      "source": [
        "\n",
        "\n",
        "```\n",
        "# This is formatted as code\n",
        "```\n",
        "\n",
        "# Model - Random Forest, Logistic regression, SVM, Multilayer Perceptron"
      ],
      "metadata": {
        "id": "yMjR-saOsJfx"
      }
    },
    {
      "cell_type": "code",
      "source": [
        "## test 70% train 30%\n",
        "from sklearn.model_selection import train_test_split\n",
        "X_train1, X_test1, y_train1, y_test1 = train_test_split(pca_X1, y1,\n",
        "                                                    test_size=0.20, random_state=30)\n",
        "\n",
        "X_train2, X_test2, y_train2, y_test2 = train_test_split(pca_X2, y2,\n",
        "                                                    test_size=0.20, random_state=30)\n",
        "import numpy as np\n",
        "import time\n",
        "# Define model performance evaluation methods\n",
        "def evaluation(y_test,y_pred,model_type = 'regression'):\n",
        "\t\"\"\"\n",
        "\tenter real - y_test和prediction - y_pred，evaluate model\n",
        "\tmodel_type = regression #evaluate regression model\n",
        "\tmodel_type = classification  # evaluate classification model\n",
        "\t\"\"\"\n",
        "\tmetrics = {}\n",
        "\t# if classification model\n",
        "\tif model_type == 'classification':\n",
        "\t\tfrom sklearn.metrics import classification_report\n",
        "\t\tfrom sklearn.metrics import accuracy_score   \n",
        "\t\tfrom sklearn.metrics import precision_score\t\n",
        "\t\tfrom sklearn.metrics import recall_score\t  #sensitivity\n",
        "\t\tfrom sklearn.metrics import f1_score\t\t\n",
        "\t\t# metrics['cls_report'] = classification_report(y_test, y_pred)\n",
        "\t\tmetrics['accuracy'] = accuracy_score(y_test,y_pred)\n",
        "\t\tmetrics['precision'] =  precision_score(y_test,y_pred,average='macro')\n",
        "\t\tmetrics['recall'] = recall_score(y_test,y_pred,average='macro')\n",
        "\t\tmetrics['f1-score'] = f1_score(y_test,y_pred,average='macro')\n",
        "\t\t\n",
        "\t# if regression model\n",
        "\telif model_type== 'regression':\n",
        "\t\tfrom sklearn.metrics import mean_squared_error\n",
        "\t\tfrom sklearn.metrics import mean_absolute_error\n",
        "\t\tfrom sklearn.metrics import r2_score\n",
        "\t\tmetrics['MSE'] = mean_squared_error(y_test,y_pred)\n",
        "\t\tmetrics['SCORE'] = mean_squared_error(y_test,y_pred) ** 0.5\n",
        "\t\tmetrics['MAE'] = mean_absolute_error(y_test,y_pred)\n",
        "\t\tmetrics['R2'] = r2_score(y_test,y_pred)\n",
        "\telse:\n",
        "\t\traise Exception('model_type should be classification or regression!')\n",
        "\treturn metrics\n",
        "\n",
        "## Random Forest\n",
        "def RF_cls_model(X_train,y_train,X_test,y_test):\n",
        "\ttime_start = time.time()\n",
        "\tfrom sklearn.ensemble import RandomForestClassifier\n",
        "\tRF = RandomForestClassifier(n_estimators=10)\n",
        "\tRF.fit(X_train,y_train)\n",
        "\ttime_end = time.time()\n",
        "\tprint(f\"training time: {(time_end-time_start):.4f}s\")\n",
        "\t# evaluate model \n",
        "\t# test set prediction\n",
        "\ty_pred_RF = RF.predict(X_test)\n",
        "\t# performance evaluation\n",
        "\tmetrics= evaluation(y_test,y_pred_RF,model_type='classification')\n",
        "\treturn RF,metrics\n",
        "\n",
        "## Logistic Regression\n",
        "def LR_cls_model(X_train,y_train,X_test,y_test):\n",
        "\ttime_start = time.time()\n",
        "\tfrom sklearn.linear_model import LogisticRegression\n",
        "\tLR = LogisticRegression(solver='lbfgs',class_weight='balanced', max_iter=10000)\n",
        "\t# train model\n",
        "\tLR.fit(X_train, y_train)\n",
        "\ttime_end = time.time()\n",
        "\tprint(f\"training time: {(time_end-time_start):.4f}s\")\n",
        "\t# predict test set result\n",
        "\ty_pred_LR = LR.predict(X_test)\n",
        "\tmetrics  = evaluation(y_test,y_pred_LR,model_type='classification')\n",
        "\treturn LR,metrics\n",
        "\n",
        "# SVM \n",
        "def SVM_cls_model(X_train,y_train,X_test,y_test):\n",
        "\ttime_start = time.time()\n",
        "\tfrom sklearn.svm import SVC\n",
        "\tsvc = SVC(C=1.0,kernel='rbf',probability=True)\n",
        "\t# train model\n",
        "\tsvc.fit(X_train, y_train)\n",
        "\ttime_end = time.time()\n",
        "\tprint(f\"training time: {(time_end-time_start):.4f}s\")\n",
        "\t# predict test set result\n",
        "\ty_pred_SVC = svc.predict(X_test)\n",
        "\tmetrics  = evaluation(y_test,y_pred_SVC,model_type='classification')\n",
        "\treturn svc,metrics\n",
        "\n",
        "# sklearn bp - Multilayer perceptron (MLP)\n",
        "def MLP_cls_model(X_train,y_train,X_test,y_test):\n",
        "\ttime_start = time.time()\n",
        "\tfrom sklearn.neural_network import MLPClassifier\n",
        "\tMLP = MLPClassifier(random_state=1, max_iter=300)\n",
        "\t# trian model\n",
        "\tMLP.fit(X_train, y_train)\n",
        "\ttime_end = time.time()\n",
        "\tprint(f\"training time: {(time_end-time_start):.4f}s\")\n",
        "\t# predict test set result\n",
        "\ty_pred_MLP = MLP.predict(X_test)\n",
        "\tmetrics  = evaluation(y_test,y_pred_MLP,model_type='classification')\n",
        "\treturn MLP,metrics\n",
        "import matplotlib.pyplot as plt\n",
        "def plot_metric(metric_dic,metric = 'SCORE',dataset_name = 'None'):\n",
        "\t\"\"\"\n",
        "\tmetric_dic looks like: {'model_name':{'metric_name': value}}\n",
        "\t\"\"\"\n",
        "\t# plot and comparison of indicators for each model\n",
        "\tx = []\n",
        "\ty = []\n",
        "\t# xtraction data\n",
        "\tfor model_name in metric_dic.keys():\n",
        "\t\tx.append(model_name)\n",
        "\t\ty.append(metric_dic.get(model_name).get(metric))\n",
        "\tplt.figure(figsize=(10,7))\n",
        "\t# histogram\n",
        "\tplt.bar(x,y)\n",
        "\tfor i,j in zip(range(len(x)),y):\n",
        "\t\tplt.text(i,j,'{:.4}'.format(j),va='bottom',ha='center')\n",
        "\t# title, name of axis\n",
        "\tplt.title(f\"Model Comparison - Dataset({dataset_name}) - {metric}\",fontsize=15)\n",
        "\tplt.xlabel(\"Model Name\")\n",
        "\tplt.ylabel(metric)\n",
        "\tplt.xticks(rotation=90)\n",
        "\tplt.ylim(np.min(y)*0.8,np.max(y)*1.05)\n",
        "\t# save pic\n",
        "\tplt.savefig(f\"Model Comparison - Dataset({dataset_name}) - {metric}.jpg\",dpi=200)\n",
        "\tplt.show()\n",
        "\n",
        "######### Dataset 1\n",
        "# Select the classification model for training\n",
        "cls_models = [RF_cls_model,LR_cls_model,SVM_cls_model,MLP_cls_model]\n",
        "# classification model\n",
        "model_type = 'classification'\n",
        "eval_dic1 = {}\n",
        "models = []\n",
        "#  data set1\n",
        "print(\"==============DataSet1 - Mestery_dna-meth.csv==============\")\n",
        "for model in cls_models:\n",
        "\tprint(f\"【{model.__name__}】\")\n",
        "\tmodel,metrics = model(X_train1,y_train1,X_test1,y_test1)\n",
        "\tmodels.append(model)\n",
        "\t# evaluation result \n",
        "\teval_dic1[type(model).__name__] = metrics.copy()\n",
        "\tprint(f\"finished {type(model).__name__} model training...\")\n",
        "\tprint(\"evaluation:\")\n",
        "\tprint(metrics)\n",
        "\tprint('\\n')\n",
        "plot_metric(eval_dic1,metric='accuracy',dataset_name='liver')\n",
        "\n",
        "######### Dataset 2\n",
        "print(\"\\n==============DataSet2 - Mystery_gene-expr.csv==============\")\n",
        "model_type = 'classification'\n",
        "eval_dic2 = {}\n",
        "models = []\n",
        "cls_models = [RF_cls_model,LR_cls_model,SVM_cls_model,MLP_cls_model]\n",
        "# data set2\n",
        "for model in cls_models:\n",
        "\tprint(f\"【{model.__name__}】\")\n",
        "\tmodel,metrics = model(X_train2,y_train2,X_test2,y_test2)\n",
        "\tmodels.append(model)\n",
        "\t# result \n",
        "\teval_dic2[type(model).__name__] = metrics.copy()\n",
        "\tprint(f\"finished {type(model).__name__} model training...\")\n",
        "\tprint(\"evaluation:\")\n",
        "\tprint(metrics)\n",
        "\tprint('\\n')\n",
        "\n",
        "plot_metric(eval_dic2,metric='accuracy',dataset_name='liver')"
      ],
      "metadata": {
        "colab": {
          "base_uri": "https://localhost:8080/",
          "height": 1000
        },
        "id": "GbJPY_jVqQlH",
        "outputId": "9883a14d-cb27-4a86-c07d-c815b6e5abe2"
      },
      "execution_count": null,
      "outputs": [
        {
          "output_type": "stream",
          "name": "stdout",
          "text": [
            "==============DataSet1 - Mestery_dna-meth.csv==============\n",
            "【RF_cls_model】\n",
            "training time: 0.1916s\n",
            "finished RandomForestClassifier model training...\n",
            "evaluation:\n",
            "{'accuracy': 0.9736842105263158, 'precision': 0.975, 'recall': 0.9736842105263157, 'f1-score': 0.9736659736659736}\n",
            "\n",
            "\n",
            "【LR_cls_model】\n",
            "training time: 0.0488s\n",
            "finished LogisticRegression model training...\n",
            "evaluation:\n",
            "{'accuracy': 1.0, 'precision': 1.0, 'recall': 1.0, 'f1-score': 1.0}\n",
            "\n",
            "\n",
            "【SVM_cls_model】\n",
            "training time: 0.0167s\n",
            "finished SVC model training...\n",
            "evaluation:\n",
            "{'accuracy': 0.9868421052631579, 'precision': 0.9871794871794872, 'recall': 0.986842105263158, 'f1-score': 0.9868398268398267}\n",
            "\n",
            "\n",
            "【MLP_cls_model】\n",
            "training time: 0.6456s\n",
            "finished MLPClassifier model training...\n",
            "evaluation:\n",
            "{'accuracy': 0.9868421052631579, 'precision': 0.9871794871794872, 'recall': 0.986842105263158, 'f1-score': 0.9868398268398267}\n",
            "\n",
            "\n"
          ]
        },
        {
          "output_type": "display_data",
          "data": {
            "text/plain": [
              "<Figure size 720x504 with 1 Axes>"
            ],
            "image/png": "[encoded data removed]"
          },
          "metadata": {
            "needs_background": "light"
          }
        },
        {
          "output_type": "stream",
          "name": "stdout",
          "text": [
            "\n",
            "==============DataSet2 - Mystery_gene-expr.csv==============\n",
            "【RF_cls_model】\n",
            "training time: 0.0735s\n",
            "finished RandomForestClassifier model training...\n",
            "evaluation:\n",
            "{'accuracy': 0.881578947368421, 'precision': 0.8949820788530466, 'recall': 0.881578947368421, 'f1-score': 0.8805657412257726}\n",
            "\n",
            "\n",
            "【LR_cls_model】\n",
            "training time: 0.1138s\n",
            "finished LogisticRegression model training...\n",
            "evaluation:\n",
            "{'accuracy': 0.9868421052631579, 'precision': 0.9871794871794872, 'recall': 0.986842105263158, 'f1-score': 0.9868398268398267}\n",
            "\n",
            "\n",
            "【SVM_cls_model】\n",
            "training time: 0.1034s\n",
            "finished SVC model training...\n",
            "evaluation:\n",
            "{'accuracy': 0.9736842105263158, 'precision': 0.975, 'recall': 0.9736842105263157, 'f1-score': 0.9736659736659736}\n",
            "\n",
            "\n",
            "【MLP_cls_model】\n",
            "training time: 1.1493s\n",
            "finished MLPClassifier model training...\n",
            "evaluation:\n",
            "{'accuracy': 0.9342105263157895, 'precision': 0.9345114345114345, 'recall': 0.9342105263157894, 'f1-score': 0.9341991341991341}\n",
            "\n",
            "\n"
          ]
        },
        {
          "output_type": "display_data",
          "data": {
            "text/plain": [
              "<Figure size 720x504 with 1 Axes>"
            ],
            "image/png": "[encoded data removed]"
          },
          "metadata": {
            "needs_background": "light"
          }
        }
      ]
    },
    {
      "cell_type": "markdown",
      "source": [
        "# Group Model"
      ],
      "metadata": {
        "id": "VS6qN24t6RVh"
      }
    },
    {
      "cell_type": "code",
      "source": [
        "# load the data \n",
        "liver_methyl = pd.read_csv('G9_liver_dna-meth.csv')\n",
        "liver_gene = pd.read_csv('G9_liver_gene-expr.csv')\n",
        "mys_methyl = pd.read_csv(\"/mystery_dna-meth.csv\")\n",
        "mys_gene = pd.read_csv(\"/mystery_gene-expr.csv\") \n"
      ],
      "metadata": {
        "id": "dQZnb_F96Zro"
      },
      "execution_count": null,
      "outputs": []
    },
    {
      "cell_type": "markdown",
      "source": [
        "## 1. Data Preparation\n",
        "\n"
      ],
      "metadata": {
        "id": "35mnUknT6mrW"
      }
    },
    {
      "cell_type": "markdown",
      "source": [
        "### 1.1 Data Cleaning\n",
        "- Separate Data and Labels\n",
        "- Rows without labels should be removed. \n",
        "- Empty columns should (zeros and Na's) should be removed. "
      ],
      "metadata": {
        "id": "Qjqp75eH9K9G"
      }
    },
    {
      "cell_type": "markdown",
      "source": [
        "#### Separate Data and Labels"
      ],
      "metadata": {
        "id": "WQgftov6-YGX"
      }
    },
    {
      "cell_type": "code",
      "source": [
        "# For liver datasets\n",
        "liver_methyl_data = liver_methyl\n",
        "liver_methyl_labels = \n",
        "liver_gene_data =\n",
        "liver_gene_labels = \n",
        "\n",
        "# For mystery datasets\n",
        "mys_methyl = pd.read_csv(\"/mystery_dna-meth.csv\")\n",
        "mys_gene = pd.read_csv(\"/mystery_gene-expr.csv\") "
      ],
      "metadata": {
        "id": "Kj-u-Alr-moQ"
      },
      "execution_count": null,
      "outputs": []
    },
    {
      "cell_type": "markdown",
      "source": [
        "### Imputing Data Method 1: Lagrange"
      ],
      "metadata": {
        "id": "dZmSQG138uIr"
      }
    },
    {
      "cell_type": "code",
      "source": [
        "from scipy.interpolate import lagrange\n",
        "\n",
        "def poly_larange(s, n, k=5):\n",
        "    y = s[list(range(n-k, n)) + list(range(n+1, n+1+k))]\n",
        "    y = y[y.notnull()]\n",
        "    return lagrange(y.index, list(y))(n)\n",
        "\n",
        "liver_gene = liver_gene.copy()\n",
        "for i in liver_gene.columns:\n",
        "    for j in range(len(liver_gene)):\n",
        "        if(liver_gene[i].isnull())[j]:\n",
        "            liver_gene.loc[j,i] = poly_larange(liver_gene[i], j)\n",
        "\n",
        "liver_methyl = liver_methyl.copy()\n",
        "for i in liver_methyl.columns:\n",
        "    for j in range(len(liver_methyl)):\n",
        "        if(liver_methyl[i].isnull())[j]:\n",
        "            liver_methyl.loc[j,i] = poly_larange(liver_methyl[i], j)\n"
      ],
      "metadata": {
        "id": "ujlCoEGw6rRb"
      },
      "execution_count": null,
      "outputs": []
    },
    {
      "cell_type": "markdown",
      "source": [
        "### Imputing Data Method 2: Column Means"
      ],
      "metadata": {
        "id": "FOecs9KK8hPQ"
      }
    },
    {
      "cell_type": "code",
      "source": [
        "liver_gene.head(n=2)"
      ],
      "metadata": {
        "id": "xHZug8l37xo2"
      },
      "execution_count": null,
      "outputs": []
    },
    {
      "cell_type": "code",
      "source": [
        "liver_methyl.head(n=2)"
      ],
      "metadata": {
        "id": "IqWOTbA970GK"
      },
      "execution_count": null,
      "outputs": []
    },
    {
      "cell_type": "markdown",
      "source": [
        "#### Removing Genes with Low Expression"
      ],
      "metadata": {
        "id": "lwRvoyMS9epe"
      }
    },
    {
      "cell_type": "code",
      "source": [
        "expr_means = []\n",
        "\n",
        "for column in liver_gene_expr[col_names_exp[2:]]:\n",
        "  col_mean = liver_gene_expr[column].mean()\n",
        "  expr_means.append(col_mean)\n",
        "  if col_mean > 0.025:\n",
        "    liver_gene_expr[column] = liver_gene_expr[column].replace([np.inf, np.nan, -np.inf], col_mean)\n",
        "  else: \n",
        "    liver_gene_expr = liver_gene_expr.drop(column, axis = 1)\n",
        "\n",
        "print(liver_gene_expr.shape)\n",
        "\n",
        "plt.hist(expr_means, bins = 40, range = [0.0, 0.2])\n",
        "plt.show()"
      ],
      "metadata": {
        "id": "wrf7piaZ8V4E"
      },
      "execution_count": null,
      "outputs": []
    },
    {
      "cell_type": "markdown",
      "source": [
        "### Normalization\n"
      ],
      "metadata": {
        "id": "cyodBS7L8NKz"
      }
    },
    {
      "cell_type": "code",
      "source": [],
      "metadata": {
        "id": "vDz2H2X49BG7"
      },
      "execution_count": null,
      "outputs": []
    },
    {
      "cell_type": "markdown",
      "source": [
        "## Feature Selection: \n",
        "-Want to use only a subset of genes/methylation tags\n",
        "for each model"
      ],
      "metadata": {
        "id": "3Mo56FU4_dHy"
      }
    }
  ],
  "metadata": {
    "kernelspec": {
      "display_name": "Python 3 (ipykernel)",
      "language": "python",
      "name": "python3"
    },
    "language_info": {
      "codemirror_mode": {
        "name": "ipython",
        "version": 3
      },
      "file_extension": ".py",
      "mimetype": "text/x-python",
      "name": "python",
      "nbconvert_exporter": "python",
      "pygments_lexer": "ipython3",
      "version": "3.9.12"
    },
    "colab": {
      "provenance": [],
      "toc_visible": true,
      "collapsed_sections": [],
      "include_colab_link": true
    }
  },
  "nbformat": 4,
  "nbformat_minor": 0
}