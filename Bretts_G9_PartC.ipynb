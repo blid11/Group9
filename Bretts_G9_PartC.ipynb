{
  "cells": [
    {
      "cell_type": "markdown",
      "metadata": {
        "id": "view-in-github",
        "colab_type": "text"
      },
      "source": [
        "<a href=\"https://colab.research.google.com/github/blid11/Group9/blob/Brett/Bretts_G9_PartC.ipynb\" target=\"_parent\"><img src=\"https://colab.research.google.com/assets/colab-badge.svg\" alt=\"Open In Colab\"/></a>"
      ]
    },
    {
      "cell_type": "markdown",
      "source": [
        "Changes made in this Colab notebook can be saved with Control/Command S and do not need to be pushed to Github. "
      ],
      "metadata": {
        "id": "rKNr9ou87aZT"
      }
    },
    {
      "cell_type": "code",
      "execution_count": 20,
      "metadata": {
        "id": "W-IfC5rw1Bjz"
      },
      "outputs": [],
      "source": [
        "\n",
        "# Import libaries needed\n",
        "import pandas as pd\n",
        "from keras.models import Sequential\n",
        "from keras.layers import Dense\n",
        "from keras.wrappers.scikit_learn import KerasClassifier\n",
        "from keras.utils import np_utils\n",
        "from sklearn.model_selection import train_test_split\n",
        "import matplotlib.pyplot as plt\n",
        "import numpy as np\n",
        "import seaborn as sns\n",
        "\n",
        "# made a change in colab"
      ]
    },
    {
      "cell_type": "code",
      "source": [
        "from google.colab import drive \n",
        "drive.mount('/content/gdrive', force_remount=True)\n",
        "\n",
        "%cd gdrive/My Drive/G9A2/G9\n",
        " \n",
        "#%cd gdrive/My Drive/G9A2\n",
        "# I made a folder on my google drive that has the G9 Methylation data and the binfpy library\n",
        "#this code automatically loads it in\n",
        "# you can do the same with your google drive. "
      ],
      "metadata": {
        "colab": {
          "base_uri": "https://localhost:8080/",
          "height": 914
        },
        "id": "uFIumj0w2JpL",
        "outputId": "289e2872-2b18-44ab-9f73-4e755a41ca17"
      },
      "execution_count": 21,
      "outputs": [
        {
          "output_type": "stream",
          "name": "stderr",
          "text": [
            "ERROR:root:Internal Python error in the inspect module.\n",
            "Below is the traceback from this internal error.\n",
            "\n"
          ]
        },
        {
          "output_type": "stream",
          "name": "stdout",
          "text": [
            "Mounted at /content/gdrive\n",
            "Traceback (most recent call last):\n",
            "  File \"/usr/local/lib/python3.7/dist-packages/IPython/core/interactiveshell.py\", line 3326, in run_code\n",
            "    exec(code_obj, self.user_global_ns, self.user_ns)\n",
            "  File \"<ipython-input-21-a722c988ec34>\", line 4, in <module>\n",
            "    get_ipython().run_line_magic('cd', 'gdrive/My Drive/G9A2/G9')\n",
            "  File \"/usr/local/lib/python3.7/dist-packages/IPython/core/interactiveshell.py\", line 2314, in run_line_magic\n",
            "    result = fn(*args, **kwargs)\n",
            "  File \"<decorator-gen-85>\", line 2, in cd\n",
            "  File \"/usr/local/lib/python3.7/dist-packages/IPython/core/magic.py\", line 187, in <lambda>\n",
            "    call = lambda f, *a, **k: f(*a, **k)\n",
            "  File \"/usr/local/lib/python3.7/dist-packages/IPython/core/magics/osm.py\", line 334, in cd\n",
            "    oldcwd = os.getcwd()\n",
            "OSError: [Errno 107] Transport endpoint is not connected\n",
            "\n",
            "During handling of the above exception, another exception occurred:\n",
            "\n",
            "Traceback (most recent call last):\n",
            "  File \"/usr/local/lib/python3.7/dist-packages/IPython/core/interactiveshell.py\", line 2040, in showtraceback\n",
            "    stb = value._render_traceback_()\n",
            "AttributeError: 'OSError' object has no attribute '_render_traceback_'\n",
            "\n",
            "During handling of the above exception, another exception occurred:\n",
            "\n",
            "Traceback (most recent call last):\n",
            "  File \"/usr/local/lib/python3.7/dist-packages/IPython/core/ultratb.py\", line 1101, in get_records\n",
            "    return _fixed_getinnerframes(etb, number_of_lines_of_context, tb_offset)\n",
            "  File \"/usr/local/lib/python3.7/dist-packages/IPython/core/ultratb.py\", line 319, in wrapped\n",
            "    return f(*args, **kwargs)\n",
            "  File \"/usr/local/lib/python3.7/dist-packages/IPython/core/ultratb.py\", line 353, in _fixed_getinnerframes\n",
            "    records = fix_frame_records_filenames(inspect.getinnerframes(etb, context))\n",
            "  File \"/usr/lib/python3.7/inspect.py\", line 1502, in getinnerframes\n",
            "    frameinfo = (tb.tb_frame,) + getframeinfo(tb, context)\n",
            "  File \"/usr/lib/python3.7/inspect.py\", line 1460, in getframeinfo\n",
            "    filename = getsourcefile(frame) or getfile(frame)\n",
            "  File \"/usr/lib/python3.7/inspect.py\", line 696, in getsourcefile\n",
            "    if getattr(getmodule(object, filename), '__loader__', None) is not None:\n",
            "  File \"/usr/lib/python3.7/inspect.py\", line 725, in getmodule\n",
            "    file = getabsfile(object, _filename)\n",
            "  File \"/usr/lib/python3.7/inspect.py\", line 709, in getabsfile\n",
            "    return os.path.normcase(os.path.abspath(_filename))\n",
            "  File \"/usr/lib/python3.7/posixpath.py\", line 383, in abspath\n",
            "    cwd = os.getcwd()\n",
            "OSError: [Errno 107] Transport endpoint is not connected\n"
          ]
        },
        {
          "output_type": "error",
          "ename": "OSError",
          "evalue": "ignored",
          "traceback": [
            "\u001b[0;31m---------------------------------------------------------------------------\u001b[0m"
          ]
        }
      ]
    },
    {
      "cell_type": "markdown",
      "source": [
        "# Data Preparation\n"
      ],
      "metadata": {
        "id": "2E_eI04DJqW1"
      }
    },
    {
      "cell_type": "code",
      "source": [
        "!ls"
      ],
      "metadata": {
        "id": "PqpS2PFLKt3g",
        "outputId": "9dd437a3-257d-4e30-98c7-7fd0dc08e7cd",
        "colab": {
          "base_uri": "https://localhost:8080/"
        }
      },
      "execution_count": 3,
      "outputs": [
        {
          "output_type": "stream",
          "name": "stdout",
          "text": [
            "G9_liver_dna-meth.csv  G9_liver_gene-expr.csv\n"
          ]
        }
      ]
    },
    {
      "cell_type": "code",
      "source": [
        "# load the data \n",
        "liver_meth_dna = pd.read_csv('G9_liver_dna-meth.csv')\n",
        "liver_gene_expr = pd.read_csv('G9_liver_gene-expr.csv')\n"
      ],
      "metadata": {
        "id": "uISKKBYlJpLm"
      },
      "execution_count": null,
      "outputs": []
    },
    {
      "cell_type": "code",
      "source": [
        "# view the data: \n",
        "liver_meth_dna.head(n = 5)"
      ],
      "metadata": {
        "colab": {
          "base_uri": "https://localhost:8080/",
          "height": 182
        },
        "id": "jtnvWSfkTPbx",
        "outputId": "4e9c0290-d730-43b7-81d8-eb1d0e550dca"
      },
      "execution_count": 18,
      "outputs": [
        {
          "output_type": "error",
          "ename": "AttributeError",
          "evalue": "ignored",
          "traceback": [
            "\u001b[0;31m---------------------------------------------------------------------------\u001b[0m",
            "\u001b[0;31mAttributeError\u001b[0m                            Traceback (most recent call last)",
            "\u001b[0;32m<ipython-input-18-b7a97fb57d9c>\u001b[0m in \u001b[0;36m<module>\u001b[0;34m\u001b[0m\n\u001b[1;32m      1\u001b[0m \u001b[0;31m# view the data:\u001b[0m\u001b[0;34m\u001b[0m\u001b[0;34m\u001b[0m\u001b[0;34m\u001b[0m\u001b[0m\n\u001b[0;32m----> 2\u001b[0;31m \u001b[0mliver_meth_dna\u001b[0m\u001b[0;34m.\u001b[0m\u001b[0mhead\u001b[0m\u001b[0;34m(\u001b[0m\u001b[0mn\u001b[0m \u001b[0;34m=\u001b[0m \u001b[0;36m5\u001b[0m\u001b[0;34m)\u001b[0m\u001b[0;34m\u001b[0m\u001b[0;34m\u001b[0m\u001b[0m\n\u001b[0m",
            "\u001b[0;31mAttributeError\u001b[0m: 'NoneType' object has no attribute 'head'"
          ]
        }
      ]
    },
    {
      "cell_type": "code",
      "source": [
        "liver_gene_expr.head(n= 5)\n",
        "#the first column is sample\n",
        "#the second column is the Label \n",
        "# the third column onwards are Data (expression values for given gene)"
      ],
      "metadata": {
        "colab": {
          "base_uri": "https://localhost:8080/",
          "height": 386
        },
        "id": "AXsnTVLiTb4v",
        "outputId": "d7594a19-8085-48ca-9201-8834ea71d3ad"
      },
      "execution_count": 6,
      "outputs": [
        {
          "output_type": "execute_result",
          "data": {
            "text/plain": [
              "        Unnamed: 0          Label  X..100130426  X..100133144  X..100134869  \\\n",
              "0  TCGA.2V.A95S.01  Primary Tumor           0.0        1.5051        3.7074   \n",
              "1  TCGA.2Y.A9GS.01  Primary Tumor           0.0       26.4120        2.6663   \n",
              "2  TCGA.2Y.A9GT.01  Primary Tumor           0.0        0.0000        4.4833   \n",
              "3  TCGA.2Y.A9GU.01  Primary Tumor           0.0        5.7222        5.1216   \n",
              "4  TCGA.2Y.A9GV.01  Primary Tumor           0.0       11.4975        5.4230   \n",
              "\n",
              "   X..10357   X..10431  X..136542  X..155060  X..26823  ...  ZXDA.7789  \\\n",
              "0   90.1124  1017.1038        0.0   141.3911    0.6516  ...    24.7597   \n",
              "1   71.0054   639.2311        0.0   122.7206    1.4786  ...    68.5067   \n",
              "2   95.5122   742.4344        0.0    95.0460    1.7933  ...    46.6263   \n",
              "3   61.6679  1186.9807        0.0   280.2709    0.8341  ...    18.3511   \n",
              "4  104.4670   878.1726        0.0   282.5719    0.0000  ...    41.4552   \n",
              "\n",
              "   ZXDB.158586  ZXDC.79364  ZYG11A.440590  ZYG11B.79699   ZYX.7791  \\\n",
              "0     273.6602    794.2662        18.2440      499.1041  3172.5037   \n",
              "1     632.8241   1153.7703        71.4638     1000.4929  5301.1336   \n",
              "2    1219.4575   1133.3782        12.5532     1289.3970  3219.0092   \n",
              "3     285.2758   1150.2786         9.1755      941.7437  3092.9899   \n",
              "4     999.1540   1631.9797         4.2301     1380.7107  2902.7073   \n",
              "\n",
              "   ZZEF1.23140  ZZZ3.26009  psiTPTE22.387590  tAKR.389932  \n",
              "0     890.0472    510.1808            3.9094       6.5157  \n",
              "1     755.5446    860.5224            6.4071     482.9966  \n",
              "2     860.7935    523.6494           14.3466      83.3894  \n",
              "3    1339.6283    343.6655            2.5024       2.5024  \n",
              "4     575.2961    665.8206            2.5381     119.2893  \n",
              "\n",
              "[5 rows x 20533 columns]"
            ],
            "text/html": [
              "\n",
              "  <div id=\"df-6fceff79-5e01-4e7b-84af-6e516fdbb36e\">\n",
              "    <div class=\"colab-df-container\">\n",
              "      <div>\n",
              "<style scoped>\n",
              "    .dataframe tbody tr th:only-of-type {\n",
              "        vertical-align: middle;\n",
              "    }\n",
              "\n",
              "    .dataframe tbody tr th {\n",
              "        vertical-align: top;\n",
              "    }\n",
              "\n",
              "    .dataframe thead th {\n",
              "        text-align: right;\n",
              "    }\n",
              "</style>\n",
              "<table border=\"1\" class=\"dataframe\">\n",
              "  <thead>\n",
              "    <tr style=\"text-align: right;\">\n",
              "      <th></th>\n",
              "      <th>Unnamed: 0</th>\n",
              "      <th>Label</th>\n",
              "      <th>X..100130426</th>\n",
              "      <th>X..100133144</th>\n",
              "      <th>X..100134869</th>\n",
              "      <th>X..10357</th>\n",
              "      <th>X..10431</th>\n",
              "      <th>X..136542</th>\n",
              "      <th>X..155060</th>\n",
              "      <th>X..26823</th>\n",
              "      <th>...</th>\n",
              "      <th>ZXDA.7789</th>\n",
              "      <th>ZXDB.158586</th>\n",
              "      <th>ZXDC.79364</th>\n",
              "      <th>ZYG11A.440590</th>\n",
              "      <th>ZYG11B.79699</th>\n",
              "      <th>ZYX.7791</th>\n",
              "      <th>ZZEF1.23140</th>\n",
              "      <th>ZZZ3.26009</th>\n",
              "      <th>psiTPTE22.387590</th>\n",
              "      <th>tAKR.389932</th>\n",
              "    </tr>\n",
              "  </thead>\n",
              "  <tbody>\n",
              "    <tr>\n",
              "      <th>0</th>\n",
              "      <td>TCGA.2V.A95S.01</td>\n",
              "      <td>Primary Tumor</td>\n",
              "      <td>0.0</td>\n",
              "      <td>1.5051</td>\n",
              "      <td>3.7074</td>\n",
              "      <td>90.1124</td>\n",
              "      <td>1017.1038</td>\n",
              "      <td>0.0</td>\n",
              "      <td>141.3911</td>\n",
              "      <td>0.6516</td>\n",
              "      <td>...</td>\n",
              "      <td>24.7597</td>\n",
              "      <td>273.6602</td>\n",
              "      <td>794.2662</td>\n",
              "      <td>18.2440</td>\n",
              "      <td>499.1041</td>\n",
              "      <td>3172.5037</td>\n",
              "      <td>890.0472</td>\n",
              "      <td>510.1808</td>\n",
              "      <td>3.9094</td>\n",
              "      <td>6.5157</td>\n",
              "    </tr>\n",
              "    <tr>\n",
              "      <th>1</th>\n",
              "      <td>TCGA.2Y.A9GS.01</td>\n",
              "      <td>Primary Tumor</td>\n",
              "      <td>0.0</td>\n",
              "      <td>26.4120</td>\n",
              "      <td>2.6663</td>\n",
              "      <td>71.0054</td>\n",
              "      <td>639.2311</td>\n",
              "      <td>0.0</td>\n",
              "      <td>122.7206</td>\n",
              "      <td>1.4786</td>\n",
              "      <td>...</td>\n",
              "      <td>68.5067</td>\n",
              "      <td>632.8241</td>\n",
              "      <td>1153.7703</td>\n",
              "      <td>71.4638</td>\n",
              "      <td>1000.4929</td>\n",
              "      <td>5301.1336</td>\n",
              "      <td>755.5446</td>\n",
              "      <td>860.5224</td>\n",
              "      <td>6.4071</td>\n",
              "      <td>482.9966</td>\n",
              "    </tr>\n",
              "    <tr>\n",
              "      <th>2</th>\n",
              "      <td>TCGA.2Y.A9GT.01</td>\n",
              "      <td>Primary Tumor</td>\n",
              "      <td>0.0</td>\n",
              "      <td>0.0000</td>\n",
              "      <td>4.4833</td>\n",
              "      <td>95.5122</td>\n",
              "      <td>742.4344</td>\n",
              "      <td>0.0</td>\n",
              "      <td>95.0460</td>\n",
              "      <td>1.7933</td>\n",
              "      <td>...</td>\n",
              "      <td>46.6263</td>\n",
              "      <td>1219.4575</td>\n",
              "      <td>1133.3782</td>\n",
              "      <td>12.5532</td>\n",
              "      <td>1289.3970</td>\n",
              "      <td>3219.0092</td>\n",
              "      <td>860.7935</td>\n",
              "      <td>523.6494</td>\n",
              "      <td>14.3466</td>\n",
              "      <td>83.3894</td>\n",
              "    </tr>\n",
              "    <tr>\n",
              "      <th>3</th>\n",
              "      <td>TCGA.2Y.A9GU.01</td>\n",
              "      <td>Primary Tumor</td>\n",
              "      <td>0.0</td>\n",
              "      <td>5.7222</td>\n",
              "      <td>5.1216</td>\n",
              "      <td>61.6679</td>\n",
              "      <td>1186.9807</td>\n",
              "      <td>0.0</td>\n",
              "      <td>280.2709</td>\n",
              "      <td>0.8341</td>\n",
              "      <td>...</td>\n",
              "      <td>18.3511</td>\n",
              "      <td>285.2758</td>\n",
              "      <td>1150.2786</td>\n",
              "      <td>9.1755</td>\n",
              "      <td>941.7437</td>\n",
              "      <td>3092.9899</td>\n",
              "      <td>1339.6283</td>\n",
              "      <td>343.6655</td>\n",
              "      <td>2.5024</td>\n",
              "      <td>2.5024</td>\n",
              "    </tr>\n",
              "    <tr>\n",
              "      <th>4</th>\n",
              "      <td>TCGA.2Y.A9GV.01</td>\n",
              "      <td>Primary Tumor</td>\n",
              "      <td>0.0</td>\n",
              "      <td>11.4975</td>\n",
              "      <td>5.4230</td>\n",
              "      <td>104.4670</td>\n",
              "      <td>878.1726</td>\n",
              "      <td>0.0</td>\n",
              "      <td>282.5719</td>\n",
              "      <td>0.0000</td>\n",
              "      <td>...</td>\n",
              "      <td>41.4552</td>\n",
              "      <td>999.1540</td>\n",
              "      <td>1631.9797</td>\n",
              "      <td>4.2301</td>\n",
              "      <td>1380.7107</td>\n",
              "      <td>2902.7073</td>\n",
              "      <td>575.2961</td>\n",
              "      <td>665.8206</td>\n",
              "      <td>2.5381</td>\n",
              "      <td>119.2893</td>\n",
              "    </tr>\n",
              "  </tbody>\n",
              "</table>\n",
              "<p>5 rows × 20533 columns</p>\n",
              "</div>\n",
              "      <button class=\"colab-df-convert\" onclick=\"convertToInteractive('df-6fceff79-5e01-4e7b-84af-6e516fdbb36e')\"\n",
              "              title=\"Convert this dataframe to an interactive table.\"\n",
              "              style=\"display:none;\">\n",
              "        \n",
              "  <svg xmlns=\"http://www.w3.org/2000/svg\" height=\"24px\"viewBox=\"0 0 24 24\"\n",
              "       width=\"24px\">\n",
              "    <path d=\"M0 0h24v24H0V0z\" fill=\"none\"/>\n",
              "    <path d=\"M18.56 5.44l.94 2.06.94-2.06 2.06-.94-2.06-.94-.94-2.06-.94 2.06-2.06.94zm-11 1L8.5 8.5l.94-2.06 2.06-.94-2.06-.94L8.5 2.5l-.94 2.06-2.06.94zm10 10l.94 2.06.94-2.06 2.06-.94-2.06-.94-.94-2.06-.94 2.06-2.06.94z\"/><path d=\"M17.41 7.96l-1.37-1.37c-.4-.4-.92-.59-1.43-.59-.52 0-1.04.2-1.43.59L10.3 9.45l-7.72 7.72c-.78.78-.78 2.05 0 2.83L4 21.41c.39.39.9.59 1.41.59.51 0 1.02-.2 1.41-.59l7.78-7.78 2.81-2.81c.8-.78.8-2.07 0-2.86zM5.41 20L4 18.59l7.72-7.72 1.47 1.35L5.41 20z\"/>\n",
              "  </svg>\n",
              "      </button>\n",
              "      \n",
              "  <style>\n",
              "    .colab-df-container {\n",
              "      display:flex;\n",
              "      flex-wrap:wrap;\n",
              "      gap: 12px;\n",
              "    }\n",
              "\n",
              "    .colab-df-convert {\n",
              "      background-color: #E8F0FE;\n",
              "      border: none;\n",
              "      border-radius: 50%;\n",
              "      cursor: pointer;\n",
              "      display: none;\n",
              "      fill: #1967D2;\n",
              "      height: 32px;\n",
              "      padding: 0 0 0 0;\n",
              "      width: 32px;\n",
              "    }\n",
              "\n",
              "    .colab-df-convert:hover {\n",
              "      background-color: #E2EBFA;\n",
              "      box-shadow: 0px 1px 2px rgba(60, 64, 67, 0.3), 0px 1px 3px 1px rgba(60, 64, 67, 0.15);\n",
              "      fill: #174EA6;\n",
              "    }\n",
              "\n",
              "    [theme=dark] .colab-df-convert {\n",
              "      background-color: #3B4455;\n",
              "      fill: #D2E3FC;\n",
              "    }\n",
              "\n",
              "    [theme=dark] .colab-df-convert:hover {\n",
              "      background-color: #434B5C;\n",
              "      box-shadow: 0px 1px 3px 1px rgba(0, 0, 0, 0.15);\n",
              "      filter: drop-shadow(0px 1px 2px rgba(0, 0, 0, 0.3));\n",
              "      fill: #FFFFFF;\n",
              "    }\n",
              "  </style>\n",
              "\n",
              "      <script>\n",
              "        const buttonEl =\n",
              "          document.querySelector('#df-6fceff79-5e01-4e7b-84af-6e516fdbb36e button.colab-df-convert');\n",
              "        buttonEl.style.display =\n",
              "          google.colab.kernel.accessAllowed ? 'block' : 'none';\n",
              "\n",
              "        async function convertToInteractive(key) {\n",
              "          const element = document.querySelector('#df-6fceff79-5e01-4e7b-84af-6e516fdbb36e');\n",
              "          const dataTable =\n",
              "            await google.colab.kernel.invokeFunction('convertToInteractive',\n",
              "                                                     [key], {});\n",
              "          if (!dataTable) return;\n",
              "\n",
              "          const docLinkHtml = 'Like what you see? Visit the ' +\n",
              "            '<a target=\"_blank\" href=https://colab.research.google.com/notebooks/data_table.ipynb>data table notebook</a>'\n",
              "            + ' to learn more about interactive tables.';\n",
              "          element.innerHTML = '';\n",
              "          dataTable['output_type'] = 'display_data';\n",
              "          await google.colab.output.renderOutput(dataTable, element);\n",
              "          const docLink = document.createElement('div');\n",
              "          docLink.innerHTML = docLinkHtml;\n",
              "          element.appendChild(docLink);\n",
              "        }\n",
              "      </script>\n",
              "    </div>\n",
              "  </div>\n",
              "  "
            ]
          },
          "metadata": {},
          "execution_count": 6
        }
      ]
    },
    {
      "cell_type": "code",
      "source": [
        "# convert labels to 1 or 0 \n",
        "bool_tum_expr = [1 if value == 'Primary Tumor' else 0 for value in liver_gene_expr['Label'].values]\n",
        "bool_tum_meth = [1 if value == 'Primary Tumor' else 0 for value in liver_meth_dna['Label'].values]\n",
        "\n",
        "# DO NOT add the numeric label values to the dataframes yet \n",
        "# liver_gene_expr['BinaryLabel'] = bool_tum_expr\n",
        "# liver_meth_dna['BinaryLabel'] = bool_tum_meth\n",
        "# confirm that the changes were added\n",
        "# liver_gene_expr.head(n= 2)\n",
        "# liver_meth_dna.head(n = 2)\n",
        "\n",
        "# I'm not sure if we need to convert the gene expression/methylation to numeric"
      ],
      "metadata": {
        "id": "BIKmvJbcUwuc"
      },
      "execution_count": 7,
      "outputs": []
    },
    {
      "cell_type": "code",
      "source": [],
      "metadata": {
        "id": "pTkHKVW2XR4B"
      },
      "execution_count": null,
      "outputs": []
    },
    {
      "cell_type": "markdown",
      "source": [
        "will be creating two models: one for gene expression and one for methylation\n",
        "so will not merge the two datasets \n",
        "we can use the same model architecture and train it on different data\n",
        "\n",
        "standardizing and log transforming data relatively standard for gene expression data\n",
        "and probably for methylation data as well \n",
        "will do this prior to training the two PCA models\n",
        "\n",
        "After PCA has reduced dimsensionality, we can convert the output values to between 0 and 1 for a neural network or SVM if necessary. "
      ],
      "metadata": {
        "id": "G4MXwYRoVtuy"
      }
    },
    {
      "cell_type": "code",
      "source": [
        "# standardizing and log transform data prior to PCA\n",
        "# for each numeric value column in the dataframem, normalize \n",
        "# and log tranform the values\n",
        "\n",
        "col_names_exp = liver_gene_expr.columns\n",
        "col_names_meth = liver_meth_dna.columns\n",
        "\n",
        "#replace Inf and Nan with 0 \n",
        "liver_gene_expr = liver_gene_expr.replace([np.inf, -np.inf], 0, inplace=True)\n",
        "liver_meth_dna = liver_meth_dna.replace([np.inf,-np.inf], 0, inplace=True)\n",
        "liver_gene_expr = liver_gene_expr.fillna(0)\n",
        "liver_meth_dna = liver_meth_dna.fillna(0)\n",
        "#liver_gene_expr.replace(np.nan, 0)\n",
        "#liver_meth_dna.replace(np.nan, 0)\n",
        "\n",
        "#Normalize and log tranform data for both sets\n",
        "for col_name in col_names_exp[2:]:\n",
        "  col_data = pd.to_numeric(np.log2(liver_gene_expr[col_name].values + 1))\n",
        "  col_mean = np.mean(col_data)\n",
        "  col_std = np.std(col_data)\n",
        "  new_data = (col_data - col_mean)/(col_std)\n",
        "  liver_gene_expr[col_name] = new_data\n",
        "for col_name in col_names_meth[2:]:\n",
        "  col_data = pd.to_numeric(np.log2(liver_meth_dna[col_name].values + 1))\n",
        "  col_mean = np.mean(col_data)\n",
        "  col_std = np.std(col_data)\n",
        "  new_data = (col_data - col_mean)/(col_std)\n",
        "  liver_meth_dna[col_name] = new_data\n",
        "\n",
        "\n",
        "liver_gene_expr.head(n= 2)\n"
      ],
      "metadata": {
        "colab": {
          "base_uri": "https://localhost:8080/",
          "height": 235
        },
        "id": "IGdTQRRFYqDv",
        "outputId": "2c9d7311-179a-4974-c57b-755fc695c5ab"
      },
      "execution_count": 17,
      "outputs": [
        {
          "output_type": "error",
          "ename": "AttributeError",
          "evalue": "ignored",
          "traceback": [
            "\u001b[0;31m---------------------------------------------------------------------------\u001b[0m",
            "\u001b[0;31mAttributeError\u001b[0m                            Traceback (most recent call last)",
            "\u001b[0;32m<ipython-input-17-38903c404b4b>\u001b[0m in \u001b[0;36m<module>\u001b[0;34m\u001b[0m\n\u001b[1;32m      9\u001b[0m \u001b[0mliver_gene_expr\u001b[0m \u001b[0;34m=\u001b[0m \u001b[0mliver_gene_expr\u001b[0m\u001b[0;34m.\u001b[0m\u001b[0mreplace\u001b[0m\u001b[0;34m(\u001b[0m\u001b[0;34m[\u001b[0m\u001b[0mnp\u001b[0m\u001b[0;34m.\u001b[0m\u001b[0minf\u001b[0m\u001b[0;34m,\u001b[0m \u001b[0;34m-\u001b[0m\u001b[0mnp\u001b[0m\u001b[0;34m.\u001b[0m\u001b[0minf\u001b[0m\u001b[0;34m]\u001b[0m\u001b[0;34m,\u001b[0m \u001b[0;36m0\u001b[0m\u001b[0;34m,\u001b[0m \u001b[0minplace\u001b[0m\u001b[0;34m=\u001b[0m\u001b[0;32mTrue\u001b[0m\u001b[0;34m)\u001b[0m\u001b[0;34m\u001b[0m\u001b[0;34m\u001b[0m\u001b[0m\n\u001b[1;32m     10\u001b[0m \u001b[0mliver_meth_dna\u001b[0m \u001b[0;34m=\u001b[0m \u001b[0mliver_meth_dna\u001b[0m\u001b[0;34m.\u001b[0m\u001b[0mreplace\u001b[0m\u001b[0;34m(\u001b[0m\u001b[0;34m[\u001b[0m\u001b[0mnp\u001b[0m\u001b[0;34m.\u001b[0m\u001b[0minf\u001b[0m\u001b[0;34m,\u001b[0m\u001b[0;34m-\u001b[0m\u001b[0mnp\u001b[0m\u001b[0;34m.\u001b[0m\u001b[0minf\u001b[0m\u001b[0;34m]\u001b[0m\u001b[0;34m,\u001b[0m \u001b[0;36m0\u001b[0m\u001b[0;34m,\u001b[0m \u001b[0minplace\u001b[0m\u001b[0;34m=\u001b[0m\u001b[0;32mTrue\u001b[0m\u001b[0;34m)\u001b[0m\u001b[0;34m\u001b[0m\u001b[0;34m\u001b[0m\u001b[0m\n\u001b[0;32m---> 11\u001b[0;31m \u001b[0mliver_gene_expr\u001b[0m \u001b[0;34m=\u001b[0m \u001b[0mliver_gene_expr\u001b[0m\u001b[0;34m.\u001b[0m\u001b[0mfillna\u001b[0m\u001b[0;34m(\u001b[0m\u001b[0;36m0\u001b[0m\u001b[0;34m)\u001b[0m\u001b[0;34m\u001b[0m\u001b[0;34m\u001b[0m\u001b[0m\n\u001b[0m\u001b[1;32m     12\u001b[0m \u001b[0mliver_meth_dna\u001b[0m \u001b[0;34m=\u001b[0m \u001b[0mliver_meth_dna\u001b[0m\u001b[0;34m.\u001b[0m\u001b[0mfillna\u001b[0m\u001b[0;34m(\u001b[0m\u001b[0;36m0\u001b[0m\u001b[0;34m)\u001b[0m\u001b[0;34m\u001b[0m\u001b[0;34m\u001b[0m\u001b[0m\n\u001b[1;32m     13\u001b[0m \u001b[0;31m#liver_gene_expr.replace(np.nan, 0)\u001b[0m\u001b[0;34m\u001b[0m\u001b[0;34m\u001b[0m\u001b[0;34m\u001b[0m\u001b[0m\n",
            "\u001b[0;31mAttributeError\u001b[0m: 'NoneType' object has no attribute 'fillna'"
          ]
        }
      ]
    },
    {
      "cell_type": "code",
      "source": [
        "liver_meth_dna.head(n = 2)"
      ],
      "metadata": {
        "colab": {
          "base_uri": "https://localhost:8080/",
          "height": 240
        },
        "id": "1AkLYX1Vegwz",
        "outputId": "f8e4b850-1b66-48a5-8b96-19b5855c1416"
      },
      "execution_count": null,
      "outputs": [
        {
          "output_type": "execute_result",
          "data": {
            "text/plain": [
              "        Unnamed: 0          Label  cg00005740  cg00012529  cg00013196  \\\n",
              "0  TCGA.2V.A95S.01  Primary Tumor    0.159098   -0.828721   -0.806389   \n",
              "1  TCGA.2Y.A9GS.01  Primary Tumor   -0.492425   -0.747703   -0.455432   \n",
              "\n",
              "   cg00019366  cg00028598  cg00030627  cg00033551  cg00047815  ...  rs7660805  \\\n",
              "0   -0.963546   -0.616201   -0.873066    0.746242   -0.022433  ...   0.999584   \n",
              "1   -0.497061   -0.745271   -0.438967    0.717706   -0.765602  ...  -0.677251   \n",
              "\n",
              "   rs7746156  rs798149  rs845016  rs877309  rs9292570  rs9363764  rs939290  \\\n",
              "0   1.037542  0.954068 -0.123544  0.486531   0.104930  -0.190898  0.116703   \n",
              "1  -0.219410  0.958162  1.384457  0.507109  -1.490046  -0.095182  1.049926   \n",
              "\n",
              "   rs951295  rs966367  \n",
              "0  0.252946 -1.258986  \n",
              "1 -1.350460  0.273113  \n",
              "\n",
              "[2 rows x 5002 columns]"
            ],
            "text/html": [
              "\n",
              "  <div id=\"df-79b853bf-867c-4edf-944a-6855b2fedfcf\">\n",
              "    <div class=\"colab-df-container\">\n",
              "      <div>\n",
              "<style scoped>\n",
              "    .dataframe tbody tr th:only-of-type {\n",
              "        vertical-align: middle;\n",
              "    }\n",
              "\n",
              "    .dataframe tbody tr th {\n",
              "        vertical-align: top;\n",
              "    }\n",
              "\n",
              "    .dataframe thead th {\n",
              "        text-align: right;\n",
              "    }\n",
              "</style>\n",
              "<table border=\"1\" class=\"dataframe\">\n",
              "  <thead>\n",
              "    <tr style=\"text-align: right;\">\n",
              "      <th></th>\n",
              "      <th>Unnamed: 0</th>\n",
              "      <th>Label</th>\n",
              "      <th>cg00005740</th>\n",
              "      <th>cg00012529</th>\n",
              "      <th>cg00013196</th>\n",
              "      <th>cg00019366</th>\n",
              "      <th>cg00028598</th>\n",
              "      <th>cg00030627</th>\n",
              "      <th>cg00033551</th>\n",
              "      <th>cg00047815</th>\n",
              "      <th>...</th>\n",
              "      <th>rs7660805</th>\n",
              "      <th>rs7746156</th>\n",
              "      <th>rs798149</th>\n",
              "      <th>rs845016</th>\n",
              "      <th>rs877309</th>\n",
              "      <th>rs9292570</th>\n",
              "      <th>rs9363764</th>\n",
              "      <th>rs939290</th>\n",
              "      <th>rs951295</th>\n",
              "      <th>rs966367</th>\n",
              "    </tr>\n",
              "  </thead>\n",
              "  <tbody>\n",
              "    <tr>\n",
              "      <th>0</th>\n",
              "      <td>TCGA.2V.A95S.01</td>\n",
              "      <td>Primary Tumor</td>\n",
              "      <td>0.159098</td>\n",
              "      <td>-0.828721</td>\n",
              "      <td>-0.806389</td>\n",
              "      <td>-0.963546</td>\n",
              "      <td>-0.616201</td>\n",
              "      <td>-0.873066</td>\n",
              "      <td>0.746242</td>\n",
              "      <td>-0.022433</td>\n",
              "      <td>...</td>\n",
              "      <td>0.999584</td>\n",
              "      <td>1.037542</td>\n",
              "      <td>0.954068</td>\n",
              "      <td>-0.123544</td>\n",
              "      <td>0.486531</td>\n",
              "      <td>0.104930</td>\n",
              "      <td>-0.190898</td>\n",
              "      <td>0.116703</td>\n",
              "      <td>0.252946</td>\n",
              "      <td>-1.258986</td>\n",
              "    </tr>\n",
              "    <tr>\n",
              "      <th>1</th>\n",
              "      <td>TCGA.2Y.A9GS.01</td>\n",
              "      <td>Primary Tumor</td>\n",
              "      <td>-0.492425</td>\n",
              "      <td>-0.747703</td>\n",
              "      <td>-0.455432</td>\n",
              "      <td>-0.497061</td>\n",
              "      <td>-0.745271</td>\n",
              "      <td>-0.438967</td>\n",
              "      <td>0.717706</td>\n",
              "      <td>-0.765602</td>\n",
              "      <td>...</td>\n",
              "      <td>-0.677251</td>\n",
              "      <td>-0.219410</td>\n",
              "      <td>0.958162</td>\n",
              "      <td>1.384457</td>\n",
              "      <td>0.507109</td>\n",
              "      <td>-1.490046</td>\n",
              "      <td>-0.095182</td>\n",
              "      <td>1.049926</td>\n",
              "      <td>-1.350460</td>\n",
              "      <td>0.273113</td>\n",
              "    </tr>\n",
              "  </tbody>\n",
              "</table>\n",
              "<p>2 rows × 5002 columns</p>\n",
              "</div>\n",
              "      <button class=\"colab-df-convert\" onclick=\"convertToInteractive('df-79b853bf-867c-4edf-944a-6855b2fedfcf')\"\n",
              "              title=\"Convert this dataframe to an interactive table.\"\n",
              "              style=\"display:none;\">\n",
              "        \n",
              "  <svg xmlns=\"http://www.w3.org/2000/svg\" height=\"24px\"viewBox=\"0 0 24 24\"\n",
              "       width=\"24px\">\n",
              "    <path d=\"M0 0h24v24H0V0z\" fill=\"none\"/>\n",
              "    <path d=\"M18.56 5.44l.94 2.06.94-2.06 2.06-.94-2.06-.94-.94-2.06-.94 2.06-2.06.94zm-11 1L8.5 8.5l.94-2.06 2.06-.94-2.06-.94L8.5 2.5l-.94 2.06-2.06.94zm10 10l.94 2.06.94-2.06 2.06-.94-2.06-.94-.94-2.06-.94 2.06-2.06.94z\"/><path d=\"M17.41 7.96l-1.37-1.37c-.4-.4-.92-.59-1.43-.59-.52 0-1.04.2-1.43.59L10.3 9.45l-7.72 7.72c-.78.78-.78 2.05 0 2.83L4 21.41c.39.39.9.59 1.41.59.51 0 1.02-.2 1.41-.59l7.78-7.78 2.81-2.81c.8-.78.8-2.07 0-2.86zM5.41 20L4 18.59l7.72-7.72 1.47 1.35L5.41 20z\"/>\n",
              "  </svg>\n",
              "      </button>\n",
              "      \n",
              "  <style>\n",
              "    .colab-df-container {\n",
              "      display:flex;\n",
              "      flex-wrap:wrap;\n",
              "      gap: 12px;\n",
              "    }\n",
              "\n",
              "    .colab-df-convert {\n",
              "      background-color: #E8F0FE;\n",
              "      border: none;\n",
              "      border-radius: 50%;\n",
              "      cursor: pointer;\n",
              "      display: none;\n",
              "      fill: #1967D2;\n",
              "      height: 32px;\n",
              "      padding: 0 0 0 0;\n",
              "      width: 32px;\n",
              "    }\n",
              "\n",
              "    .colab-df-convert:hover {\n",
              "      background-color: #E2EBFA;\n",
              "      box-shadow: 0px 1px 2px rgba(60, 64, 67, 0.3), 0px 1px 3px 1px rgba(60, 64, 67, 0.15);\n",
              "      fill: #174EA6;\n",
              "    }\n",
              "\n",
              "    [theme=dark] .colab-df-convert {\n",
              "      background-color: #3B4455;\n",
              "      fill: #D2E3FC;\n",
              "    }\n",
              "\n",
              "    [theme=dark] .colab-df-convert:hover {\n",
              "      background-color: #434B5C;\n",
              "      box-shadow: 0px 1px 3px 1px rgba(0, 0, 0, 0.15);\n",
              "      filter: drop-shadow(0px 1px 2px rgba(0, 0, 0, 0.3));\n",
              "      fill: #FFFFFF;\n",
              "    }\n",
              "  </style>\n",
              "\n",
              "      <script>\n",
              "        const buttonEl =\n",
              "          document.querySelector('#df-79b853bf-867c-4edf-944a-6855b2fedfcf button.colab-df-convert');\n",
              "        buttonEl.style.display =\n",
              "          google.colab.kernel.accessAllowed ? 'block' : 'none';\n",
              "\n",
              "        async function convertToInteractive(key) {\n",
              "          const element = document.querySelector('#df-79b853bf-867c-4edf-944a-6855b2fedfcf');\n",
              "          const dataTable =\n",
              "            await google.colab.kernel.invokeFunction('convertToInteractive',\n",
              "                                                     [key], {});\n",
              "          if (!dataTable) return;\n",
              "\n",
              "          const docLinkHtml = 'Like what you see? Visit the ' +\n",
              "            '<a target=\"_blank\" href=https://colab.research.google.com/notebooks/data_table.ipynb>data table notebook</a>'\n",
              "            + ' to learn more about interactive tables.';\n",
              "          element.innerHTML = '';\n",
              "          dataTable['output_type'] = 'display_data';\n",
              "          await google.colab.output.renderOutput(dataTable, element);\n",
              "          const docLink = document.createElement('div');\n",
              "          docLink.innerHTML = docLinkHtml;\n",
              "          element.appendChild(docLink);\n",
              "        }\n",
              "      </script>\n",
              "    </div>\n",
              "  </div>\n",
              "  "
            ]
          },
          "metadata": {},
          "execution_count": 67
        }
      ]
    },
    {
      "cell_type": "markdown",
      "source": [
        "# PCA"
      ],
      "metadata": {
        "id": "nYKlgHCAaOwK"
      }
    },
    {
      "cell_type": "markdown",
      "source": [
        "PCA is likely required as there are 20033 parameters for the gene expression data and 5003 parameters for the methylation data. PCA is used for dimensionality reduction. "
      ],
      "metadata": {
        "id": "8LmvKAQ2aRcN"
      }
    },
    {
      "cell_type": "code",
      "source": [
        "# Using PCA\n",
        "# turn into PCA\n",
        "from sklearn.decomposition import PCA\n",
        "print(liver_gene_expr[col_names_exp[2:]].isnull().values.any())\n",
        "\n",
        "exp_data = liver_gene_expr[col_names_exp[2:]].values\n",
        "\n",
        "#print(liver_gene_expr.apply(pd.isna).all())\n",
        "\n",
        "#try 10 components or more\n",
        "exp_pca = PCA(n_components=10)\n",
        "exp_pc_data = exp_pca.fit_transform(exp_data)\n",
        "\n",
        "#exp_pc_data.head()\n"
      ],
      "metadata": {
        "colab": {
          "base_uri": "https://localhost:8080/",
          "height": 415
        },
        "id": "3fdoX_a7kXm8",
        "outputId": "59ffa030-e1e7-4934-8a5c-f534bacc6d00"
      },
      "execution_count": 16,
      "outputs": [
        {
          "output_type": "stream",
          "name": "stdout",
          "text": [
            "True\n"
          ]
        },
        {
          "output_type": "error",
          "ename": "ValueError",
          "evalue": "ignored",
          "traceback": [
            "\u001b[0;31m---------------------------------------------------------------------------\u001b[0m",
            "\u001b[0;31mValueError\u001b[0m                                Traceback (most recent call last)",
            "\u001b[0;32m<ipython-input-16-3b299b08b3ad>\u001b[0m in \u001b[0;36m<module>\u001b[0;34m\u001b[0m\n\u001b[1;32m     10\u001b[0m \u001b[0;31m#try 10 components or more\u001b[0m\u001b[0;34m\u001b[0m\u001b[0;34m\u001b[0m\u001b[0;34m\u001b[0m\u001b[0m\n\u001b[1;32m     11\u001b[0m \u001b[0mexp_pca\u001b[0m \u001b[0;34m=\u001b[0m \u001b[0mPCA\u001b[0m\u001b[0;34m(\u001b[0m\u001b[0mn_components\u001b[0m\u001b[0;34m=\u001b[0m\u001b[0;36m10\u001b[0m\u001b[0;34m)\u001b[0m\u001b[0;34m\u001b[0m\u001b[0;34m\u001b[0m\u001b[0m\n\u001b[0;32m---> 12\u001b[0;31m \u001b[0mexp_pc_data\u001b[0m \u001b[0;34m=\u001b[0m \u001b[0mexp_pca\u001b[0m\u001b[0;34m.\u001b[0m\u001b[0mfit_transform\u001b[0m\u001b[0;34m(\u001b[0m\u001b[0mexp_data\u001b[0m\u001b[0;34m)\u001b[0m\u001b[0;34m\u001b[0m\u001b[0;34m\u001b[0m\u001b[0m\n\u001b[0m\u001b[1;32m     13\u001b[0m \u001b[0;34m\u001b[0m\u001b[0m\n\u001b[1;32m     14\u001b[0m \u001b[0;31m#exp_pc_data.head()\u001b[0m\u001b[0;34m\u001b[0m\u001b[0;34m\u001b[0m\u001b[0;34m\u001b[0m\u001b[0m\n",
            "\u001b[0;32m/usr/local/lib/python3.7/dist-packages/sklearn/decomposition/_pca.py\u001b[0m in \u001b[0;36mfit_transform\u001b[0;34m(self, X, y)\u001b[0m\n\u001b[1;32m    405\u001b[0m         \u001b[0mC\u001b[0m\u001b[0;34m-\u001b[0m\u001b[0mordered\u001b[0m \u001b[0marray\u001b[0m\u001b[0;34m,\u001b[0m \u001b[0muse\u001b[0m \u001b[0;34m'np.ascontiguousarray'\u001b[0m\u001b[0;34m.\u001b[0m\u001b[0;34m\u001b[0m\u001b[0;34m\u001b[0m\u001b[0m\n\u001b[1;32m    406\u001b[0m         \"\"\"\n\u001b[0;32m--> 407\u001b[0;31m         \u001b[0mU\u001b[0m\u001b[0;34m,\u001b[0m \u001b[0mS\u001b[0m\u001b[0;34m,\u001b[0m \u001b[0mVt\u001b[0m \u001b[0;34m=\u001b[0m \u001b[0mself\u001b[0m\u001b[0;34m.\u001b[0m\u001b[0m_fit\u001b[0m\u001b[0;34m(\u001b[0m\u001b[0mX\u001b[0m\u001b[0;34m)\u001b[0m\u001b[0;34m\u001b[0m\u001b[0;34m\u001b[0m\u001b[0m\n\u001b[0m\u001b[1;32m    408\u001b[0m         \u001b[0mU\u001b[0m \u001b[0;34m=\u001b[0m \u001b[0mU\u001b[0m\u001b[0;34m[\u001b[0m\u001b[0;34m:\u001b[0m\u001b[0;34m,\u001b[0m \u001b[0;34m:\u001b[0m \u001b[0mself\u001b[0m\u001b[0;34m.\u001b[0m\u001b[0mn_components_\u001b[0m\u001b[0;34m]\u001b[0m\u001b[0;34m\u001b[0m\u001b[0;34m\u001b[0m\u001b[0m\n\u001b[1;32m    409\u001b[0m \u001b[0;34m\u001b[0m\u001b[0m\n",
            "\u001b[0;32m/usr/local/lib/python3.7/dist-packages/sklearn/decomposition/_pca.py\u001b[0m in \u001b[0;36m_fit\u001b[0;34m(self, X)\u001b[0m\n\u001b[1;32m    429\u001b[0m \u001b[0;34m\u001b[0m\u001b[0m\n\u001b[1;32m    430\u001b[0m         X = self._validate_data(\n\u001b[0;32m--> 431\u001b[0;31m             \u001b[0mX\u001b[0m\u001b[0;34m,\u001b[0m \u001b[0mdtype\u001b[0m\u001b[0;34m=\u001b[0m\u001b[0;34m[\u001b[0m\u001b[0mnp\u001b[0m\u001b[0;34m.\u001b[0m\u001b[0mfloat64\u001b[0m\u001b[0;34m,\u001b[0m \u001b[0mnp\u001b[0m\u001b[0;34m.\u001b[0m\u001b[0mfloat32\u001b[0m\u001b[0;34m]\u001b[0m\u001b[0;34m,\u001b[0m \u001b[0mensure_2d\u001b[0m\u001b[0;34m=\u001b[0m\u001b[0;32mTrue\u001b[0m\u001b[0;34m,\u001b[0m \u001b[0mcopy\u001b[0m\u001b[0;34m=\u001b[0m\u001b[0mself\u001b[0m\u001b[0;34m.\u001b[0m\u001b[0mcopy\u001b[0m\u001b[0;34m\u001b[0m\u001b[0;34m\u001b[0m\u001b[0m\n\u001b[0m\u001b[1;32m    432\u001b[0m         )\n\u001b[1;32m    433\u001b[0m \u001b[0;34m\u001b[0m\u001b[0m\n",
            "\u001b[0;32m/usr/local/lib/python3.7/dist-packages/sklearn/base.py\u001b[0m in \u001b[0;36m_validate_data\u001b[0;34m(self, X, y, reset, validate_separately, **check_params)\u001b[0m\n\u001b[1;32m    564\u001b[0m             \u001b[0;32mraise\u001b[0m \u001b[0mValueError\u001b[0m\u001b[0;34m(\u001b[0m\u001b[0;34m\"Validation should be done on X, y or both.\"\u001b[0m\u001b[0;34m)\u001b[0m\u001b[0;34m\u001b[0m\u001b[0;34m\u001b[0m\u001b[0m\n\u001b[1;32m    565\u001b[0m         \u001b[0;32melif\u001b[0m \u001b[0;32mnot\u001b[0m \u001b[0mno_val_X\u001b[0m \u001b[0;32mand\u001b[0m \u001b[0mno_val_y\u001b[0m\u001b[0;34m:\u001b[0m\u001b[0;34m\u001b[0m\u001b[0;34m\u001b[0m\u001b[0m\n\u001b[0;32m--> 566\u001b[0;31m             \u001b[0mX\u001b[0m \u001b[0;34m=\u001b[0m \u001b[0mcheck_array\u001b[0m\u001b[0;34m(\u001b[0m\u001b[0mX\u001b[0m\u001b[0;34m,\u001b[0m \u001b[0;34m**\u001b[0m\u001b[0mcheck_params\u001b[0m\u001b[0;34m)\u001b[0m\u001b[0;34m\u001b[0m\u001b[0;34m\u001b[0m\u001b[0m\n\u001b[0m\u001b[1;32m    567\u001b[0m             \u001b[0mout\u001b[0m \u001b[0;34m=\u001b[0m \u001b[0mX\u001b[0m\u001b[0;34m\u001b[0m\u001b[0;34m\u001b[0m\u001b[0m\n\u001b[1;32m    568\u001b[0m         \u001b[0;32melif\u001b[0m \u001b[0mno_val_X\u001b[0m \u001b[0;32mand\u001b[0m \u001b[0;32mnot\u001b[0m \u001b[0mno_val_y\u001b[0m\u001b[0;34m:\u001b[0m\u001b[0;34m\u001b[0m\u001b[0;34m\u001b[0m\u001b[0m\n",
            "\u001b[0;32m/usr/local/lib/python3.7/dist-packages/sklearn/utils/validation.py\u001b[0m in \u001b[0;36mcheck_array\u001b[0;34m(array, accept_sparse, accept_large_sparse, dtype, order, copy, force_all_finite, ensure_2d, allow_nd, ensure_min_samples, ensure_min_features, estimator)\u001b[0m\n\u001b[1;32m    798\u001b[0m \u001b[0;34m\u001b[0m\u001b[0m\n\u001b[1;32m    799\u001b[0m         \u001b[0;32mif\u001b[0m \u001b[0mforce_all_finite\u001b[0m\u001b[0;34m:\u001b[0m\u001b[0;34m\u001b[0m\u001b[0;34m\u001b[0m\u001b[0m\n\u001b[0;32m--> 800\u001b[0;31m             \u001b[0m_assert_all_finite\u001b[0m\u001b[0;34m(\u001b[0m\u001b[0marray\u001b[0m\u001b[0;34m,\u001b[0m \u001b[0mallow_nan\u001b[0m\u001b[0;34m=\u001b[0m\u001b[0mforce_all_finite\u001b[0m \u001b[0;34m==\u001b[0m \u001b[0;34m\"allow-nan\"\u001b[0m\u001b[0;34m)\u001b[0m\u001b[0;34m\u001b[0m\u001b[0;34m\u001b[0m\u001b[0m\n\u001b[0m\u001b[1;32m    801\u001b[0m \u001b[0;34m\u001b[0m\u001b[0m\n\u001b[1;32m    802\u001b[0m     \u001b[0;32mif\u001b[0m \u001b[0mensure_min_samples\u001b[0m \u001b[0;34m>\u001b[0m \u001b[0;36m0\u001b[0m\u001b[0;34m:\u001b[0m\u001b[0;34m\u001b[0m\u001b[0;34m\u001b[0m\u001b[0m\n",
            "\u001b[0;32m/usr/local/lib/python3.7/dist-packages/sklearn/utils/validation.py\u001b[0m in \u001b[0;36m_assert_all_finite\u001b[0;34m(X, allow_nan, msg_dtype)\u001b[0m\n\u001b[1;32m    114\u001b[0m             raise ValueError(\n\u001b[1;32m    115\u001b[0m                 msg_err.format(\n\u001b[0;32m--> 116\u001b[0;31m                     \u001b[0mtype_err\u001b[0m\u001b[0;34m,\u001b[0m \u001b[0mmsg_dtype\u001b[0m \u001b[0;32mif\u001b[0m \u001b[0mmsg_dtype\u001b[0m \u001b[0;32mis\u001b[0m \u001b[0;32mnot\u001b[0m \u001b[0;32mNone\u001b[0m \u001b[0;32melse\u001b[0m \u001b[0mX\u001b[0m\u001b[0;34m.\u001b[0m\u001b[0mdtype\u001b[0m\u001b[0;34m\u001b[0m\u001b[0;34m\u001b[0m\u001b[0m\n\u001b[0m\u001b[1;32m    117\u001b[0m                 )\n\u001b[1;32m    118\u001b[0m             )\n",
            "\u001b[0;31mValueError\u001b[0m: Input contains NaN, infinity or a value too large for dtype('float64')."
          ]
        }
      ]
    },
    {
      "cell_type": "markdown",
      "source": [
        "# TensorBoard for Model Evaluation"
      ],
      "metadata": {
        "id": "WXWdnAL1M2Pr"
      }
    },
    {
      "cell_type": "code",
      "metadata": {
        "id": "8p3Tbx8cWEFA"
      },
      "source": [
        "# Load the TensorBoard notebook extension\n",
        "%load_ext tensorboard\n",
        "# %reload_ext tensorboard\n",
        "\n",
        "%tensorboard --logdir /dir/\n",
        "\n",
        "# or use %tensorboard --logdir /dir/"
      ],
      "execution_count": null,
      "outputs": []
    },
    {
      "cell_type": "markdown",
      "source": [
        "# Solid Tissue Normal vs Primary Tumour Classifier\n"
      ],
      "metadata": {
        "id": "QPKNUWzNMWE4"
      }
    },
    {
      "cell_type": "code",
      "source": [
        "# Need to make data and labels variables \n",
        "\n",
        "import tensorflow as tf\n",
        "\n",
        "np.random.seed(129)\n",
        "tf.random.set_seed(129)"
      ],
      "metadata": {
        "id": "EvyHx-oDMhmK"
      },
      "execution_count": null,
      "outputs": []
    },
    {
      "cell_type": "code",
      "source": [],
      "metadata": {
        "id": "rCnC3qHWR2i-"
      },
      "execution_count": null,
      "outputs": []
    },
    {
      "cell_type": "markdown",
      "source": [
        "# JUST reference info below here"
      ],
      "metadata": {
        "id": "5NMjVFuqR5Mu"
      }
    },
    {
      "cell_type": "markdown",
      "source": [
        "# Support Vector Machine"
      ],
      "metadata": {
        "id": "94duigwwOmCe"
      }
    },
    {
      "cell_type": "code",
      "source": [
        "## Encode the labels in 1 hot encoding\n",
        "from sklearn import svm\n",
        "from sklearn.metrics import plot_confusion_matrix\n",
        "from sklearn.preprocessing import LabelEncoder\n",
        "from keras.utils.np_utils import to_categorical\n",
        "\n",
        "encoder = LabelEncoder()\n",
        "encoder.fit(labels)\n",
        "encoded_Y = encoder.transform(labels)\n",
        "# convert integers to dummy variables (i.e. one hot encoded)\n",
        "X_train, X_test, y_train, y_test = train_test_split(data, labels, test_size=0.33, random_state=42)\n",
        "\n",
        "# Run a SVM\n",
        "# https://scikit-learn.org/stable/modules/svm.html\n",
        "clf = svm.SVC(kernel='rbf')\n",
        "clf.fit(X_train, y_train)\n",
        "plot_confusion_matrix(clf, X_test, y_test)  \n",
        "plt.show()\n",
        "plot_confusion_matrix(clf, data, labels) "
      ],
      "metadata": {
        "id": "5AlkMnmuLjJv"
      },
      "execution_count": null,
      "outputs": []
    },
    {
      "cell_type": "markdown",
      "source": [
        "# Neural Network\n"
      ],
      "metadata": {
        "id": "Ptlhfnh7O5IQ"
      }
    },
    {
      "cell_type": "code",
      "source": [
        "# convert integers to dummy variables (i.e. one hot encoded)\n",
        "dummy_y = np_utils.to_categorical(encoded_Y)\n",
        "X_train, X_test, y_train, y_test = train_test_split(data, dummy_y, test_size=0.33, random_state=42)\n",
        "# create model\n",
        "\n",
        "model = Sequential()\n",
        "model.add(Dense(2,  activation='sigmoid', input_shape=(3,),  name=\"bottleneck\"))\n",
        "model.add(Dense(3,  activation='softmax'))\n",
        "\n",
        "\n",
        "#model.compile(loss='categorical_crossentropy', optimizer='adam', metrics=['accuracy'])\n",
        "model.compile(loss='binary_crossentropy', optimizer='adam', metrics=['accuracy'])\n",
        "\n",
        "model.fit(X_train, y_train, epochs = 150, batch_size = 4)"
      ],
      "metadata": {
        "id": "TyUNyrEkO8dg"
      },
      "execution_count": null,
      "outputs": []
    },
    {
      "cell_type": "code",
      "source": [
        "scores = model.evaluate(X_test, y_test)\n",
        "print(\"\\n%s: %.2f%%\" % (model.metrics_names[1], scores[1]*100))"
      ],
      "metadata": {
        "id": "rDi60GXnO__n"
      },
      "execution_count": null,
      "outputs": []
    },
    {
      "cell_type": "code",
      "source": [
        "encoder_p = Model(model.input, model.get_layer('bottleneck').output)\n",
        "\n",
        "nn_enc = encoder_p.predict(data)  # bottleneck representation\n",
        "\n",
        "# plot\n",
        "for tissue in tissues:\n",
        "    tissue_idxs = np.where(df['tissue'].values == tissue)\n",
        "    sc = plt.scatter(nn_enc[tissue_idxs, 0], nn_enc[tissue_idxs, 1], s=60, label=tissue, marker='o', alpha=0.8)\n",
        "    \n",
        "ax.set_xlabel('AE 0')\n",
        "ax.set_ylabel('AE 1')\n",
        "plt.legend()\n",
        "plt.title('AE of age, years smoked, BMI')\n",
        "plt.show()\n",
        "\n",
        "\n",
        "df['AE0'] = nn_enc[:, 0]\n",
        "df['AE1'] = nn_enc[:, 1]\n",
        "\n",
        "# plot each of the features on the plot! We'll relate these later \n",
        "cmaps = ['BuGn', 'PuRd', 'YlOrBr']\n",
        "for i, s in enumerate(['bmi', 'smoke', 'age']):    \n",
        "    sc = plt.scatter(df['AE0'], df['AE1'], s=60, label=s, c=df[s], marker='o', alpha=0.8, cmap=cmaps[i])\n",
        "\n",
        "    ax.set_xlabel('BMI')\n",
        "    ax.set_ylabel('Smoked years')\n",
        "    plt.colorbar()\n",
        "    plt.title(f'AE BMI, Smoked years and Age, colour: {s}')\n",
        "    plt.show()"
      ],
      "metadata": {
        "id": "1SLh7AH7PDVI"
      },
      "execution_count": null,
      "outputs": []
    },
    {
      "cell_type": "markdown",
      "source": [
        "# Check Metrics of Models"
      ],
      "metadata": {
        "id": "0qSehfcbPHsm"
      }
    },
    {
      "cell_type": "code",
      "source": [
        "from sklearn.metrics import confusion_matrix\n",
        "from keras.utils.np_utils import to_categorical\n",
        "\n",
        "predictions = model.predict(data)\n",
        "prediction_ = np.argmax(predictions, axis = 1)\n",
        "prediction_ = encoder.inverse_transform(prediction_)\n",
        "\n",
        "for i, j in zip(prediction_ , labels):\n",
        "    print( \" the nn predict {}, and the tumour stage is {}\".format(i,j))\n",
        "confusion_matrix(prediction_, labels)\n"
      ],
      "metadata": {
        "id": "ayH3gfImPKy9"
      },
      "execution_count": null,
      "outputs": []
    },
    {
      "cell_type": "markdown",
      "source": [
        "# New Section"
      ],
      "metadata": {
        "id": "dWF7KdPUPwsA"
      }
    }
  ],
  "metadata": {
    "kernelspec": {
      "display_name": "Python 3 (ipykernel)",
      "language": "python",
      "name": "python3"
    },
    "language_info": {
      "codemirror_mode": {
        "name": "ipython",
        "version": 3
      },
      "file_extension": ".py",
      "mimetype": "text/x-python",
      "name": "python",
      "nbconvert_exporter": "python",
      "pygments_lexer": "ipython3",
      "version": "3.9.12"
    },
    "colab": {
      "provenance": [],
      "toc_visible": true,
      "collapsed_sections": [],
      "include_colab_link": true
    }
  },
  "nbformat": 4,
  "nbformat_minor": 0
}