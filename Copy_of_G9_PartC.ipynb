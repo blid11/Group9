{
  "cells": [
    {
      "cell_type": "markdown",
      "metadata": {
        "id": "view-in-github",
        "colab_type": "text"
      },
      "source": [
        "<a href=\"https://colab.research.google.com/github/blid11/Group9/blob/Brett/Copy_of_G9_PartC.ipynb\" target=\"_parent\"><img src=\"https://colab.research.google.com/assets/colab-badge.svg\" alt=\"Open In Colab\"/></a>"
      ]
    },
    {
      "cell_type": "markdown",
      "source": [
        "Changes made in this Colab notebook can be saved with Control/Command S and do not need to be pushed to Github. "
      ],
      "metadata": {
        "id": "rKNr9ou87aZT"
      }
    },
    {
      "cell_type": "code",
      "execution_count": 4,
      "metadata": {
        "id": "W-IfC5rw1Bjz"
      },
      "outputs": [],
      "source": [
        "\n",
        "# Import libaries needed\n",
        "import pandas as pd\n",
        "from keras.models import Sequential\n",
        "from keras.layers import Dense\n",
        "from keras.wrappers.scikit_learn import KerasClassifier\n",
        "from keras.utils import np_utils\n",
        "from sklearn.model_selection import train_test_split\n",
        "import matplotlib.pyplot as plt\n",
        "import numpy as np\n",
        "import seaborn as sns\n",
        "\n",
        "# made a change in colab"
      ]
    },
    {
      "cell_type": "code",
      "source": [
        "from google.colab import drive \n",
        "drive.mount('/content/gdrive', force_remount=True)\n",
        "\n",
        "%cd gdrive/My Drive/G9A2/G9\n",
        " \n",
        "#%cd gdrive/My Drive/G9A2\n",
        "# I made a folder on my google drive that has the G9 Methylation data and the binfpy library\n",
        "#this code automatically loads it in\n",
        "# you can do the same with your google drive. "
      ],
      "metadata": {
        "colab": {
          "base_uri": "https://localhost:8080/"
        },
        "id": "uFIumj0w2JpL",
        "outputId": "a2ad2270-31af-4a68-8844-d1742ef4b8ca"
      },
      "execution_count": 1,
      "outputs": [
        {
          "output_type": "stream",
          "name": "stdout",
          "text": [
            "Mounted at /content/gdrive\n",
            "/content/gdrive/My Drive/G9A2/G9\n"
          ]
        }
      ]
    },
    {
      "cell_type": "code",
      "source": [
        "#set styles of plots - taken from Week 6 notebook\n",
        "sns.set_theme(style=\"ticks\")\n",
        "\n",
        "sns.set(rc={'figure.figsize': (5, 5), 'font.family': 'sans-serif',\n",
        "            'font.sans-serif': 'Arial', 'font.size': 10, 'axes.titlesize': 16,\n",
        "           'axes.titleweight': 700}, style='ticks')\n",
        "sns.set_palette(\"Set2\")"
      ],
      "metadata": {
        "id": "STY_segOJfSz"
      },
      "execution_count": null,
      "outputs": []
    },
    {
      "cell_type": "markdown",
      "source": [
        "# Read in the data\n"
      ],
      "metadata": {
        "id": "2E_eI04DJqW1"
      }
    },
    {
      "cell_type": "code",
      "source": [
        "!ls"
      ],
      "metadata": {
        "id": "PqpS2PFLKt3g",
        "outputId": "86d61b19-dfe1-4c4e-b98f-5710a1bebb64",
        "colab": {
          "base_uri": "https://localhost:8080/"
        }
      },
      "execution_count": 2,
      "outputs": [
        {
          "output_type": "stream",
          "name": "stdout",
          "text": [
            "G9_liver_dna-meth.csv  G9_liver_gene-expr.csv\n"
          ]
        }
      ]
    },
    {
      "cell_type": "code",
      "source": [
        "liver_meth_dna = pd.read_csv('G9_liver_dna-meth.csv')\n",
        "liver_gene_expr = pd.read_csv('G9_liver_gene-expr.csv')\n"
      ],
      "metadata": {
        "id": "uISKKBYlJpLm"
      },
      "execution_count": 7,
      "outputs": []
    },
    {
      "cell_type": "markdown",
      "source": [
        "# TensorBoard for Model Evaluation"
      ],
      "metadata": {
        "id": "WXWdnAL1M2Pr"
      }
    },
    {
      "cell_type": "code",
      "metadata": {
        "id": "8p3Tbx8cWEFA"
      },
      "source": [
        "# Load the TensorBoard notebook extension\n",
        "%load_ext tensorboard\n",
        "# %reload_ext tensorboard\n",
        "\n",
        "%tensorboard --logdir /dir/\n",
        "\n",
        "# or use %tensorboard --logdir /dir/"
      ],
      "execution_count": null,
      "outputs": []
    },
    {
      "cell_type": "markdown",
      "source": [
        "# Solid Tissue Normal vs Primary Tumour Classifier\n"
      ],
      "metadata": {
        "id": "QPKNUWzNMWE4"
      }
    },
    {
      "cell_type": "code",
      "source": [],
      "metadata": {
        "id": "EvyHx-oDMhmK"
      },
      "execution_count": null,
      "outputs": []
    },
    {
      "cell_type": "markdown",
      "source": [
        "# Support Vector Machine"
      ],
      "metadata": {
        "id": "94duigwwOmCe"
      }
    },
    {
      "cell_type": "code",
      "source": [
        "## Encode the labels in 1 hot encoding\n",
        "from sklearn import svm\n",
        "from sklearn.metrics import plot_confusion_matrix\n",
        "from sklearn.preprocessing import LabelEncoder\n",
        "from keras.utils.np_utils import to_categorical\n",
        "\n",
        "encoder = LabelEncoder()\n",
        "encoder.fit(labels)\n",
        "encoded_Y = encoder.transform(labels)\n",
        "# convert integers to dummy variables (i.e. one hot encoded)\n",
        "X_train, X_test, y_train, y_test = train_test_split(data, labels, test_size=0.33, random_state=42)\n",
        "\n",
        "# Run a SVM\n",
        "# https://scikit-learn.org/stable/modules/svm.html\n",
        "clf = svm.SVC(kernel='rbf')\n",
        "clf.fit(X_train, y_train)\n",
        "plot_confusion_matrix(clf, X_test, y_test)  \n",
        "plt.show()\n",
        "plot_confusion_matrix(clf, data, labels) "
      ],
      "metadata": {
        "id": "5AlkMnmuLjJv"
      },
      "execution_count": null,
      "outputs": []
    },
    {
      "cell_type": "markdown",
      "source": [
        "# Neural Network\n"
      ],
      "metadata": {
        "id": "Ptlhfnh7O5IQ"
      }
    },
    {
      "cell_type": "code",
      "source": [
        "# convert integers to dummy variables (i.e. one hot encoded)\n",
        "dummy_y = np_utils.to_categorical(encoded_Y)\n",
        "X_train, X_test, y_train, y_test = train_test_split(data, dummy_y, test_size=0.33, random_state=42)\n",
        "# create model\n",
        "\n",
        "model = Sequential()\n",
        "model.add(Dense(2,  activation='sigmoid', input_shape=(3,),  name=\"bottleneck\"))\n",
        "model.add(Dense(3,  activation='softmax'))\n",
        "\n",
        "\n",
        "#model.compile(loss='categorical_crossentropy', optimizer='adam', metrics=['accuracy'])\n",
        "model.compile(loss='binary_crossentropy', optimizer='adam', metrics=['accuracy'])\n",
        "\n",
        "model.fit(X_train, y_train, epochs = 150, batch_size = 4)"
      ],
      "metadata": {
        "id": "TyUNyrEkO8dg"
      },
      "execution_count": null,
      "outputs": []
    },
    {
      "cell_type": "code",
      "source": [
        "scores = model.evaluate(X_test, y_test)\n",
        "print(\"\\n%s: %.2f%%\" % (model.metrics_names[1], scores[1]*100))"
      ],
      "metadata": {
        "id": "rDi60GXnO__n"
      },
      "execution_count": null,
      "outputs": []
    },
    {
      "cell_type": "code",
      "source": [
        "encoder_p = Model(model.input, model.get_layer('bottleneck').output)\n",
        "\n",
        "nn_enc = encoder_p.predict(data)  # bottleneck representation\n",
        "\n",
        "# plot\n",
        "for tissue in tissues:\n",
        "    tissue_idxs = np.where(df['tissue'].values == tissue)\n",
        "    sc = plt.scatter(nn_enc[tissue_idxs, 0], nn_enc[tissue_idxs, 1], s=60, label=tissue, marker='o', alpha=0.8)\n",
        "    \n",
        "ax.set_xlabel('AE 0')\n",
        "ax.set_ylabel('AE 1')\n",
        "plt.legend()\n",
        "plt.title('AE of age, years smoked, BMI')\n",
        "plt.show()\n",
        "\n",
        "\n",
        "df['AE0'] = nn_enc[:, 0]\n",
        "df['AE1'] = nn_enc[:, 1]\n",
        "\n",
        "# plot each of the features on the plot! We'll relate these later \n",
        "cmaps = ['BuGn', 'PuRd', 'YlOrBr']\n",
        "for i, s in enumerate(['bmi', 'smoke', 'age']):    \n",
        "    sc = plt.scatter(df['AE0'], df['AE1'], s=60, label=s, c=df[s], marker='o', alpha=0.8, cmap=cmaps[i])\n",
        "\n",
        "    ax.set_xlabel('BMI')\n",
        "    ax.set_ylabel('Smoked years')\n",
        "    plt.colorbar()\n",
        "    plt.title(f'AE BMI, Smoked years and Age, colour: {s}')\n",
        "    plt.show()"
      ],
      "metadata": {
        "id": "1SLh7AH7PDVI"
      },
      "execution_count": null,
      "outputs": []
    },
    {
      "cell_type": "markdown",
      "source": [
        "# Check Metrics of Models"
      ],
      "metadata": {
        "id": "0qSehfcbPHsm"
      }
    },
    {
      "cell_type": "code",
      "source": [
        "from sklearn.metrics import confusion_matrix\n",
        "from keras.utils.np_utils import to_categorical\n",
        "\n",
        "predictions = model.predict(data)\n",
        "prediction_ = np.argmax(predictions, axis = 1)\n",
        "prediction_ = encoder.inverse_transform(prediction_)\n",
        "\n",
        "for i, j in zip(prediction_ , labels):\n",
        "    print( \" the nn predict {}, and the tumour stage is {}\".format(i,j))\n",
        "confusion_matrix(prediction_, labels)\n"
      ],
      "metadata": {
        "id": "ayH3gfImPKy9"
      },
      "execution_count": null,
      "outputs": []
    },
    {
      "cell_type": "markdown",
      "source": [
        "# New Section"
      ],
      "metadata": {
        "id": "dWF7KdPUPwsA"
      }
    }
  ],
  "metadata": {
    "kernelspec": {
      "display_name": "Python 3 (ipykernel)",
      "language": "python",
      "name": "python3"
    },
    "language_info": {
      "codemirror_mode": {
        "name": "ipython",
        "version": 3
      },
      "file_extension": ".py",
      "mimetype": "text/x-python",
      "name": "python",
      "nbconvert_exporter": "python",
      "pygments_lexer": "ipython3",
      "version": "3.9.12"
    },
    "colab": {
      "provenance": [],
      "toc_visible": true,
      "collapsed_sections": [],
      "include_colab_link": true
    }
  },
  "nbformat": 4,
  "nbformat_minor": 0
}